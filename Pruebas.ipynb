{
 "cells": [
  {
   "cell_type": "code",
   "execution_count": 4,
   "metadata": {
    "collapsed": false,
    "deletable": true,
    "editable": true
   },
   "outputs": [
    {
     "name": "stdout",
     "output_type": "stream",
     "text": [
      "TO-DO: DOCUMENTATION\n",
      "TO-DO: DOCUMENTATION\n",
      "TO-DO: DOCUMENTATION\n",
      "TO-DO: DOCUMENTATION\n",
      "TO-DO: DOCUMENTATION\n",
      "TO-DO: DOCUMENTATION\n",
      "TO-DO: DOCUMENTATION\n",
      "TO-DO: DOCUMENTATION\n",
      "4.68400001526\n"
     ]
    },
    {
     "ename": "KeyboardInterrupt",
     "evalue": "",
     "output_type": "error",
     "traceback": [
      "\u001b[1;31m---------------------------------------------------------------------------\u001b[0m",
      "\u001b[1;31mKeyboardInterrupt\u001b[0m                         Traceback (most recent call last)",
      "\u001b[1;32m<ipython-input-4-9c04583f51eb>\u001b[0m in \u001b[0;36m<module>\u001b[1;34m()\u001b[0m\n\u001b[0;32m     18\u001b[0m \u001b[1;33m\u001b[0m\u001b[0m\n\u001b[0;32m     19\u001b[0m \u001b[0mstart\u001b[0m \u001b[1;33m=\u001b[0m \u001b[0mtime\u001b[0m\u001b[1;33m.\u001b[0m\u001b[0mtime\u001b[0m\u001b[1;33m(\u001b[0m\u001b[1;33m)\u001b[0m\u001b[1;33m;\u001b[0m \u001b[0mMRI1\u001b[0m \u001b[1;33m=\u001b[0m \u001b[0mendo\u001b[0m\u001b[1;33m.\u001b[0m\u001b[0mPyQCM\u001b[0m\u001b[1;33m(\u001b[0m\u001b[0mpath\u001b[0m\u001b[1;33m,\u001b[0m \u001b[0mlandmarks\u001b[0m\u001b[1;33m[\u001b[0m\u001b[1;36m0\u001b[0m\u001b[1;33m]\u001b[0m\u001b[1;33m,\u001b[0m \u001b[0mlandmarks\u001b[0m\u001b[1;33m[\u001b[0m\u001b[1;36m1\u001b[0m\u001b[1;33m]\u001b[0m\u001b[1;33m)\u001b[0m\u001b[1;33m;\u001b[0m \u001b[1;32mprint\u001b[0m\u001b[1;33m(\u001b[0m\u001b[0mtime\u001b[0m\u001b[1;33m.\u001b[0m\u001b[0mtime\u001b[0m\u001b[1;33m(\u001b[0m\u001b[1;33m)\u001b[0m \u001b[1;33m-\u001b[0m \u001b[0mstart\u001b[0m\u001b[1;33m)\u001b[0m\u001b[1;33m\u001b[0m\u001b[0m\n\u001b[1;32m---> 20\u001b[1;33m \u001b[0mstart\u001b[0m \u001b[1;33m=\u001b[0m \u001b[0mtime\u001b[0m\u001b[1;33m.\u001b[0m\u001b[0mtime\u001b[0m\u001b[1;33m(\u001b[0m\u001b[1;33m)\u001b[0m\u001b[1;33m;\u001b[0m \u001b[0mMRI2\u001b[0m \u001b[1;33m=\u001b[0m \u001b[0mendoOld\u001b[0m\u001b[1;33m.\u001b[0m\u001b[0mPyQCM\u001b[0m\u001b[1;33m(\u001b[0m\u001b[0mpath\u001b[0m\u001b[1;33m,\u001b[0m \u001b[0mlandmarks\u001b[0m\u001b[1;33m[\u001b[0m\u001b[1;36m0\u001b[0m\u001b[1;33m]\u001b[0m\u001b[1;33m,\u001b[0m \u001b[0mlandmarks\u001b[0m\u001b[1;33m[\u001b[0m\u001b[1;36m1\u001b[0m\u001b[1;33m]\u001b[0m\u001b[1;33m)\u001b[0m\u001b[1;33m;\u001b[0m \u001b[1;32mprint\u001b[0m\u001b[1;33m(\u001b[0m\u001b[0mtime\u001b[0m\u001b[1;33m.\u001b[0m\u001b[0mtime\u001b[0m\u001b[1;33m(\u001b[0m\u001b[1;33m)\u001b[0m \u001b[1;33m-\u001b[0m \u001b[0mstart\u001b[0m\u001b[1;33m)\u001b[0m\u001b[1;33m\u001b[0m\u001b[0m\n\u001b[0m",
      "\u001b[1;32mC:\\Users\\guill\\Documents\\Git\\pyqcm\\endoOld.py\u001b[0m in \u001b[0;36m__init__\u001b[1;34m(self, path, septum, apex, output_path)\u001b[0m\n\u001b[0;32m    147\u001b[0m \u001b[1;33m\u001b[0m\u001b[0m\n\u001b[0;32m    148\u001b[0m         \u001b[1;32mwhile\u001b[0m\u001b[1;33m(\u001b[0m\u001b[0mselected\u001b[0m\u001b[1;33m)\u001b[0m\u001b[1;33m:\u001b[0m\u001b[1;33m\u001b[0m\u001b[0m\n\u001b[1;32m--> 149\u001b[1;33m             \u001b[1;32mif\u001b[0m \u001b[0mself\u001b[0m\u001b[1;33m.\u001b[0m\u001b[0mseptum\u001b[0m \u001b[1;32mis\u001b[0m \u001b[0mNone\u001b[0m\u001b[1;33m:\u001b[0m\u001b[1;33m\u001b[0m\u001b[0m\n\u001b[0m\u001b[0;32m    150\u001b[0m                 \u001b[1;32mif\u001b[0m \u001b[0mself\u001b[0m\u001b[1;33m.\u001b[0m\u001b[0mapex\u001b[0m \u001b[1;32mis\u001b[0m \u001b[0mNone\u001b[0m\u001b[1;33m:\u001b[0m\u001b[1;33m\u001b[0m\u001b[0m\n\u001b[0;32m    151\u001b[0m \u001b[1;31m#                     print(\"Apical and septal points not selected. Click inside \"  + \\\\\u001b[0m\u001b[1;33m\u001b[0m\u001b[1;33m\u001b[0m\u001b[0m\n",
      "\u001b[1;32mC:\\Users\\guill\\Documents\\Git\\pyqcm\\endoOld.py\u001b[0m in \u001b[0;36mseptum\u001b[1;34m(self)\u001b[0m\n\u001b[0;32m    253\u001b[0m     \u001b[1;33m@\u001b[0m\u001b[0mproperty\u001b[0m\u001b[1;33m\u001b[0m\u001b[0m\n\u001b[0;32m    254\u001b[0m     \u001b[1;32mdef\u001b[0m \u001b[0mseptum\u001b[0m\u001b[1;33m(\u001b[0m\u001b[0mself\u001b[0m\u001b[1;33m)\u001b[0m\u001b[1;33m:\u001b[0m\u001b[1;33m\u001b[0m\u001b[0m\n\u001b[1;32m--> 255\u001b[1;33m         \u001b[1;32mreturn\u001b[0m \u001b[0mself\u001b[0m\u001b[1;33m.\u001b[0m\u001b[0m__septum\u001b[0m\u001b[1;33m\u001b[0m\u001b[0m\n\u001b[0m\u001b[0;32m    256\u001b[0m \u001b[1;33m\u001b[0m\u001b[0m\n\u001b[0;32m    257\u001b[0m     \u001b[1;33m@\u001b[0m\u001b[0mseptum\u001b[0m\u001b[1;33m.\u001b[0m\u001b[0msetter\u001b[0m\u001b[1;33m\u001b[0m\u001b[0m\n",
      "\u001b[1;31mKeyboardInterrupt\u001b[0m: "
     ]
    }
   ],
   "source": [
    "import endo\n",
    "import endoOld\n",
    "import pyqcm\n",
    "import time\n",
    "import utils\n",
    "\n",
    "from os.path import abspath\n",
    "from os.path import join\n",
    "\n",
    "reload(endo)\n",
    "reload(endoOld)\n",
    "reload(pyqcm)\n",
    "reload(utils)\n",
    "\n",
    "path = join(abspath(''), 'Test_data', 'pat1_MRI_Layer_6.vtk')\n",
    "\n",
    "polydata = utils.polydataReader(path)\n",
    "\n",
    "landmarks = utils.landmarkSelector(polydata, 2)"
   ]
  },
  {
   "cell_type": "code",
   "execution_count": 1,
   "metadata": {
    "collapsed": true
   },
   "outputs": [],
   "source": [
    "from scipy.interpolate import Rbf"
   ]
  },
  {
   "cell_type": "code",
   "execution_count": null,
   "metadata": {
    "collapsed": true
   },
   "outputs": [],
   "source": [
    "Rbf()"
   ]
  },
  {
   "cell_type": "code",
   "execution_count": 18,
   "metadata": {
    "collapsed": true,
    "deletable": true,
    "editable": true
   },
   "outputs": [],
   "source": [
    "import VentricularImage"
   ]
  },
  {
   "cell_type": "code",
   "execution_count": 34,
   "metadata": {
    "collapsed": false,
    "deletable": true,
    "editable": true
   },
   "outputs": [
    {
     "name": "stdout",
     "output_type": "stream",
     "text": [
      "4.80100011826\n",
      "4.39599990845\n",
      "TO-DO: DOCUMENTATION\n",
      "TO-DO: DOCUMENTATION\n",
      "TO-DO: DOCUMENTATION\n",
      "TO-DO: DOCUMENTATION\n",
      "TO-DO: DOCUMENTATION\n",
      "TO-DO: DOCUMENTATION\n",
      "4.78800010681\n"
     ]
    }
   ],
   "source": [
    "reload(endo)\n",
    "reload(endoOld)\n",
    "reload(utils)\n",
    "reload(VentricularImage)\n",
    "\n",
    "start = time.time(); MRI2 = endoOld.PyQCM(path, landmarks[0], landmarks[1]); print(time.time() - start)\n",
    "start = time.time(); MRI3 = VentricularImage.VentricularQCM(path, landmarks[0], landmarks[1]); print(time.time() - start)\n",
    "start = time.time(); MRI1 = endo.PyQCM(path, landmarks[0], landmarks[1]); print(time.time() - start)\n"
   ]
  },
  {
   "cell_type": "code",
   "execution_count": 35,
   "metadata": {
    "collapsed": true,
    "deletable": true,
    "editable": true
   },
   "outputs": [],
   "source": [
    "from scipy.sparse import spdiags\n",
    "\n",
    "boundary1 = MRI1.boundary\n",
    "laplacian1 = MRI1.laplacian\n",
    "points1 = MRI1.points\n",
    "polygons1 = MRI1.polygons\n",
    "\n",
    "numPoints               = MRI1.polydata.GetNumberOfPoints()\n",
    "diagonal                = laplacian1.sum(0)\n",
    "diagonalSparse          = spdiags(diagonal, 0, numPoints, numPoints)\n",
    "laplacian1              = diagonalSparse - laplacian1\n",
    "\n",
    "boundary2 = MRI2.boundary\n",
    "laplacian2 = MRI2.laplacian\n",
    "points2 = MRI2.points\n",
    "polygons2 = MRI2.polygons\n",
    "\n",
    "boundary3 = MRI3.boundary\n",
    "laplacian3 = MRI3.laplacian\n",
    "points3 = MRI3.points\n",
    "polygons3 = MRI3.polygons\n"
   ]
  },
  {
   "cell_type": "code",
   "execution_count": 36,
   "metadata": {
    "collapsed": false,
    "deletable": true,
    "editable": true
   },
   "outputs": [
    {
     "name": "stdout",
     "output_type": "stream",
     "text": [
      "1\n",
      "1\n",
      "1\n"
     ]
    }
   ],
   "source": [
    "if (laplacian2 - laplacian3).nnz == 0:\n",
    "    print(1)\n",
    "\n",
    "if (laplacian1 - laplacian3).nnz == 0:\n",
    "    print(1)\n",
    "    \n",
    "if (laplacian1 - laplacian2).nnz == 0:\n",
    "    print(1)"
   ]
  },
  {
   "cell_type": "code",
   "execution_count": 37,
   "metadata": {
    "collapsed": false,
    "deletable": true,
    "editable": true
   },
   "outputs": [
    {
     "name": "stdout",
     "output_type": "stream",
     "text": [
      "1\n",
      "1\n",
      "1\n"
     ]
    }
   ],
   "source": [
    "import numpy\n",
    "\n",
    "if numpy.array_equal(boundary1, boundary2):\n",
    "    print(1)\n",
    "\n",
    "if numpy.array_equal(boundary1, boundary3):\n",
    "    print(1)\n",
    "    \n",
    "if numpy.array_equal(boundary2, boundary3):\n",
    "    print(1)"
   ]
  },
  {
   "cell_type": "code",
   "execution_count": 38,
   "metadata": {
    "collapsed": false,
    "deletable": true,
    "editable": true
   },
   "outputs": [
    {
     "name": "stdout",
     "output_type": "stream",
     "text": [
      "1\n",
      "1\n",
      "1\n"
     ]
    }
   ],
   "source": [
    "import numpy\n",
    "\n",
    "if numpy.array_equal(points1, points2):\n",
    "    print(1)\n",
    "\n",
    "if numpy.array_equal(points1, points3):\n",
    "    print(1)\n",
    "    \n",
    "if numpy.array_equal(points2, points3):\n",
    "    print(1)"
   ]
  },
  {
   "cell_type": "code",
   "execution_count": 39,
   "metadata": {
    "collapsed": false,
    "deletable": true,
    "editable": true
   },
   "outputs": [
    {
     "name": "stdout",
     "output_type": "stream",
     "text": [
      "1\n",
      "1\n",
      "1\n"
     ]
    }
   ],
   "source": [
    "import numpy\n",
    "\n",
    "if numpy.array_equal(polygons1, polygons2):\n",
    "    print(1)\n",
    "\n",
    "if numpy.array_equal(polygons1, polygons3):\n",
    "    print(1)\n",
    "    \n",
    "if numpy.array_equal(polygons2, polygons3):\n",
    "    print(1)"
   ]
  },
  {
   "cell_type": "code",
   "execution_count": 40,
   "metadata": {
    "collapsed": false,
    "deletable": true,
    "editable": true
   },
   "outputs": [
    {
     "name": "stdout",
     "output_type": "stream",
     "text": [
      "1\n"
     ]
    }
   ],
   "source": [
    "if MRI1.septum == MRI2.septum:\n",
    "    print(1)\n",
    "\n",
    "if MRI1.septum == MRI3.septum:\n",
    "    print(1)\n",
    "    \n",
    "if MRI2.septum == MRI3.septum:\n",
    "    print(1)"
   ]
  },
  {
   "cell_type": "code",
   "execution_count": 45,
   "metadata": {
    "collapsed": false,
    "deletable": true,
    "editable": true
   },
   "outputs": [
    {
     "name": "stdout",
     "output_type": "stream",
     "text": [
      "1\n",
      "1\n",
      "1\n"
     ]
    }
   ],
   "source": [
    "if MRI1.apex == MRI2.apex:\n",
    "    print(1)\n",
    "\n",
    "if MRI1.apex == MRI3.apex:\n",
    "    print(1)\n",
    "    \n",
    "if MRI2.apex == MRI3.apex:\n",
    "    print(1)"
   ]
  },
  {
   "cell_type": "code",
   "execution_count": 41,
   "metadata": {
    "collapsed": false,
    "deletable": true,
    "editable": true
   },
   "outputs": [
    {
     "data": {
      "text/plain": [
       "7905"
      ]
     },
     "execution_count": 41,
     "metadata": {},
     "output_type": "execute_result"
    }
   ],
   "source": [
    "MRI1.septum"
   ]
  },
  {
   "cell_type": "code",
   "execution_count": 42,
   "metadata": {
    "collapsed": false,
    "deletable": true,
    "editable": true
   },
   "outputs": [
    {
     "data": {
      "text/plain": [
       "15607L"
      ]
     },
     "execution_count": 42,
     "metadata": {},
     "output_type": "execute_result"
    }
   ],
   "source": [
    "MRI2.septum"
   ]
  },
  {
   "cell_type": "code",
   "execution_count": 43,
   "metadata": {
    "collapsed": false,
    "deletable": true,
    "editable": true
   },
   "outputs": [
    {
     "data": {
      "text/plain": [
       "15607L"
      ]
     },
     "execution_count": 43,
     "metadata": {},
     "output_type": "execute_result"
    }
   ],
   "source": [
    "MRI3.septum"
   ]
  },
  {
   "cell_type": "code",
   "execution_count": 44,
   "metadata": {
    "collapsed": false,
    "deletable": true,
    "editable": true
   },
   "outputs": [
    {
     "data": {
      "text/plain": [
       "15607L"
      ]
     },
     "execution_count": 44,
     "metadata": {},
     "output_type": "execute_result"
    }
   ],
   "source": [
    "landmarks[0]"
   ]
  },
  {
   "cell_type": "code",
   "execution_count": null,
   "metadata": {
    "collapsed": true,
    "deletable": true,
    "editable": true
   },
   "outputs": [],
   "source": []
  },
  {
   "cell_type": "code",
   "execution_count": null,
   "metadata": {
    "collapsed": true,
    "deletable": true,
    "editable": true
   },
   "outputs": [],
   "source": []
  },
  {
   "cell_type": "code",
   "execution_count": null,
   "metadata": {
    "collapsed": true,
    "deletable": true,
    "editable": true
   },
   "outputs": [],
   "source": []
  },
  {
   "cell_type": "code",
   "execution_count": 9,
   "metadata": {
    "collapsed": false,
    "deletable": true,
    "editable": true
   },
   "outputs": [
    {
     "data": {
      "text/plain": [
       "array([7905, 7902, 7900, ..., 7939, 7913, 7914])"
      ]
     },
     "execution_count": 9,
     "metadata": {},
     "output_type": "execute_result"
    }
   ],
   "source": [
    "boundary1"
   ]
  },
  {
   "cell_type": "code",
   "execution_count": 10,
   "metadata": {
    "collapsed": false,
    "deletable": true,
    "editable": true
   },
   "outputs": [
    {
     "data": {
      "text/plain": [
       "array([ 7905,  7914,  7913, ..., 14259,  7900,  7902])"
      ]
     },
     "execution_count": 10,
     "metadata": {},
     "output_type": "execute_result"
    }
   ],
   "source": [
    "boundary2"
   ]
  },
  {
   "cell_type": "code",
   "execution_count": null,
   "metadata": {
    "collapsed": true,
    "deletable": true,
    "editable": true
   },
   "outputs": [],
   "source": [
    "# import scipy, time, os, numpy\n",
    "# from os.path import abspath\n",
    "\n",
    "# septum_MRI = 201479 - 1\n",
    "# apex_MRI = 37963 - 1\n",
    "# path_MRI = join(abspath(''), 'Test_data', 'Layer_10_percent_colored.vtk')\n",
    "# # path_MRI = join(\"/home/guille/BitBucket/qcm/data/pat1/MRI\", \"pat1_MRI_Layer_6.vtk\")\n",
    "\n",
    "# # start = time.time(); MRI = PyQCM(path_MRI, septum_MRI, apex_MRI); print(time.time() - start)\n",
    "# start = time.time(); MRI = PyQCM(path_MRI, septum=septum_MRI, apex=apex_MRI); print(time.time() - start)\n"
   ]
  },
  {
   "cell_type": "code",
   "execution_count": null,
   "metadata": {
    "collapsed": true,
    "deletable": true,
    "editable": true
   },
   "outputs": [],
   "source": [
    "anterior = 26101\n",
    "posterior = 119238\n",
    "apex = 21354\n"
   ]
  },
  {
   "cell_type": "code",
   "execution_count": null,
   "metadata": {
    "collapsed": true,
    "deletable": true,
    "editable": true
   },
   "outputs": [],
   "source": [
    "import utils, vtk, numpy, scipy, scipy.sparse, time\n",
    "\n",
    "reload(utils)\n",
    "\n",
    "from os.path import abspath\n",
    "from os.path import join"
   ]
  },
  {
   "cell_type": "code",
   "execution_count": null,
   "metadata": {
    "collapsed": true,
    "deletable": true,
    "editable": true
   },
   "outputs": [],
   "source": [
    "path = join(abspath(''), 'Test_data', 'Layer_10_percent_colored.vtk')\n",
    "\n",
    "polydata = utils.polydataReader(path);"
   ]
  },
  {
   "cell_type": "code",
   "execution_count": null,
   "metadata": {
    "collapsed": true,
    "deletable": true,
    "editable": true
   },
   "outputs": [],
   "source": [
    "clip = vtk.vtkClipPolyData()"
   ]
  },
  {
   "cell_type": "code",
   "execution_count": null,
   "metadata": {
    "collapsed": true,
    "deletable": true,
    "editable": true
   },
   "outputs": [],
   "source": [
    "plane = vtk.vtkPlane()"
   ]
  },
  {
   "cell_type": "code",
   "execution_count": null,
   "metadata": {
    "collapsed": true,
    "deletable": true,
    "editable": true
   },
   "outputs": [],
   "source": []
  },
  {
   "cell_type": "code",
   "execution_count": null,
   "metadata": {
    "collapsed": true,
    "deletable": true,
    "editable": true
   },
   "outputs": [],
   "source": [
    "import numpy\n",
    "\n",
    "O = numpy.asarray(polydata.GetPoint(apex))\n",
    "A = numpy.asarray(polydata.GetPoint(anterior))\n",
    "B = numpy.asarray(polydata.GetPoint(posterior))\n",
    "\n",
    "OA = A - O\n",
    "OB = B - O"
   ]
  },
  {
   "cell_type": "code",
   "execution_count": null,
   "metadata": {
    "collapsed": true,
    "deletable": true,
    "editable": true
   },
   "outputs": [],
   "source": [
    "# Clipping plane 1\n",
    "from scipy.linalg import norm\n",
    "\n",
    "normal = numpy.cross(OA,OB)/norm(numpy.cross(OA,OB))\n",
    "\n",
    "plane.SetOrigin(polydata.GetPoint(apex))\n",
    "plane.SetNormal((normal[0], normal[1], normal[2]))\n",
    "\n",
    "polydata2 = polydata\n",
    "\n",
    "clip = vtk.vtkClipPolyData()\n",
    "clip.SetClipFunction(plane)\n",
    "clip.SetInputData(polydata2)\n",
    "clip.Update()\n",
    "polydata2 = clip.GetOutput()"
   ]
  },
  {
   "cell_type": "code",
   "execution_count": null,
   "metadata": {
    "collapsed": true,
    "deletable": true,
    "editable": true
   },
   "outputs": [],
   "source": [
    "# Clipping plane 2\n",
    "\n",
    "normal = numpy.cross(OB,OA)/norm(numpy.cross(OA,OB))\n",
    "\n",
    "plane.SetOrigin((polydata.GetPoint(apex)))\n",
    "plane.SetNormal((normal[0], normal[1], normal[2]))\n",
    "\n",
    "polydata3 = polydata\n",
    "\n",
    "clip = vtk.vtkClipPolyData()\n",
    "clip.SetClipFunction(plane)\n",
    "clip.SetInputData(polydata3)\n",
    "clip.Update()\n",
    "polydata3 = clip.GetOutput()"
   ]
  },
  {
   "cell_type": "code",
   "execution_count": null,
   "metadata": {
    "collapsed": true,
    "deletable": true,
    "editable": true
   },
   "outputs": [],
   "source": [
    "reload(utils)\n",
    "\n",
    "lands = utils.landmarkSelector(polydata,3)"
   ]
  },
  {
   "cell_type": "code",
   "execution_count": null,
   "metadata": {
    "collapsed": true,
    "deletable": true,
    "editable": true
   },
   "outputs": [],
   "source": [
    "reload(utils)\n",
    "\n",
    "polydata4 = utils.vtkClippingPlane(polydata, reverse=True)"
   ]
  },
  {
   "cell_type": "code",
   "execution_count": null,
   "metadata": {
    "collapsed": true,
    "deletable": true,
    "editable": true
   },
   "outputs": [],
   "source": [
    "import PointPicker\n",
    "\n",
    "ps = PointPicker.PointSelector()\n",
    "ps.DoSelection(polydata4)\n"
   ]
  },
  {
   "cell_type": "code",
   "execution_count": null,
   "metadata": {
    "collapsed": true,
    "deletable": true,
    "editable": true
   },
   "outputs": [],
   "source": [
    "# import PointPicker\n",
    "\n",
    "# ps = PointPicker.PointSelector()\n",
    "# ps.DoSelection(polydata)\n"
   ]
  },
  {
   "cell_type": "code",
   "execution_count": null,
   "metadata": {
    "collapsed": true,
    "deletable": true,
    "editable": true
   },
   "outputs": [],
   "source": [
    "# import PointPicker\n",
    "\n",
    "# ps = PointPicker.PointSelector()\n",
    "# ps.DoSelection(polydata2)\n"
   ]
  },
  {
   "cell_type": "code",
   "execution_count": null,
   "metadata": {
    "collapsed": true,
    "deletable": true,
    "editable": true
   },
   "outputs": [],
   "source": [
    "# import PointPicker\n",
    "\n",
    "# ps = PointPicker.PointSelector()\n",
    "# ps.DoSelection(polydata3)\n"
   ]
  },
  {
   "cell_type": "code",
   "execution_count": null,
   "metadata": {
    "collapsed": true,
    "deletable": true,
    "editable": true
   },
   "outputs": [],
   "source": [
    "start = time.time()\n",
    "\n",
    "polygons = utils.vtkCellsToNumpy(polydata)\n",
    "adjMatrix = utils.adjacencyMatrix(polydata, polygons)\n",
    "\n",
    "print(time.time() - start)"
   ]
  },
  {
   "cell_type": "code",
   "execution_count": null,
   "metadata": {
    "collapsed": true,
    "deletable": true,
    "editable": true
   },
   "outputs": [],
   "source": [
    "reload(utils)\n",
    "\n",
    "polygons4 = utils.vtkCellsToNumpy(polydata4)\n",
    "adjMatrix4 = utils.adjacencyMatrix(polydata4, polygons4)\n",
    "\n",
    "start = time.time(); boundary4 = utils.boundaryExtractor(polydata4, polygons4, adjMatrix4); print(time.time() - start)\n",
    "start = time.time(); boundary = utils.boundaryExtractor(polydata, polygons, adjMatrix); print(time.time() - start)"
   ]
  },
  {
   "cell_type": "code",
   "execution_count": null,
   "metadata": {
    "collapsed": true,
    "deletable": true,
    "editable": true
   },
   "outputs": [],
   "source": [
    "closestPointIndex       = None\n",
    "boundaryVector          = []\n",
    "totalBoundaryPoints     = 0\n",
    "# inBoundary              = False\n",
    "\n",
    "try:\n",
    "    point               = polydata.GetPoint(objectivePointId)\n",
    "except:\n",
    "    raise Exception(\"Mesh is empty or wrong objective point provided\")\n",
    "\n",
    "# Calculate the boundary if not provided\n",
    "if boundary is None:\n",
    "    if polygons is None:\n",
    "        polygons        = vtkCellsToNumpy(polydata)\n",
    "\n",
    "    if adjMatrix is None:\n",
    "        adjMatrix       = adjacencyMatrix(polydata, polygons)\n",
    "\n",
    "    boundary            = boundaryExtractor(polydata, polygons, adjMatrix)\n",
    "\n",
    "# For each of the boundaries:\n",
    "for i in range(0, len(boundary)):\n",
    "    # Check if the objective point is already part of a boundary and return\n",
    "    if (objectivePointId in boundary[i]) == True:\n",
    "        closestPointIndex   = where(boundary[i]==objectivePointId)\n",
    "\n",
    "        # If the index provided is contained in any boundary, mark it\n",
    "        if len(closestPointIndex) == 1:\n",
    "            if len(closestPointIndex[0]) == 1:\n",
    "                closestPointIndex = closestPointIndex[0][0]\n",
    "                break\n",
    "            else:\n",
    "                raise Exception(\"Mesh or boundary contains repeated point IDs\")\n",
    "        else:\n",
    "            raise Exception(\"Mesh or boundary contains repeated point IDs\")\n",
    "\n",
    "#         return closestPointIndex\n",
    "    # else:\n",
    "    #     inBoundary              = inBoundary and False\n",
    "\n",
    "    # If not, calculate the distance of the point to every point of each \n",
    "    # boundary. The index with the global lowest distance is selected\n",
    "    else:\n",
    "        # Calculate the distance to each point of each boundary\n",
    "        for i in range(0, len(boundary)):\n",
    "            totalBoundaryPoints     = totalBoundaryPoints + boundary[i].size\n",
    "            for j in range(0, len(boundary[i])):\n",
    "                boundaryVector.append(polydata.GetPoint(boundary[i][j]))\n",
    "\n",
    "boundaryVector              = asarray(boundaryVector)\n",
    "pointVector                 = repmat(point, totalBoundaryPoints, 1)\n",
    "\n",
    "distanceToObjectivePoint    = (boundaryVector - pointVector)\n",
    "distanceToObjectivePoint    = sqrt((distanceToObjectivePoint**2).sum(1))\n",
    "closestPointIndex           = where(distanceToObjectivePoint == distanceToObjectivePoint.min())\n",
    "\n",
    "if len(closestPointIndex) == 1:\n",
    "    if len(closestPointIndex[0]) == 1:\n",
    "        closestPointIndex   = closestPointIndex[0][0]\n",
    "    else:\n",
    "        raise Exception(\"Mesh or boundary contains repeated point IDs\")\n",
    "else:\n",
    "    raise Exception(\"Mesh or boundary contains repeated point IDs\")\n"
   ]
  },
  {
   "cell_type": "code",
   "execution_count": null,
   "metadata": {
    "collapsed": true,
    "deletable": true,
    "editable": true
   },
   "outputs": [],
   "source": [
    "reload(utils)\n",
    "\n",
    "lands = utils.landmarkSelector(polydata4,1)[0]\n",
    "\n",
    "start = time.time()\n",
    "(bnumb, Id) = utils.closestBoundaryId(polydata4, lands, boundary=boundary4)\n",
    "print(time.time() - start)\n",
    "\n",
    "utils.landmarkSelector(polydata4,3,[lands, boundary4[bnumb][Id]])\n"
   ]
  },
  {
   "cell_type": "code",
   "execution_count": null,
   "metadata": {
    "collapsed": true,
    "deletable": true,
    "editable": true
   },
   "outputs": [],
   "source": [
    "import matplotlib.pyplot"
   ]
  },
  {
   "cell_type": "code",
   "execution_count": null,
   "metadata": {
    "collapsed": true,
    "deletable": true,
    "editable": true
   },
   "outputs": [],
   "source": [
    "from mpl_toolkits.mplot3d import Axes3D\n",
    "\n",
    "\n",
    "fig = matplotlib.pyplot.figure()\n",
    "ax  = Axes3D(fig)\n",
    "matplotlib.pyplot.scatter(boundaryVector[:,0], boundaryVector[:,1], boundaryVector[:,2])\n",
    "matplotlib.pyplot.show()"
   ]
  },
  {
   "cell_type": "code",
   "execution_count": null,
   "metadata": {
    "collapsed": true,
    "deletable": true,
    "editable": true
   },
   "outputs": [],
   "source": [
    "Id"
   ]
  },
  {
   "cell_type": "code",
   "execution_count": null,
   "metadata": {
    "collapsed": true,
    "deletable": true,
    "editable": true
   },
   "outputs": [],
   "source": [
    "utils.landmarkSelector(polydata4,3,[lands, boundary4[bnumb][Id]])"
   ]
  },
  {
   "cell_type": "code",
   "execution_count": null,
   "metadata": {
    "collapsed": true,
    "deletable": true,
    "editable": true
   },
   "outputs": [],
   "source": [
    "asarray(polydata.GetPoint(closestPointIndex[0][0])) - asarray(polydata.GetPoint(objectivePointId))"
   ]
  },
  {
   "cell_type": "code",
   "execution_count": null,
   "metadata": {
    "collapsed": true,
    "deletable": true,
    "editable": true
   },
   "outputs": [],
   "source": [
    "asarray(polydata.GetPoint(closestPointIndex[0][1])) - asarray(polydata.GetPoint(objectivePointId))"
   ]
  },
  {
   "cell_type": "code",
   "execution_count": null,
   "metadata": {
    "collapsed": true,
    "deletable": true,
    "editable": true
   },
   "outputs": [],
   "source": [
    "polydata.GetPoint(closestPointIndex[0][1])"
   ]
  },
  {
   "cell_type": "code",
   "execution_count": null,
   "metadata": {
    "collapsed": true,
    "deletable": true,
    "editable": true
   },
   "outputs": [],
   "source": [
    "closestPointIndex[0][0]"
   ]
  },
  {
   "cell_type": "code",
   "execution_count": null,
   "metadata": {
    "collapsed": true,
    "deletable": true,
    "editable": true
   },
   "outputs": [],
   "source": [
    "distanceToObjectivePoint[closestPointIndex[0][0]]"
   ]
  },
  {
   "cell_type": "code",
   "execution_count": null,
   "metadata": {
    "collapsed": true,
    "deletable": true,
    "editable": true
   },
   "outputs": [],
   "source": [
    "distanceToObjectivePoint[closestPointIndex[0][1]]"
   ]
  },
  {
   "cell_type": "code",
   "execution_count": null,
   "metadata": {
    "collapsed": true,
    "deletable": true,
    "editable": true
   },
   "outputs": [],
   "source": [
    "objectivePointId"
   ]
  },
  {
   "cell_type": "code",
   "execution_count": null,
   "metadata": {
    "collapsed": true,
    "deletable": true,
    "editable": true
   },
   "outputs": [],
   "source": [
    "land = [1, 2]"
   ]
  },
  {
   "cell_type": "code",
   "execution_count": null,
   "metadata": {
    "collapsed": true,
    "deletable": true,
    "editable": true
   },
   "outputs": [],
   "source": [
    "land.reverse()"
   ]
  },
  {
   "cell_type": "code",
   "execution_count": null,
   "metadata": {
    "collapsed": true,
    "deletable": true,
    "editable": true
   },
   "outputs": [],
   "source": [
    "land"
   ]
  },
  {
   "cell_type": "code",
   "execution_count": null,
   "metadata": {
    "collapsed": true,
    "deletable": true,
    "editable": true
   },
   "outputs": [],
   "source": [
    "numpy.asmatrix(boundary)"
   ]
  },
  {
   "cell_type": "code",
   "execution_count": null,
   "metadata": {
    "collapsed": true,
    "deletable": true,
    "editable": true
   },
   "outputs": [],
   "source": [
    "numpy.asarray([boundary]).shape[1]"
   ]
  },
  {
   "cell_type": "code",
   "execution_count": null,
   "metadata": {
    "collapsed": true,
    "deletable": true,
    "editable": true
   },
   "outputs": [],
   "source": [
    "numpy.zeros((3,4))"
   ]
  },
  {
   "cell_type": "code",
   "execution_count": null,
   "metadata": {
    "collapsed": true,
    "deletable": true,
    "editable": true
   },
   "outputs": [],
   "source": [
    "A     = find(adjMatrix==1314)\n",
    "# A     = asarray([A[0].tolist(), A[1].tolist()])"
   ]
  },
  {
   "cell_type": "code",
   "execution_count": null,
   "metadata": {
    "collapsed": true,
    "deletable": true,
    "editable": true
   },
   "outputs": [],
   "source": [
    "if A[0].shape[0] == 0:\n",
    "    print(1)"
   ]
  },
  {
   "cell_type": "code",
   "execution_count": null,
   "metadata": {
    "collapsed": true,
    "deletable": true,
    "editable": true
   },
   "outputs": [],
   "source": [
    "boundary[0].size"
   ]
  },
  {
   "cell_type": "code",
   "execution_count": null,
   "metadata": {
    "collapsed": true,
    "deletable": true,
    "editable": true
   },
   "outputs": [],
   "source": [
    "if polygons is None:\n",
    "    polygons    = vtkCellsToNumpy(polydata)\n",
    "\n",
    "if adjMatrix is None:\n",
    "    adjMatrix   = adjacencyMatrix(polydata, polygons)\n",
    "\n",
    "preboundary     = find(adjMatrix==1)\n",
    "preboundary     = asarray([preboundary[0].tolist(), preboundary[1].tolist()])\n",
    "\n",
    "counter         = 0\n",
    "edgesUsed       = 0\n",
    "visited         = []\n",
    "boundary        = []\n",
    "\n",
    "print(int(preboundary.shape[1]/2))\n",
    "\n",
    "while(edgesUsed != int(preboundary.shape[1]/2)):\n",
    "    start           = preboundary[0,counter]\n",
    "\n",
    "    if (start in visited) == False:\n",
    "        current         = start\n",
    "        nxt             = preboundary[1,counter]\n",
    "        invalid         = [(nxt, current)]\n",
    "        boundaryAux     = [current]\n",
    "\n",
    "        while(nxt != start):\n",
    "            indices = where(preboundary[0,:]==nxt)[0]\n",
    "\n",
    "            edge1       = preboundary[:,indices[0]]\n",
    "            edge2       = preboundary[:,indices[1]]\n",
    "\n",
    "            if (edge1[0], edge1[1]) in invalid:\n",
    "                current = edge2[0]\n",
    "                nxt     = edge2[1]\n",
    "                invalid.append((nxt, current))\n",
    "                boundaryAux.append(current)\n",
    "                visited.append(current)\n",
    "                \n",
    "            elif (edge2[0], edge2[1]) in invalid:\n",
    "                current = edge1[0]\n",
    "                nxt     = edge1[1]\n",
    "                invalid.append((nxt, current))\n",
    "                boundaryAux.append(current)\n",
    "                visited.append(current)\n",
    "\n",
    "        edgesUsed = edgesUsed + len(boundaryAux)\n",
    "        boundaryAux = asarray(boundaryAux)\n",
    "        boundary.append(boundaryAux)\n",
    "        \n",
    "    counter = counter + 1\n",
    "    \n",
    "    print(edgesUsed)\n",
    "\n",
    "# return asarray(boundary)\n"
   ]
  },
  {
   "cell_type": "code",
   "execution_count": null,
   "metadata": {
    "collapsed": true,
    "deletable": true,
    "editable": true
   },
   "outputs": [],
   "source": [
    "boundary"
   ]
  },
  {
   "cell_type": "code",
   "execution_count": null,
   "metadata": {
    "collapsed": true,
    "deletable": true,
    "editable": true
   },
   "outputs": [],
   "source": [
    "boundary        = [[1]]"
   ]
  },
  {
   "cell_type": "code",
   "execution_count": null,
   "metadata": {
    "collapsed": true,
    "deletable": true,
    "editable": true
   },
   "outputs": [],
   "source": [
    "boundary[0][0]"
   ]
  },
  {
   "cell_type": "code",
   "execution_count": null,
   "metadata": {
    "collapsed": true,
    "deletable": true,
    "editable": true
   },
   "outputs": [],
   "source": [
    "preboundary.shape"
   ]
  },
  {
   "cell_type": "code",
   "execution_count": null,
   "metadata": {
    "collapsed": true,
    "deletable": true,
    "editable": true
   },
   "outputs": [],
   "source": [
    "O = O.tolist()"
   ]
  },
  {
   "cell_type": "code",
   "execution_count": null,
   "metadata": {
    "collapsed": true,
    "deletable": true,
    "editable": true
   },
   "outputs": [],
   "source": [
    "tuple(B)"
   ]
  },
  {
   "cell_type": "code",
   "execution_count": null,
   "metadata": {
    "collapsed": true,
    "deletable": true,
    "editable": true
   },
   "outputs": [],
   "source": []
  },
  {
   "cell_type": "code",
   "execution_count": null,
   "metadata": {
    "collapsed": true,
    "deletable": true,
    "editable": true
   },
   "outputs": [],
   "source": []
  },
  {
   "cell_type": "code",
   "execution_count": null,
   "metadata": {
    "collapsed": true,
    "deletable": true,
    "editable": true
   },
   "outputs": [],
   "source": []
  },
  {
   "cell_type": "code",
   "execution_count": null,
   "metadata": {
    "collapsed": true,
    "deletable": true,
    "editable": true
   },
   "outputs": [],
   "source": []
  },
  {
   "cell_type": "code",
   "execution_count": null,
   "metadata": {
    "collapsed": true,
    "deletable": true,
    "editable": true
   },
   "outputs": [],
   "source": [
    "reload(utils)\n",
    "\n",
    "lands4 = utils.landmarkSelector(polydata4,1)[0]\n",
    "\n",
    "# Id4 = utils.closestBoundaryId(polydata4, lands, boundary=boundary4)\n",
    "\n",
    "objectivePointId = lands4"
   ]
  },
  {
   "cell_type": "code",
   "execution_count": null,
   "metadata": {
    "collapsed": true,
    "deletable": true,
    "editable": true
   },
   "outputs": [],
   "source": [
    "closestPointIndex       = None\n",
    "boundaryVector          = []\n",
    "totalBoundaryPoints     = 0\n",
    "\n",
    "try:\n",
    "    point4               = polydata4.GetPoint(objectivePointId)\n",
    "except:\n",
    "    raise Exception(\"Mesh is empty or wrong objective point provided\")\n",
    "\n",
    "# Calculate the boundary if not provided\n",
    "if boundary4 is None:\n",
    "    if polygons4 is None:\n",
    "        polygons4        = vtkCellsToNumpy(polydata4)\n",
    "\n",
    "    if adjMatrix is None:\n",
    "        adjMatrix       = adjacencyMatrix(polydata4, polygons4)\n",
    "\n",
    "    boundary4            = boundary4Extractor(polydata4, polygons4, adjMatrix)\n",
    "\n",
    "# For each of the boundaries:\n",
    "for i in range(0, len(boundary4)):\n",
    "    totalBoundaryPoints     = totalBoundaryPoints + boundary4[i].size\n",
    "    # Check if the objective point is already part of a boundary4 and return\n",
    "    if (objectivePointId in boundary4[i]) == True:\n",
    "        closestPointIndex   = where(boundary4[i]==objectivePointId)\n",
    "\n",
    "        # If the index provided is contained in any boundary4, mark it\n",
    "        if len(closestPointIndex) == 1:\n",
    "            if len(closestPointIndex[0]) == 1:\n",
    "                closestPointIndex = closestPointIndex[0][0]\n",
    "                break\n",
    "            else:\n",
    "                raise Exception(\"Mesh or boundary contains repeated point IDs\")\n",
    "        else:\n",
    "            raise Exception(\"Mesh or boundary contains repeated point IDs\")\n",
    "\n",
    "#         return closestPointIndex\n",
    "    # If not, calculate the distance of the point to every point of each \n",
    "    # boundary. The index with the global lowest distance is selected\n",
    "    else:\n",
    "        # Calculate the distance to each point of each boundary\n",
    "        for j in range(0, len(boundary4[i])):\n",
    "            boundaryVector.append(polydata4.GetPoint(boundary4[i][j]))\n",
    "\n",
    "boundaryVector              = asarray(boundaryVector)\n",
    "pointVector                 = repmat(point4, totalBoundaryPoints, 1)\n",
    "\n",
    "distanceToObjectivePoint    = (boundaryVector - pointVector)\n",
    "distanceToObjectivePoint    = sqrt((distanceToObjectivePoint**2).sum(1))\n",
    "closestPointIndex           = where(distanceToObjectivePoint == distanceToObjectivePoint.min())\n",
    "\n",
    "if len(closestPointIndex) == 1:\n",
    "    if len(closestPointIndex[0]) == 1:\n",
    "        closestPointIndex   = closestPointIndex[0][0]\n",
    "    else:\n",
    "        raise Exception(\"Mesh or boundary contains repeated point IDs\")\n",
    "else:\n",
    "    raise Exception(\"Mesh or boundary contains repeated point IDs\")\n"
   ]
  },
  {
   "cell_type": "code",
   "execution_count": null,
   "metadata": {
    "collapsed": true,
    "deletable": true,
    "editable": true
   },
   "outputs": [],
   "source": [
    "totalBoundaryPoints"
   ]
  },
  {
   "cell_type": "code",
   "execution_count": null,
   "metadata": {
    "collapsed": true,
    "deletable": true,
    "editable": true
   },
   "outputs": [],
   "source": [
    "point4"
   ]
  },
  {
   "cell_type": "code",
   "execution_count": null,
   "metadata": {
    "collapsed": true,
    "deletable": true,
    "editable": true
   },
   "outputs": [],
   "source": []
  },
  {
   "cell_type": "code",
   "execution_count": null,
   "metadata": {
    "collapsed": true,
    "deletable": true,
    "editable": true
   },
   "outputs": [],
   "source": []
  },
  {
   "cell_type": "code",
   "execution_count": null,
   "metadata": {
    "collapsed": true,
    "deletable": true,
    "editable": true
   },
   "outputs": [],
   "source": []
  },
  {
   "cell_type": "code",
   "execution_count": null,
   "metadata": {
    "collapsed": true,
    "deletable": true,
    "editable": true
   },
   "outputs": [],
   "source": []
  },
  {
   "cell_type": "code",
   "execution_count": null,
   "metadata": {
    "collapsed": true,
    "deletable": true,
    "editable": true
   },
   "outputs": [],
   "source": []
  },
  {
   "cell_type": "code",
   "execution_count": null,
   "metadata": {
    "collapsed": true,
    "deletable": true,
    "editable": true
   },
   "outputs": [],
   "source": []
  },
  {
   "cell_type": "code",
   "execution_count": null,
   "metadata": {
    "collapsed": true,
    "deletable": true,
    "editable": true
   },
   "outputs": [],
   "source": []
  },
  {
   "cell_type": "code",
   "execution_count": null,
   "metadata": {
    "collapsed": true,
    "deletable": true,
    "editable": true
   },
   "outputs": [],
   "source": []
  },
  {
   "cell_type": "code",
   "execution_count": null,
   "metadata": {
    "collapsed": true,
    "deletable": true,
    "editable": true
   },
   "outputs": [],
   "source": [
    "l = utils.landmarkSelector(polydata, 2, [])\n"
   ]
  },
  {
   "cell_type": "code",
   "execution_count": null,
   "metadata": {
    "collapsed": true,
    "deletable": true,
    "editable": true
   },
   "outputs": [],
   "source": [
    "septum = l[0]\n",
    "apex   = l[1]"
   ]
  },
  {
   "cell_type": "code",
   "execution_count": null,
   "metadata": {
    "collapsed": true,
    "deletable": true,
    "editable": true
   },
   "outputs": [],
   "source": [
    "start = time.time()\n",
    "\n",
    "polydata                 = utils.polydataReader(path)\n",
    "points                   = utils.vtkPointsToNumpy(polydata)\n",
    "polygons                 = utils.vtkCellsToNumpy(polydata)\n",
    "laplacian                = utils.cotangentWeightsLaplacianMatrix(polydata, points, polygons)\n",
    "adjacencyMatrix          = utils.adjacencyMatrix(polydata, polygons)\n",
    "boundary                 = utils.boundaryExtractor(polydata, polygons, adjacencyMatrix)\n",
    "boundaryNumber, pointID  = utils.closestBoundaryId(polydata, septum, boundary=boundary)\n",
    "septum                   = boundary[boundaryNumber][pointID]\n",
    "\n",
    "print(time.time()-start)"
   ]
  },
  {
   "cell_type": "code",
   "execution_count": null,
   "metadata": {
    "collapsed": true,
    "deletable": true,
    "editable": true
   },
   "outputs": [],
   "source": [
    "boundary[0]"
   ]
  },
  {
   "cell_type": "code",
   "execution_count": null,
   "metadata": {
    "collapsed": true,
    "deletable": true,
    "editable": true
   },
   "outputs": [],
   "source": [
    "len(boundary)"
   ]
  },
  {
   "cell_type": "code",
   "execution_count": null,
   "metadata": {
    "collapsed": true,
    "deletable": true,
    "editable": true
   },
   "outputs": [],
   "source": [
    "l.reverse"
   ]
  },
  {
   "cell_type": "code",
   "execution_count": null,
   "metadata": {
    "collapsed": true,
    "deletable": true,
    "editable": true
   },
   "outputs": [],
   "source": [
    "start = time.time()\n",
    "(nzi, nzj)              = find(laplacian)[0:2]\n",
    "print(time.time()-start)"
   ]
  },
  {
   "cell_type": "code",
   "execution_count": null,
   "metadata": {
    "collapsed": true,
    "deletable": true,
    "editable": true
   },
   "outputs": [],
   "source": [
    "start = time.time()\n",
    "(nzi, nzj)              = laplacian.nonzero()\n",
    "print(time.time()-start)"
   ]
  },
  {
   "cell_type": "code",
   "execution_count": null,
   "metadata": {
    "collapsed": true,
    "deletable": true,
    "editable": true
   },
   "outputs": [],
   "source": [
    "print(nzi[0:10])\n",
    "print(nzj[0:10])"
   ]
  },
  {
   "cell_type": "code",
   "execution_count": null,
   "metadata": {
    "collapsed": true,
    "deletable": true,
    "editable": true
   },
   "outputs": [],
   "source": [
    "print(nzi[0:10])\n",
    "print(nzj[0:10])"
   ]
  },
  {
   "cell_type": "code",
   "execution_count": null,
   "metadata": {
    "collapsed": true,
    "deletable": true,
    "editable": true
   },
   "outputs": [],
   "source": []
  },
  {
   "cell_type": "code",
   "execution_count": null,
   "metadata": {
    "collapsed": true,
    "deletable": true,
    "editable": true
   },
   "outputs": [],
   "source": []
  },
  {
   "cell_type": "code",
   "execution_count": null,
   "metadata": {
    "collapsed": true,
    "deletable": true,
    "editable": true
   },
   "outputs": [],
   "source": []
  }
 ],
 "metadata": {
  "kernelspec": {
   "display_name": "Python 3",
   "language": "python",
   "name": "python3"
  },
  "language_info": {
   "codemirror_mode": {
    "name": "ipython",
    "version": 3
   },
   "file_extension": ".py",
   "mimetype": "text/x-python",
   "name": "python",
   "nbconvert_exporter": "python",
   "pygments_lexer": "ipython3",
   "version": "3.5.2+"
  }
 },
 "nbformat": 4,
 "nbformat_minor": 2
}
