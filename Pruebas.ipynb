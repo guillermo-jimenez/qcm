{
 "cells": [
  {
   "cell_type": "markdown",
   "metadata": {},
   "source": [
    "# Outcome"
   ]
  },
  {
   "cell_type": "code",
   "execution_count": 1,
   "metadata": {},
   "outputs": [
    {
     "data": {
      "text/plain": [
       "<module 'utils' from 'utils.pyc'>"
      ]
     },
     "execution_count": 1,
     "metadata": {},
     "output_type": "execute_result"
    }
   ],
   "source": [
    "import endo\n",
    "import time\n",
    "import utils\n",
    "\n",
    "from os.path import abspath\n",
    "from os.path import join\n",
    "\n",
    "reload(endo)\n",
    "reload(utils)"
   ]
  },
  {
   "cell_type": "code",
   "execution_count": 2,
   "metadata": {},
   "outputs": [
    {
     "name": "stdout",
     "output_type": "stream",
     "text": [
      "TO-DO: DOCUMENTATION\n",
      "TO-DO: DOCUMENTATION\n",
      "TO-DO: DOCUMENTATION\n",
      "TO-DO: DOCUMENTATION\n",
      "TO-DO: DOCUMENTATION\n",
      "TO-DO: DOCUMENTATION\n",
      "TO-DO: DOCUMENTATION\n",
      " *  Writing to default location: \n",
      "    /home/guille/BitBucket/pyqcm/Test_data/Results/MRI_Results.vtk\n",
      "\n",
      "TO-DO: DOCUMENTATION\n",
      "TO-DO: DOCUMENTATION\n",
      "TO-DO: DOCUMENTATION\n",
      "36.3420510292\n",
      "TO-DO: DOCUMENTATION\n",
      "TO-DO: DOCUMENTATION\n",
      "TO-DO: DOCUMENTATION\n",
      "TO-DO: DOCUMENTATION\n",
      "TO-DO: DOCUMENTATION\n",
      "TO-DO: DOCUMENTATION\n",
      "TO-DO: DOCUMENTATION\n",
      " *  Writing to default location: \n",
      "    /home/guille/BitBucket/pyqcm/Test_data/Results/EAM_Results.vtk\n",
      "\n",
      "TO-DO: DOCUMENTATION\n",
      "TO-DO: DOCUMENTATION\n",
      "TO-DO: DOCUMENTATION\n",
      "11.186207056\n"
     ]
    }
   ],
   "source": [
    "pathMRI = join(abspath(''), 'Test_data', 'MRI.vtk')\n",
    "pathEAM = join(abspath(''), 'Test_data', 'EAM.vtk')\n",
    "\n",
    "start = time.time(); MRI = endo.PyQCM(pathMRI); print(time.time() - start)\n",
    "start = time.time(); EAM = endo.PyQCM(pathEAM); print(time.time() - start)"
   ]
  },
  {
   "cell_type": "code",
   "execution_count": 3,
   "metadata": {},
   "outputs": [
    {
     "name": "stdout",
     "output_type": "stream",
     "text": [
      "TO-DO: DOCUMENTATION\n",
      "3.84719800949\n"
     ]
    }
   ],
   "source": [
    "start = time.time(); EAM2MRI = utils.vtkInterpolator(MRI, EAM); print(time.time() - start)"
   ]
  },
  {
   "cell_type": "code",
   "execution_count": 8,
   "metadata": {},
   "outputs": [
    {
     "name": "stdout",
     "output_type": "stream",
     "text": [
      "TO-DO: DOCUMENTATION\n",
      "TO-DO: DOCUMENTATION\n",
      "TO-DO: DOCUMENTATION\n"
     ]
    }
   ],
   "source": [
    "utils.vtkVisualize(EAM2MRI,0)\n",
    "utils.vtkVisualize(EAM2MRI,1)\n",
    "utils.vtkVisualize(EAM2MRI,2)"
   ]
  },
  {
   "cell_type": "markdown",
   "metadata": {},
   "source": [
    "# Tests"
   ]
  },
  {
   "cell_type": "code",
   "execution_count": 11,
   "metadata": {},
   "outputs": [],
   "source": [
    "import vtk, numpy"
   ]
  },
  {
   "cell_type": "code",
   "execution_count": 13,
   "metadata": {
    "collapsed": true
   },
   "outputs": [],
   "source": [
    "A = numpy.zeros((3,5))"
   ]
  },
  {
   "cell_type": "code",
   "execution_count": 18,
   "metadata": {
    "collapsed": true
   },
   "outputs": [],
   "source": [
    "A = EAM.adjacency_matrix"
   ]
  },
  {
   "cell_type": "code",
   "execution_count": 22,
   "metadata": {},
   "outputs": [
    {
     "data": {
      "text/plain": [
       "numpy.ndarray"
      ]
     },
     "execution_count": 22,
     "metadata": {},
     "output_type": "execute_result"
    }
   ],
   "source": [
    "type(EAM.boundary)"
   ]
  },
  {
   "cell_type": "code",
   "execution_count": 21,
   "metadata": {},
   "outputs": [
    {
     "ename": "AttributeError",
     "evalue": "can't set attribute",
     "output_type": "error",
     "traceback": [
      "\u001b[0;31m---------------------------------------------------------------------------\u001b[0m",
      "\u001b[0;31mAttributeError\u001b[0m                            Traceback (most recent call last)",
      "\u001b[0;32m<ipython-input-21-bd449a89a29d>\u001b[0m in \u001b[0;36m<module>\u001b[0;34m()\u001b[0m\n\u001b[0;32m----> 1\u001b[0;31m \u001b[0mEAM\u001b[0m\u001b[0;34m.\u001b[0m\u001b[0mseptum\u001b[0m \u001b[0;34m=\u001b[0m \u001b[0;36m6\u001b[0m\u001b[0;34m\u001b[0m\u001b[0m\n\u001b[0m",
      "\u001b[0;31mAttributeError\u001b[0m: can't set attribute"
     ]
    }
   ],
   "source": [
    "EAM.septum = 6"
   ]
  },
  {
   "cell_type": "code",
   "execution_count": null,
   "metadata": {
    "collapsed": true
   },
   "outputs": [],
   "source": [
    "# pathMRI = join(abspath(''), 'Test_data', 'MRI.vtk')\n",
    "\n",
    "# polydataMRI = utils.polydataReader(pathMRI)\n",
    "\n",
    "# landmarksMRI = utils.landmarkSelector(polydataMRI, 2)"
   ]
  },
  {
   "cell_type": "code",
   "execution_count": null,
   "metadata": {
    "collapsed": true
   },
   "outputs": [],
   "source": [
    "# pathEAM = join(abspath(''), 'Test_data', 'EAM.vtk')\n",
    "\n",
    "# polydataEAM = utils.polydataReader(pathEAM)\n",
    "\n",
    "# landmarksEAM = utils.landmarkSelector(polydataEAM, 2)"
   ]
  },
  {
   "cell_type": "code",
   "execution_count": null,
   "metadata": {
    "collapsed": true
   },
   "outputs": [],
   "source": [
    "# start = time.time(); MRI = endo.PyQCM(pathMRI, landmarksMRI[0], landmarksMRI[1]); print(time.time() - start)"
   ]
  },
  {
   "cell_type": "code",
   "execution_count": null,
   "metadata": {
    "collapsed": true
   },
   "outputs": [],
   "source": [
    "# start = time.time(); EAM = endo.PyQCM(pathEAM, landmarksEAM[0], landmarksEAM[1]); print(time.time() - start)"
   ]
  },
  {
   "cell_type": "code",
   "execution_count": null,
   "metadata": {
    "collapsed": true
   },
   "outputs": [],
   "source": [
    "# start = time.time()\n",
    "# newPoly = utils.vtkInterpolator(MRI, EAM)\n",
    "# print(time.time() - start)"
   ]
  }
 ],
 "metadata": {
  "kernelspec": {
   "display_name": "Python 2",
   "language": "python",
   "name": "python2"
  },
  "language_info": {
   "codemirror_mode": {
    "name": "ipython",
    "version": 2
   },
   "file_extension": ".py",
   "mimetype": "text/x-python",
   "name": "python",
   "nbconvert_exporter": "python",
   "pygments_lexer": "ipython2",
   "version": "2.7.12"
  }
 },
 "nbformat": 4,
 "nbformat_minor": 2
}
