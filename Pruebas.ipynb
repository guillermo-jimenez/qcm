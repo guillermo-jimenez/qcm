{
 "cells": [
  {
   "cell_type": "markdown",
   "metadata": {},
   "source": [
    "# Outcome"
   ]
  },
  {
   "cell_type": "code",
   "execution_count": 3,
   "metadata": {},
   "outputs": [
    {
     "data": {
      "text/plain": [
       "<module 'utils' from 'utils.pyc'>"
      ]
     },
     "execution_count": 3,
     "metadata": {},
     "output_type": "execute_result"
    }
   ],
   "source": [
    "import endo\n",
    "import time\n",
    "import utils\n",
    "\n",
    "from os.path import abspath\n",
    "from os.path import join\n",
    "\n",
    "reload(endo)\n",
    "reload(utils)"
   ]
  },
  {
   "cell_type": "code",
   "execution_count": 4,
   "metadata": {
    "collapsed": true
   },
   "outputs": [],
   "source": [
    "pathMRI = join(abspath(''), 'Test_data', 'MRI.vtk')\n",
    "pathEAM = join(abspath(''), 'Test_data', 'EAM.vtk')"
   ]
  },
  {
   "cell_type": "code",
   "execution_count": 5,
   "metadata": {},
   "outputs": [
    {
     "name": "stdout",
     "output_type": "stream",
     "text": [
      " *  Writing to default location: \n",
      "    /home/guille/BitBucket/pyqcm/Test_data/Results/MRI_Results.vtk\n",
      "\n",
      "29.4095289707\n"
     ]
    }
   ],
   "source": [
    "start = time.time(); MRI = endo.PyQCM(pathMRI); print(time.time() - start)"
   ]
  },
  {
   "cell_type": "code",
   "execution_count": 6,
   "metadata": {},
   "outputs": [
    {
     "name": "stdout",
     "output_type": "stream",
     "text": [
      " *  Writing to default location: \n",
      "    /home/guille/BitBucket/pyqcm/Test_data/Results/EAM_Results.vtk\n",
      "\n",
      "21.3287870884\n"
     ]
    }
   ],
   "source": [
    "start = time.time(); EAM = endo.PyQCM(pathEAM); print(time.time() - start)"
   ]
  },
  {
   "cell_type": "code",
   "execution_count": 7,
   "metadata": {},
   "outputs": [
    {
     "name": "stdout",
     "output_type": "stream",
     "text": [
      "3.50313901901\n"
     ]
    }
   ],
   "source": [
    "start = time.time(); EAM2MRI = utils.vtkInterpolator(MRI, EAM); print(time.time() - start)"
   ]
  },
  {
   "cell_type": "code",
   "execution_count": 8,
   "metadata": {},
   "outputs": [],
   "source": [
    "utils.vtkVisualize(EAM2MRI,0)\n",
    "utils.vtkVisualize(EAM2MRI,1)\n",
    "utils.vtkVisualize(EAM2MRI,2)"
   ]
  },
  {
   "cell_type": "markdown",
   "metadata": {},
   "source": [
    "# Tests"
   ]
  },
  {
   "cell_type": "code",
   "execution_count": 9,
   "metadata": {
    "collapsed": true
   },
   "outputs": [],
   "source": [
    "import vtk, numpy, utils"
   ]
  },
  {
   "cell_type": "code",
   "execution_count": 10,
   "metadata": {
    "collapsed": true
   },
   "outputs": [],
   "source": [
    "A = utils.polydataReader(pathMRI)"
   ]
  },
  {
   "cell_type": "code",
   "execution_count": 11,
   "metadata": {
    "collapsed": true
   },
   "outputs": [],
   "source": [
    "utils.vtkVisualize(A)"
   ]
  },
  {
   "cell_type": "code",
   "execution_count": 14,
   "metadata": {},
   "outputs": [
    {
     "data": {
      "text/plain": [
       "<module 'epi' from 'epi.py'>"
      ]
     },
     "execution_count": 14,
     "metadata": {},
     "output_type": "execute_result"
    }
   ],
   "source": [
    "import epi\n",
    "reload(epi)"
   ]
  },
  {
   "cell_type": "code",
   "execution_count": 15,
   "metadata": {},
   "outputs": [
    {
     "name": "stdout",
     "output_type": "stream",
     "text": [
      "TO-DO: DOCUMENTATION\n",
      "TO-DO: DOCUMENTATION\n",
      "TO-DO: DOCUMENTATION\n",
      "TO-DO: DOCUMENTATION\n",
      "TO-DO: DOCUMENTATION\n",
      "TO-DO: DOCUMENTATION\n",
      "TO-DO: DOCUMENTATION\n",
      "TO-DO: DOCUMENTATION\n",
      "TO-DO: DOCUMENTATION\n",
      "TO-DO: DOCUMENTATION\n",
      "TO-DO: DOCUMENTATION\n",
      " *  Writing to default location: \n",
      "    /home/guille/BitBucket/pyqcm/Test_data/Results/MRI_Results.vtk\n",
      "\n",
      "TO-DO: DOCUMENTATION\n",
      "TO-DO: DOCUMENTATION\n",
      "TO-DO: DOCUMENTATION\n",
      "TO-DO: DOCUMENTATION\n",
      "TO-DO: DOCUMENTATION\n",
      "TO-DO: DOCUMENTATION\n"
     ]
    },
    {
     "ename": "NameError",
     "evalue": "global name 'boundaryNumber' is not defined",
     "output_type": "error",
     "traceback": [
      "\u001b[0;31m---------------------------------------------------------------------------\u001b[0m",
      "\u001b[0;31mNameError\u001b[0m                                 Traceback (most recent call last)",
      "\u001b[0;32m<ipython-input-15-3828e55c6caf>\u001b[0m in \u001b[0;36m<module>\u001b[0;34m()\u001b[0m\n\u001b[0;32m----> 1\u001b[0;31m \u001b[0mepi\u001b[0m\u001b[0;34m.\u001b[0m\u001b[0mEpiQCM\u001b[0m\u001b[0;34m(\u001b[0m\u001b[0mpathMRI\u001b[0m\u001b[0;34m)\u001b[0m\u001b[0;34m\u001b[0m\u001b[0m\n\u001b[0m",
      "\u001b[0;32m/home/guille/BitBucket/pyqcm/epi.py\u001b[0m in \u001b[0;36m__init__\u001b[0;34m(self, path, anterior, posterior, apex, batch_size, output_path)\u001b[0m\n\u001b[1;32m    164\u001b[0m         \u001b[0mposteriorNumber\u001b[0m\u001b[0;34m,\u001b[0m \u001b[0mposteriorId\u001b[0m    \u001b[0;34m=\u001b[0m \u001b[0mutils\u001b[0m\u001b[0;34m.\u001b[0m\u001b[0mclosestBoundaryId\u001b[0m\u001b[0;34m(\u001b[0m\u001b[0mself\u001b[0m\u001b[0;34m.\u001b[0m\u001b[0mpolydata\u001b[0m\u001b[0;34m,\u001b[0m \u001b[0mlandmarks\u001b[0m\u001b[0;34m[\u001b[0m\u001b[0;36m0\u001b[0m\u001b[0;34m]\u001b[0m\u001b[0;34m,\u001b[0m \u001b[0mboundary\u001b[0m\u001b[0;34m=\u001b[0m\u001b[0mself\u001b[0m\u001b[0;34m.\u001b[0m\u001b[0mboundary\u001b[0m\u001b[0;34m)\u001b[0m\u001b[0;34m\u001b[0m\u001b[0m\n\u001b[1;32m    165\u001b[0m         \u001b[0manteriorNumber\u001b[0m\u001b[0;34m,\u001b[0m \u001b[0manteriorId\u001b[0m      \u001b[0;34m=\u001b[0m \u001b[0mutils\u001b[0m\u001b[0;34m.\u001b[0m\u001b[0mclosestBoundaryId\u001b[0m\u001b[0;34m(\u001b[0m\u001b[0mself\u001b[0m\u001b[0;34m.\u001b[0m\u001b[0mpolydata\u001b[0m\u001b[0;34m,\u001b[0m \u001b[0mlandmarks\u001b[0m\u001b[0;34m[\u001b[0m\u001b[0;36m2\u001b[0m\u001b[0;34m]\u001b[0m\u001b[0;34m,\u001b[0m \u001b[0mboundary\u001b[0m\u001b[0;34m=\u001b[0m\u001b[0mself\u001b[0m\u001b[0;34m.\u001b[0m\u001b[0mboundary\u001b[0m\u001b[0;34m)\u001b[0m\u001b[0;34m\u001b[0m\u001b[0m\n\u001b[0;32m--> 166\u001b[0;31m         \u001b[0mself\u001b[0m\u001b[0;34m.\u001b[0m\u001b[0m__anterior\u001b[0m                 \u001b[0;34m=\u001b[0m \u001b[0mself\u001b[0m\u001b[0;34m.\u001b[0m\u001b[0mboundary\u001b[0m\u001b[0;34m[\u001b[0m\u001b[0mboundaryNumber\u001b[0m\u001b[0;34m]\u001b[0m\u001b[0;34m[\u001b[0m\u001b[0mboundaryId\u001b[0m\u001b[0;34m]\u001b[0m\u001b[0;34m\u001b[0m\u001b[0m\n\u001b[0m\u001b[1;32m    167\u001b[0m         \u001b[0mself\u001b[0m\u001b[0;34m.\u001b[0m\u001b[0m__apex\u001b[0m                     \u001b[0;34m=\u001b[0m \u001b[0mlandmarks\u001b[0m\u001b[0;34m[\u001b[0m\u001b[0;36m1\u001b[0m\u001b[0;34m]\u001b[0m\u001b[0;34m\u001b[0m\u001b[0m\n\u001b[1;32m    168\u001b[0m         \u001b[0mself\u001b[0m\u001b[0;34m.\u001b[0m\u001b[0m__posterior\u001b[0m                \u001b[0;34m=\u001b[0m \u001b[0mself\u001b[0m\u001b[0;34m.\u001b[0m\u001b[0mboundary\u001b[0m\u001b[0;34m[\u001b[0m\u001b[0mboundaryNumber\u001b[0m\u001b[0;34m]\u001b[0m\u001b[0;34m[\u001b[0m\u001b[0mboundaryId\u001b[0m\u001b[0;34m]\u001b[0m\u001b[0;34m\u001b[0m\u001b[0m\n",
      "\u001b[0;31mNameError\u001b[0m: global name 'boundaryNumber' is not defined"
     ]
    }
   ],
   "source": [
    "epi.EpiQCM(pathMRI)"
   ]
  },
  {
   "cell_type": "code",
   "execution_count": 17,
   "metadata": {
    "collapsed": true
   },
   "outputs": [],
   "source": [
    "polydata = MRI.polydata"
   ]
  },
  {
   "cell_type": "code",
   "execution_count": 18,
   "metadata": {
    "collapsed": true
   },
   "outputs": [],
   "source": [
    "utils.vtkVisualize(polydata)"
   ]
  },
  {
   "cell_type": "code",
   "execution_count": 19,
   "metadata": {
    "collapsed": true
   },
   "outputs": [],
   "source": [
    "landmarks = utils.landmarkSelector(polydata,3)"
   ]
  },
  {
   "cell_type": "code",
   "execution_count": 22,
   "metadata": {},
   "outputs": [],
   "source": [
    "point0 = polydata.GetPoint(landmarks[0])\n",
    "point1 = polydata.GetPoint(landmarks[1])\n",
    "point2 = polydata.GetPoint(landmarks[2])"
   ]
  },
  {
   "cell_type": "code",
   "execution_count": 23,
   "metadata": {},
   "outputs": [
    {
     "data": {
      "text/plain": [
       "(29.434099197387695, -69.24700164794922, 2.43080997467041)"
      ]
     },
     "execution_count": 23,
     "metadata": {},
     "output_type": "execute_result"
    }
   ],
   "source": [
    "point0"
   ]
  },
  {
   "cell_type": "code",
   "execution_count": 24,
   "metadata": {},
   "outputs": [
    {
     "data": {
      "text/plain": [
       "(80.1688003540039, -128.052001953125, -14.064499855041504)"
      ]
     },
     "execution_count": 24,
     "metadata": {},
     "output_type": "execute_result"
    }
   ],
   "source": [
    "point1"
   ]
  },
  {
   "cell_type": "code",
   "execution_count": 25,
   "metadata": {},
   "outputs": [
    {
     "data": {
      "text/plain": [
       "(72.46170043945312, -36.33700180053711, 15.438300132751465)"
      ]
     },
     "execution_count": 25,
     "metadata": {},
     "output_type": "execute_result"
    }
   ],
   "source": [
    "point2"
   ]
  },
  {
   "cell_type": "code",
   "execution_count": 31,
   "metadata": {},
   "outputs": [
    {
     "name": "stdout",
     "output_type": "stream",
     "text": [
      "0.199746847153\n"
     ]
    }
   ],
   "source": [
    "start = time.time()\n",
    "polydataLV = utils.vtkClippingPlane(polydata,landmarks)\n",
    "polydataRV = utils.vtkClippingPlane(polydata,landmarks,True)\n",
    "print(time.time() - start)"
   ]
  },
  {
   "cell_type": "code",
   "execution_count": 30,
   "metadata": {},
   "outputs": [],
   "source": [
    "utils.vtkVisualize(polydata)\n",
    "utils.vtkVisualize(polydataLV)\n",
    "utils.vtkVisualize(polydataRV)"
   ]
  },
  {
   "cell_type": "code",
   "execution_count": null,
   "metadata": {
    "collapsed": true
   },
   "outputs": [],
   "source": []
  },
  {
   "cell_type": "code",
   "execution_count": null,
   "metadata": {
    "collapsed": true
   },
   "outputs": [],
   "source": []
  },
  {
   "cell_type": "code",
   "execution_count": null,
   "metadata": {
    "collapsed": true
   },
   "outputs": [],
   "source": []
  }
 ],
 "metadata": {
  "kernelspec": {
   "display_name": "Python 2",
   "language": "python",
   "name": "python2"
  },
  "language_info": {
   "codemirror_mode": {
    "name": "ipython",
    "version": 2
   },
   "file_extension": ".py",
   "mimetype": "text/x-python",
   "name": "python",
   "nbconvert_exporter": "python",
   "pygments_lexer": "ipython2",
   "version": "2.7.12"
  }
 },
 "nbformat": 4,
 "nbformat_minor": 2
}
