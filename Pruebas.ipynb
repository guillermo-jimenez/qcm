{
 "cells": [
  {
   "cell_type": "markdown",
   "metadata": {},
   "source": [
    "# Outcome"
   ]
  },
  {
   "cell_type": "code",
   "execution_count": 10,
   "metadata": {},
   "outputs": [
    {
     "data": {
      "text/plain": [
       "<module 'utils' from 'utils.py'>"
      ]
     },
     "execution_count": 10,
     "metadata": {},
     "output_type": "execute_result"
    }
   ],
   "source": [
    "import endo\n",
    "import time\n",
    "import utils\n",
    "\n",
    "from os.path import abspath\n",
    "from os.path import join\n",
    "\n",
    "reload(endo)\n",
    "reload(utils)"
   ]
  },
  {
   "cell_type": "code",
   "execution_count": 11,
   "metadata": {},
   "outputs": [
    {
     "name": "stdout",
     "output_type": "stream",
     "text": [
      "TO-DO: DOCUMENTATION\n",
      "TO-DO: DOCUMENTATION\n",
      "TO-DO: DOCUMENTATION\n",
      "TO-DO: DOCUMENTATION\n",
      "TO-DO: DOCUMENTATION\n",
      "TO-DO: DOCUMENTATION\n",
      "TO-DO: DOCUMENTATION\n",
      " *  Writing to default location: \n",
      "    /home/guille/BitBucket/pyqcm/Test_data/Results/MRI_Results.vtk\n",
      "\n",
      "TO-DO: DOCUMENTATION\n",
      "TO-DO: DOCUMENTATION\n",
      "TO-DO: DOCUMENTATION\n",
      "26.1264619827\n",
      "TO-DO: DOCUMENTATION\n",
      "TO-DO: DOCUMENTATION\n",
      "TO-DO: DOCUMENTATION\n",
      "TO-DO: DOCUMENTATION\n",
      "TO-DO: DOCUMENTATION\n",
      "TO-DO: DOCUMENTATION\n",
      "TO-DO: DOCUMENTATION\n",
      " *  Writing to default location: \n",
      "    /home/guille/BitBucket/pyqcm/Test_data/Results/EAM_Results.vtk\n",
      "\n",
      "TO-DO: DOCUMENTATION\n",
      "TO-DO: DOCUMENTATION\n",
      "TO-DO: DOCUMENTATION\n",
      "8.96771597862\n"
     ]
    }
   ],
   "source": [
    "pathMRI = join(abspath(''), 'Test_data', 'MRI.vtk')\n",
    "pathEAM = join(abspath(''), 'Test_data', 'EAM.vtk')\n",
    "\n",
    "start = time.time(); MRI = endo.PyQCM(pathMRI); print(time.time() - start)\n",
    "start = time.time(); EAM = endo.PyQCM(pathEAM); print(time.time() - start)"
   ]
  },
  {
   "cell_type": "code",
   "execution_count": 3,
   "metadata": {},
   "outputs": [
    {
     "name": "stdout",
     "output_type": "stream",
     "text": [
      "TO-DO: DOCUMENTATION\n",
      "3.57090902328\n"
     ]
    }
   ],
   "source": [
    "start = time.time(); EAM2MRI = utils.vtkInterpolator(MRI, EAM); print(time.time() - start)"
   ]
  },
  {
   "cell_type": "code",
   "execution_count": 4,
   "metadata": {},
   "outputs": [
    {
     "name": "stdout",
     "output_type": "stream",
     "text": [
      "TO-DO: DOCUMENTATION\n",
      "TO-DO: DOCUMENTATION\n",
      "TO-DO: DOCUMENTATION\n"
     ]
    }
   ],
   "source": [
    "utils.vtkVisualize(EAM2MRI,0)\n",
    "utils.vtkVisualize(EAM2MRI,1)\n",
    "utils.vtkVisualize(EAM2MRI,2)"
   ]
  },
  {
   "cell_type": "markdown",
   "metadata": {},
   "source": [
    "# Tests"
   ]
  },
  {
   "cell_type": "code",
   "execution_count": 12,
   "metadata": {
    "collapsed": true
   },
   "outputs": [],
   "source": [
    "import vtk, numpy"
   ]
  },
  {
   "cell_type": "code",
   "execution_count": 13,
   "metadata": {
    "collapsed": true
   },
   "outputs": [],
   "source": [
    "A = numpy.zeros((3,5))"
   ]
  },
  {
   "cell_type": "code",
   "execution_count": 14,
   "metadata": {
    "collapsed": true
   },
   "outputs": [],
   "source": [
    "A = EAM.adjacency_matrix"
   ]
  },
  {
   "cell_type": "code",
   "execution_count": 19,
   "metadata": {},
   "outputs": [
    {
     "data": {
      "text/plain": [
       "scipy.sparse.csr.csr_matrix"
      ]
     },
     "execution_count": 19,
     "metadata": {},
     "output_type": "execute_result"
    }
   ],
   "source": [
    "type(EAM.laplacian)"
   ]
  },
  {
   "cell_type": "code",
   "execution_count": 16,
   "metadata": {},
   "outputs": [
    {
     "ename": "AttributeError",
     "evalue": "can't set attribute",
     "output_type": "error",
     "traceback": [
      "\u001b[0;31m---------------------------------------------------------------------------\u001b[0m",
      "\u001b[0;31mAttributeError\u001b[0m                            Traceback (most recent call last)",
      "\u001b[0;32m<ipython-input-16-bd449a89a29d>\u001b[0m in \u001b[0;36m<module>\u001b[0;34m()\u001b[0m\n\u001b[0;32m----> 1\u001b[0;31m \u001b[0mEAM\u001b[0m\u001b[0;34m.\u001b[0m\u001b[0mseptum\u001b[0m \u001b[0;34m=\u001b[0m \u001b[0;36m6\u001b[0m\u001b[0;34m\u001b[0m\u001b[0m\n\u001b[0m",
      "\u001b[0;31mAttributeError\u001b[0m: can't set attribute"
     ]
    }
   ],
   "source": [
    "EAM.septum = 6"
   ]
  },
  {
   "cell_type": "code",
   "execution_count": 21,
   "metadata": {},
   "outputs": [],
   "source": [
    "A = vtk.vtkPolyDataMapper()"
   ]
  },
  {
   "cell_type": "code",
   "execution_count": null,
   "metadata": {
    "collapsed": true
   },
   "outputs": [],
   "source": [
    "A.SetScalarRange"
   ]
  },
  {
   "cell_type": "code",
   "execution_count": 17,
   "metadata": {},
   "outputs": [
    {
     "data": {
      "text/plain": [
       "array([[ 128,  128,  128, ..., 1161, 1161, 1161],\n",
       "       [ 124,  984,  887, ..., 1422, 1424, 1416],\n",
       "       [ 887,  134,  984, ..., 1075, 1422, 1424]])"
      ]
     },
     "execution_count": 17,
     "metadata": {},
     "output_type": "execute_result"
    }
   ],
   "source": [
    "EAM.ad"
   ]
  },
  {
   "cell_type": "code",
   "execution_count": null,
   "metadata": {
    "collapsed": true
   },
   "outputs": [],
   "source": [
    "# pathMRI = join(abspath(''), 'Test_data', 'MRI.vtk')\n",
    "\n",
    "# polydataMRI = utils.polydataReader(pathMRI)\n",
    "\n",
    "# landmarksMRI = utils.landmarkSelector(polydataMRI, 2)"
   ]
  },
  {
   "cell_type": "code",
   "execution_count": null,
   "metadata": {
    "collapsed": true
   },
   "outputs": [],
   "source": [
    "# pathEAM = join(abspath(''), 'Test_data', 'EAM.vtk')\n",
    "\n",
    "# polydataEAM = utils.polydataReader(pathEAM)\n",
    "\n",
    "# landmarksEAM = utils.landmarkSelector(polydataEAM, 2)"
   ]
  },
  {
   "cell_type": "code",
   "execution_count": null,
   "metadata": {
    "collapsed": true
   },
   "outputs": [],
   "source": [
    "# start = time.time(); MRI = endo.PyQCM(pathMRI, landmarksMRI[0], landmarksMRI[1]); print(time.time() - start)"
   ]
  },
  {
   "cell_type": "code",
   "execution_count": null,
   "metadata": {
    "collapsed": true
   },
   "outputs": [],
   "source": [
    "# start = time.time(); EAM = endo.PyQCM(pathEAM, landmarksEAM[0], landmarksEAM[1]); print(time.time() - start)"
   ]
  },
  {
   "cell_type": "code",
   "execution_count": null,
   "metadata": {
    "collapsed": true
   },
   "outputs": [],
   "source": [
    "# start = time.time()\n",
    "# newPoly = utils.vtkInterpolator(MRI, EAM)\n",
    "# print(time.time() - start)"
   ]
  }
 ],
 "metadata": {
  "kernelspec": {
   "display_name": "Python 2",
   "language": "python",
   "name": "python2"
  },
  "language_info": {
   "codemirror_mode": {
    "name": "ipython",
    "version": 2
   },
   "file_extension": ".py",
   "mimetype": "text/x-python",
   "name": "python",
   "nbconvert_exporter": "python",
   "pygments_lexer": "ipython2",
   "version": "2.7.12"
  }
 },
 "nbformat": 4,
 "nbformat_minor": 2
}
