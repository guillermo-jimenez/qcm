{
 "cells": [
  {
   "cell_type": "code",
   "execution_count": 70,
   "metadata": {},
   "outputs": [
    {
     "data": {
      "text/plain": [
       "<module 'VentricularInterpolator' from 'VentricularInterpolator.pyc'>"
      ]
     },
     "execution_count": 70,
     "metadata": {},
     "output_type": "execute_result"
    }
   ],
   "source": [
    "import VentricularImage\n",
    "import VentricularInterpolator\n",
    "import time\n",
    "import os\n",
    "import os.path\n",
    "import vtk\n",
    "import numpy\n",
    "import scipy\n",
    "\n",
    "reload(VentricularImage)\n",
    "reload(VentricularInterpolator)"
   ]
  },
  {
   "cell_type": "code",
   "execution_count": 3,
   "metadata": {},
   "outputs": [],
   "source": [
    "path = os.path.join(os.path.abspath(''),'Layer_10_percent_colored.vtk')"
   ]
  },
  {
   "cell_type": "code",
   "execution_count": 4,
   "metadata": {},
   "outputs": [
    {
     "name": "stdout",
     "output_type": "stream",
     "text": [
      "/home/guille/BitBucket/pyqcm/Layer_10_percent_colored.vtk\n"
     ]
    }
   ],
   "source": [
    "print(path)"
   ]
  },
  {
   "cell_type": "code",
   "execution_count": 5,
   "metadata": {
    "collapsed": true
   },
   "outputs": [],
   "source": [
    "reader = vtk.vtkPolyDataReader()\n",
    "reader.SetFileName(path)\n",
    "reader.Update()\n",
    "\n",
    "polydata                = reader.GetOutput()\n",
    "polydata.BuildLinks()"
   ]
  },
  {
   "cell_type": "code",
   "execution_count": 6,
   "metadata": {
    "collapsed": true
   },
   "outputs": [],
   "source": [
    "points = polydata.GetPoints()"
   ]
  },
  {
   "cell_type": "code",
   "execution_count": 7,
   "metadata": {
    "scrolled": false
   },
   "outputs": [
    {
     "name": "stdout",
     "output_type": "stream",
     "text": [
      "vtkPolyData (0x23c72f0)\n",
      "  Debug: Off\n",
      "  Modified Time: 213\n",
      "  Reference Count: 2\n",
      "  Registered Events: (none)\n",
      "  Information: 0x26345d0\n",
      "  Data Released: False\n",
      "  Global Release Data: Off\n",
      "  UpdateTime: 215\n",
      "  Field Data:\n",
      "    Debug: Off\n",
      "    Modified Time: 169\n",
      "    Reference Count: 1\n",
      "    Registered Events: (none)\n",
      "    Number Of Arrays: 0\n",
      "    Number Of Components: 0\n",
      "    Number Of Tuples: 0\n",
      "  Number Of Points: 211017\n",
      "  Number Of Cells: 420736\n",
      "  Cell Data:\n",
      "    Debug: Off\n",
      "    Modified Time: 177\n",
      "    Reference Count: 1\n",
      "    Registered Events: (none)\n",
      "    Number Of Arrays: 0\n",
      "    Number Of Components: 0\n",
      "    Number Of Tuples: 0\n",
      "    Copy Tuple Flags: ( 1 1 1 1 1 0 1 1 )\n",
      "    Interpolate Flags: ( 1 1 1 1 1 0 0 1 )\n",
      "    Pass Through Flags: ( 1 1 1 1 1 1 1 1 )\n",
      "    Scalars: (none)\n",
      "    Vectors: (none)\n",
      "    Normals: (none)\n",
      "    TCoords: (none)\n",
      "    Tensors: (none)\n",
      "    GlobalIds: (none)\n",
      "    PedigreeIds: (none)\n",
      "    EdgeFlag: (none)\n",
      "  Point Data:\n",
      "    Debug: Off\n",
      "    Modified Time: 213\n",
      "    Reference Count: 1\n",
      "    Registered Events: (none)\n",
      "    Number Of Arrays: 3\n",
      "    Array 0 name = scalars\n",
      "    Array 1 name = Normals\n",
      "    Array 2 name = pIds\n",
      "    Number Of Components: 5\n",
      "    Number Of Tuples: 211017\n",
      "    Copy Tuple Flags: ( 1 1 1 1 1 0 1 1 )\n",
      "    Interpolate Flags: ( 1 1 1 1 1 0 0 1 )\n",
      "    Pass Through Flags: ( 1 1 1 1 1 1 1 1 )\n",
      "    Scalars: \n",
      "      Debug: Off\n",
      "      Modified Time: 197\n",
      "      Reference Count: 1\n",
      "      Registered Events: (none)\n",
      "      Name: scalars\n",
      "      Data type: float\n",
      "      Size: 211017\n",
      "      MaxId: 211016\n",
      "      NumberOfComponents: 1\n",
      "      Information: 0\n",
      "      Name: scalars\n",
      "      Number Of Components: 1\n",
      "      Number Of Tuples: 211017\n",
      "      Size: 211017\n",
      "      MaxId: 211016\n",
      "      LookupTable: (none)\n",
      "      Array: 0x26ded20\n",
      "    Vectors: (none)\n",
      "    Normals: \n",
      "      Debug: Off\n",
      "      Modified Time: 203\n",
      "      Reference Count: 1\n",
      "      Registered Events: (none)\n",
      "      Name: Normals\n",
      "      Data type: float\n",
      "      Size: 633051\n",
      "      MaxId: 633050\n",
      "      NumberOfComponents: 3\n",
      "      Information: 0\n",
      "      Name: Normals\n",
      "      Number Of Components: 3\n",
      "      Number Of Tuples: 211017\n",
      "      Size: 633051\n",
      "      MaxId: 633050\n",
      "      LookupTable: (none)\n",
      "      Array: 0x27ace50\n",
      "    TCoords: (none)\n",
      "    Tensors: (none)\n",
      "    GlobalIds: (none)\n",
      "    PedigreeIds: (none)\n",
      "    EdgeFlag: (none)\n",
      "  Bounds: \n",
      "    Xmin,Xmax: (11.9966, 98.5936)\n",
      "    Ymin,Ymax: (-105.781, -6.83206)\n",
      "    Zmin,Zmax: (-38.2691, 30.454)\n",
      "  Compute Time: 232\n",
      "  Number Of Points: 211017\n",
      "  Point Coordinates: 0x24616d0\n",
      "  Locator: 0\n",
      "  Number Of Vertices: 0\n",
      "  Number Of Lines: 0\n",
      "  Number Of Polygons: 420736\n",
      "  Number Of Triangle Strips: 0\n",
      "  Number Of Pieces: 1\n",
      "  Piece: 0\n",
      "  Ghost Level: 0\n",
      "\n",
      "\n"
     ]
    }
   ],
   "source": [
    "print(polydata)"
   ]
  },
  {
   "cell_type": "code",
   "execution_count": null,
   "metadata": {
    "collapsed": true
   },
   "outputs": [],
   "source": []
  },
  {
   "cell_type": "code",
   "execution_count": 8,
   "metadata": {},
   "outputs": [],
   "source": [
    "import numpy.matlib\n",
    "import scipy.sparse\n",
    "import numpy\n",
    "import scipy"
   ]
  },
  {
   "cell_type": "code",
   "execution_count": 9,
   "metadata": {
    "collapsed": true
   },
   "outputs": [],
   "source": [
    "rows                    = None\n",
    "cols                    = None\n",
    "polygons                = None\n",
    "\n",
    "polys                   = polydata.GetPolys()\n",
    "\n",
    "for i in xrange(polydata.GetNumberOfCells()):\n",
    "    triangle            = polydata.GetCell(i)\n",
    "    pointIds            = triangle.GetPointIds()\n",
    "\n",
    "    if polygons is None:\n",
    "        rows            = pointIds.GetNumberOfIds()\n",
    "        cols            = polydata.GetNumberOfCells()\n",
    "        polygons        = numpy.zeros((rows,cols), dtype=int)\n",
    "\n",
    "    polygons[0,i]       = pointIds.GetId(0)\n",
    "    polygons[1,i]       = pointIds.GetId(1)\n",
    "    polygons[2,i]       = pointIds.GetId(2)\n",
    "\n",
    "\n",
    "rows                    = None\n",
    "cols                    = None\n",
    "points                  = None\n",
    "\n",
    "pointVector             = polydata.GetPoints()\n",
    "\n",
    "if pointVector:\n",
    "    for i in range(0, pointVector.GetNumberOfPoints()):\n",
    "        point_tuple     = pointVector.GetPoint(i)\n",
    "\n",
    "        if points is None:\n",
    "            cols        = pointVector.GetNumberOfPoints()\n",
    "            points      = numpy.zeros((rows,cols))\n",
    "\n",
    "        points[0,i]     = point_tuple[0]\n",
    "        points[1,i]     = point_tuple[1]\n",
    "        points[2,i]     = point_tuple[2]"
   ]
  },
  {
   "cell_type": "code",
   "execution_count": 142,
   "metadata": {},
   "outputs": [],
   "source": [
    "numPoints    = polydata.GetNumberOfPoints()\n",
    "numPolygons  = polydata.GetNumberOfPolys()\n",
    "sparseMatrix = scipy.sparse.csr_matrix((numPoints, numPoints))\n",
    "\n",
    "for i in range(0, 3):\n",
    "    i1                  = (i + 0)%3\n",
    "    i2                  = (i + 1)%3\n",
    "    i3                  = (i + 2)%3\n",
    "\n",
    "    distP2P1            = points[:, polygons[i2, :]] - points[:, polygons[i1, :]]\n",
    "    distP3P1            = points[:, polygons[i3, :]] - points[:, polygons[i1, :]]\n",
    "\n",
    "    distP2P1            = distP2P1 / numpy.matlib.repmat(numpy.sqrt((distP2P1**2).sum(0)), 3, 1)\n",
    "    distP3P1            = distP3P1 / numpy.matlib.repmat(numpy.sqrt((distP3P1**2).sum(0)), 3, 1)\n",
    "\n",
    "    angles              = scipy.arccos((distP2P1 * distP3P1).sum(0))\n",
    "\n",
    "    iterData1           = scipy.sparse.csr_matrix((1/scipy.tan(angles), \n",
    "                                                  (polygons[i2,:], \n",
    "                                                   polygons[i3,:])), \n",
    "                                                   shape=(numPoints, numPoints))\n",
    "\n",
    "    iterData2           = scipy.sparse.csr_matrix((1/scipy.tan(angles), (polygons[i3,:], polygons[i2,:])), shape=(numPoints, numPoints))\n",
    "\n",
    "    sparseMatrix        = sparseMatrix + iterData1 + iterData2\n",
    "\n",
    "diagonal                = sparseMatrix.sum(0)\n",
    "diagonalSparse          = scipy.sparse.spdiags(diagonal, 0, numPoints, numPoints)\n",
    "laplacian               = diagonalSparse - sparseMatrix"
   ]
  },
  {
   "cell_type": "code",
   "execution_count": 152,
   "metadata": {},
   "outputs": [
    {
     "data": {
      "text/plain": [
       "0.37507819361797784"
      ]
     },
     "execution_count": 152,
     "metadata": {},
     "output_type": "execute_result"
    }
   ],
   "source": [
    "iterData1[polygons[i2,0], polygons[i3,0]]"
   ]
  },
  {
   "cell_type": "code",
   "execution_count": 153,
   "metadata": {},
   "outputs": [
    {
     "data": {
      "text/plain": [
       "0.37507819361797784"
      ]
     },
     "execution_count": 153,
     "metadata": {},
     "output_type": "execute_result"
    }
   ],
   "source": [
    "(1/scipy.tan(angles))[0]"
   ]
  },
  {
   "cell_type": "code",
   "execution_count": 109,
   "metadata": {},
   "outputs": [
    {
     "data": {
      "text/plain": [
       "array([ 0.96174448,  0.00785794,  0.27383537])"
      ]
     },
     "execution_count": 109,
     "metadata": {},
     "output_type": "execute_result"
    }
   ],
   "source": [
    "distP2P1[:,0]"
   ]
  },
  {
   "cell_type": "code",
   "execution_count": 55,
   "metadata": {},
   "outputs": [
    {
     "data": {
      "text/plain": [
       "(211017, 211017)"
      ]
     },
     "execution_count": 55,
     "metadata": {},
     "output_type": "execute_result"
    }
   ],
   "source": [
    "iterData1.shape"
   ]
  },
  {
   "cell_type": "code",
   "execution_count": 56,
   "metadata": {},
   "outputs": [
    {
     "data": {
      "text/plain": [
       "(211017, 211017)"
      ]
     },
     "execution_count": 56,
     "metadata": {},
     "output_type": "execute_result"
    }
   ],
   "source": [
    "iterData1.shape"
   ]
  },
  {
   "cell_type": "code",
   "execution_count": 57,
   "metadata": {},
   "outputs": [
    {
     "data": {
      "text/plain": [
       "(420736,)"
      ]
     },
     "execution_count": 57,
     "metadata": {},
     "output_type": "execute_result"
    }
   ],
   "source": [
    "(1/scipy.tan(angles)).shape"
   ]
  },
  {
   "cell_type": "code",
   "execution_count": 58,
   "metadata": {},
   "outputs": [
    {
     "data": {
      "text/plain": [
       "(array([     1,      3,      5, ..., 211010, 210999, 211016]),\n",
       " array([     0,      1,      4, ..., 211015, 211016, 211015]))"
      ]
     },
     "execution_count": 58,
     "metadata": {},
     "output_type": "execute_result"
    }
   ],
   "source": [
    "(polygons[i3,:], polygons[i2,:])"
   ]
  },
  {
   "cell_type": "code",
   "execution_count": 61,
   "metadata": {},
   "outputs": [
    {
     "data": {
      "text/plain": [
       "0.88126826778958156"
      ]
     },
     "execution_count": 61,
     "metadata": {},
     "output_type": "execute_result"
    }
   ],
   "source": [
    "sparseMatrix[0,1]"
   ]
  },
  {
   "cell_type": "code",
   "execution_count": 159,
   "metadata": {
    "scrolled": true
   },
   "outputs": [
    {
     "name": "stdout",
     "output_type": "stream",
     "text": [
      "0.149012088776\n",
      "0.129269123077\n",
      "0.162412166595\n",
      "0.162710905075\n",
      "0.140129804611\n",
      "0.158363103867\n",
      "0.148683071136\n",
      "0.141282081604\n",
      "0.16247010231\n",
      "0.153851985931\n",
      "0.15750002861\n",
      "0.146396875381\n",
      "0.148374080658\n",
      "0.163489103317\n",
      "0.127040147781\n",
      "0.16468000412\n",
      "0.167829990387\n",
      "0.157602071762\n",
      "0.148360013962\n",
      "0.164160966873\n",
      "0.14615893364\n",
      "0.151682138443\n",
      "0.167929172516\n",
      "0.163776874542\n",
      "0.164791107178\n",
      "0.165785074234\n",
      "0.147794961929\n",
      "0.149580001831\n",
      "0.141499996185\n",
      "0.150975942612\n",
      "0.165843009949\n",
      "0.144062042236\n",
      "0.157968997955\n",
      "0.150422096252\n",
      "0.13211107254\n",
      "0.180131912231\n",
      "0.15528512001\n",
      "0.165434122086\n",
      "0.165453910828\n",
      "0.13437795639\n",
      "0.154289007187\n",
      "0.164139032364\n",
      "0.165132045746\n",
      "0.163831949234\n",
      "0.136739969254\n",
      "0.163022041321\n",
      "0.137679815292\n",
      "0.16502404213\n",
      "0.147275924683\n",
      "0.16409611702\n",
      "0.162739992142\n",
      "0.157784938812\n",
      "0.153861999512\n",
      "0.166579961777\n",
      "0.164118766785\n",
      "0.148828983307\n",
      "0.164134979248\n",
      "0.163790941238\n",
      "0.127022027969\n",
      "0.164556980133\n",
      "0.1643679142\n",
      "0.162244081497\n",
      "0.16427898407\n",
      "0.163702011108\n",
      "0.152819871902\n",
      "0.163527965546\n",
      "0.162999868393\n",
      "0.164110898972\n",
      "0.155005931854\n",
      "0.163774967194\n",
      "0.165079116821\n",
      "0.164727926254\n",
      "0.136700868607\n",
      "0.154788970947\n",
      "0.148727893829\n",
      "0.159078836441\n",
      "0.157178163528\n",
      "0.131901025772\n",
      "0.163198947906\n",
      "0.154521942139\n",
      "0.134746074677\n",
      "0.158976078033\n",
      "0.151188135147\n",
      "0.14146900177\n",
      "0.163187026978\n",
      "0.164189100266\n",
      "0.140655040741\n",
      "0.151407003403\n",
      "0.135891914368\n",
      "0.143710136414\n",
      "0.165254831314\n",
      "0.148998022079\n",
      "0.135629892349\n",
      "0.162981987\n",
      "0.163542032242\n",
      "0.164927005768\n",
      "0.163928031921\n",
      "0.1313560009\n",
      "0.150774002075\n",
      "0.154942035675\n",
      "\n",
      "0.154696791172\n"
     ]
    }
   ],
   "source": [
    "time_average = 0\n",
    "\n",
    "for j in range(100):\n",
    "    start = time.time()\n",
    "\n",
    "    pointVector             = polydata.GetPoints()\n",
    "\n",
    "    if pointVector:\n",
    "        for i in range(0, pointVector.GetNumberOfPoints()):\n",
    "            point_tuple     = pointVector.GetPoint(i)\n",
    "\n",
    "            if points is None:\n",
    "                rows        = len(point_tuple)\n",
    "                cols        = pointVector.GetNumberOfPoints()\n",
    "                points      = numpy.zeros((rows,cols))\n",
    "\n",
    "            points[0,i]     = point_tuple[0]\n",
    "            points[1,i]     = point_tuple[1]\n",
    "            points[2,i]     = point_tuple[2]\n",
    "\n",
    "    time_average += time.time() - start\n",
    "    print(time.time() - start)\n",
    "\n",
    "print('')\n",
    "print(time_average/100)"
   ]
  },
  {
   "cell_type": "code",
   "execution_count": 160,
   "metadata": {
    "scrolled": true
   },
   "outputs": [
    {
     "name": "stdout",
     "output_type": "stream",
     "text": [
      "0.176067113876\n",
      "0.157633066177\n",
      "0.150608062744\n",
      "0.172118902206\n",
      "0.143682003021\n",
      "0.181012153625\n",
      "0.16300201416\n",
      "0.162657022476\n",
      "0.182451963425\n",
      "0.15967798233\n",
      "0.182899951935\n",
      "0.153077125549\n",
      "0.175873041153\n",
      "0.180496931076\n",
      "0.150068998337\n",
      "0.182695865631\n",
      "0.181128978729\n",
      "0.179970026016\n",
      "0.173478841782\n",
      "0.179594993591\n",
      "0.180531024933\n",
      "0.157490968704\n",
      "0.172628164291\n",
      "0.185187101364\n",
      "0.147162914276\n",
      "0.169952869415\n",
      "0.151459932327\n",
      "0.181139945984\n",
      "0.174789905548\n",
      "0.144900083542\n",
      "0.176738023758\n",
      "0.181551933289\n",
      "0.142311096191\n",
      "0.180589199066\n",
      "0.158005952835\n",
      "0.180186986923\n",
      "0.180077075958\n",
      "0.16086101532\n",
      "0.161926031113\n",
      "0.140094995499\n",
      "0.18083190918\n",
      "0.1571829319\n",
      "0.168297052383\n",
      "0.181525945663\n",
      "0.168693065643\n",
      "0.190978765488\n",
      "0.179244041443\n",
      "0.146524906158\n",
      "0.181823015213\n",
      "0.179290056229\n",
      "0.152494907379\n",
      "0.181318998337\n",
      "0.180525064468\n",
      "0.15909409523\n",
      "0.181133985519\n",
      "0.146831035614\n",
      "0.178566932678\n",
      "0.181228876114\n",
      "0.156611919403\n",
      "0.180636167526\n",
      "0.182281970978\n",
      "0.144439935684\n",
      "0.160871982574\n",
      "0.164658069611\n",
      "0.164926052094\n",
      "0.181900024414\n",
      "0.150416851044\n",
      "0.178342819214\n",
      "0.139585018158\n",
      "0.179444789886\n",
      "0.178344011307\n",
      "0.179222106934\n",
      "0.158668994904\n",
      "0.18325304985\n",
      "0.18109703064\n",
      "0.141481876373\n",
      "0.185908794403\n",
      "0.182645082474\n",
      "0.161880016327\n",
      "0.169701814651\n",
      "0.146698951721\n",
      "0.171283960342\n",
      "0.159769058228\n",
      "0.186249017715\n",
      "0.16484618187\n",
      "0.190881967545\n",
      "0.173732042313\n",
      "0.198183059692\n",
      "0.189972877502\n",
      "0.14338517189\n",
      "0.182313919067\n",
      "0.149038791656\n",
      "0.174728155136\n",
      "0.150726079941\n",
      "0.159343004227\n",
      "0.158446788788\n",
      "0.173660039902\n",
      "0.174861907959\n",
      "0.145340919495\n",
      "0.181533098221\n",
      "\n",
      "0.168925185204\n"
     ]
    }
   ],
   "source": [
    "time_average = 0\n",
    "\n",
    "for j in range(100):\n",
    "    start = time.time()\n",
    "\n",
    "    for i in range(0, polydata.GetPoints().GetNumberOfPoints()):\n",
    "        point_tuple     = polydata.GetPoints().GetPoint(i)\n",
    "\n",
    "        if points is None:\n",
    "            rows        = len(point_tuple)\n",
    "            cols        = polydata.GetPoints().GetNumberOfPoints()\n",
    "            points      = numpy.zeros((rows,cols))\n",
    "\n",
    "        points[0,i]     = point_tuple[0]\n",
    "        points[1,i]     = point_tuple[1]\n",
    "        points[2,i]     = point_tuple[2]\n",
    "\n",
    "    time_average += time.time() - start\n",
    "    print(time.time() - start)\n",
    "\n",
    "print('')\n",
    "print(time_average/100)"
   ]
  },
  {
   "cell_type": "code",
   "execution_count": 175,
   "metadata": {
    "scrolled": true
   },
   "outputs": [
    {
     "name": "stdout",
     "output_type": "stream",
     "text": [
      "0.831329107285\n",
      "0.784008979797\n",
      "0.793972969055\n",
      "0.774257183075\n",
      "0.804242134094\n",
      "0.846196174622\n",
      "0.834318876266\n",
      "0.821088075638\n",
      "0.813320875168\n",
      "0.873765945435\n",
      "\n",
      "0.817648482323\n"
     ]
    }
   ],
   "source": [
    "time_average = 0\n",
    "\n",
    "for j in range(10):\n",
    "    start = time.time()\n",
    "\n",
    "    numPoints    = polydata.GetNumberOfPoints()\n",
    "    numPolygons  = polydata.GetNumberOfPolys()\n",
    "    sparseMatrix = scipy.sparse.csr_matrix((numPoints, numPoints))\n",
    "\n",
    "    try:\n",
    "        rows_polys      = polydata.GetCell(0).GetPointIds().GetNumberOfIds()\n",
    "        cols_polys      = polydata.GetNumberOfCells()\n",
    "        polygons        = numpy.zeros((rows_polys,cols_polys), dtype=int)\n",
    "\n",
    "        rows_points     = len(polydata.GetPoint(0))\n",
    "        cols_points     = polydata.GetPoints().GetNumberOfPoints()\n",
    "        points          = numpy.zeros((rows_points,cols_points))\n",
    "    except:\n",
    "        raise Exception('The polydata provided is empty')\n",
    "\n",
    "    # Exporting VTK triangles to numpy for a more efficient manipulation\n",
    "    for i in xrange(polydata.GetNumberOfCells()):\n",
    "        triangle            = polydata.GetCell(i)\n",
    "        pointIds            = triangle.GetPointIds()\n",
    "\n",
    "        polygons[0,i]       = pointIds.GetId(0)\n",
    "        polygons[1,i]       = pointIds.GetId(1)\n",
    "        polygons[2,i]       = pointIds.GetId(2)\n",
    "\n",
    "\n",
    "    # Exporting VTK points to numpy for a more efficient manipulation\n",
    "    pointVector             = polydata.GetPoints()\n",
    "\n",
    "    if pointVector:\n",
    "        for i in range(0, pointVector.GetNumberOfPoints()):\n",
    "            point_tuple     = pointVector.GetPoint(i)\n",
    "\n",
    "            if points is None:\n",
    "                rows        = len(point_tuple)\n",
    "                cols        = pointVector.GetNumberOfPoints()\n",
    "                points      = numpy.zeros((rows,cols))\n",
    "\n",
    "            points[0,i]     = point_tuple[0]\n",
    "            points[1,i]     = point_tuple[1]\n",
    "            points[2,i]     = point_tuple[2]\n",
    "\n",
    "\n",
    "    for i in range(0, 3):\n",
    "        i1                  = (i + 0)%3\n",
    "        i2                  = (i + 1)%3\n",
    "        i3                  = (i + 2)%3\n",
    "\n",
    "        vectP2P1            = points[:, polygons[i2, :]] - points[:, polygons[i1, :]]\n",
    "        vectP3P1            = points[:, polygons[i3, :]] - points[:, polygons[i1, :]]\n",
    "\n",
    "        vectP2P1            = vectP2P1 / numpy.matlib.repmat(numpy.sqrt((vectP2P1**2).sum(0)), 3, 1)\n",
    "        vectP3P1            = vectP3P1 / numpy.matlib.repmat(numpy.sqrt((vectP3P1**2).sum(0)), 3, 1)\n",
    "\n",
    "        angles              = scipy.arccos((vectP2P1 * vectP3P1).sum(0))\n",
    "\n",
    "        iterData1           = scipy.sparse.csr_matrix((1/scipy.tan(angles), \n",
    "                                                      (polygons[i2,:], \n",
    "                                                       polygons[i3,:])), \n",
    "                                                       shape=(numPoints, numPoints))\n",
    "\n",
    "        iterData2           = scipy.sparse.csr_matrix((1/scipy.tan(angles), (polygons[i3,:], polygons[i2,:])), shape=(numPoints, numPoints))\n",
    "\n",
    "        sparseMatrix        = sparseMatrix + iterData1 + iterData2\n",
    "\n",
    "    diagonal                = sparseMatrix.sum(0)\n",
    "    diagonalSparse          = scipy.sparse.spdiags(diagonal, 0, numPoints, numPoints)\n",
    "    laplacian               = diagonalSparse - sparseMatrix\n",
    "    \n",
    "    time_average += time.time() - start\n",
    "    print(time.time() - start)\n",
    "\n",
    "print('')\n",
    "print(time_average/10)"
   ]
  },
  {
   "cell_type": "code",
   "execution_count": 174,
   "metadata": {},
   "outputs": [
    {
     "name": "stdout",
     "output_type": "stream",
     "text": [
      "C: 17.8659820557\n"
     ]
    }
   ],
   "source": [
    "start = time.time()\n",
    "\n",
    "for i in range(polydata.GetNumberOfCells()):\n",
    "#     start = time.time()\n",
    "    \n",
    "    triangle            = polydata.GetCell(i)\n",
    "    pointIds            = triangle.GetPointIds()\n",
    "\n",
    "#     print(\"A: \" + str(time.time() - start))\n",
    "#     start = time.time()\n",
    "\n",
    "    point_id_0      = pointIds.GetId(0)\n",
    "    point_id_1      = pointIds.GetId(1)\n",
    "    point_id_2      = pointIds.GetId(2)\n",
    "\n",
    "#     print(\"B: \" + str(time.time() - start))\n",
    "#     start = time.time()\n",
    "\n",
    "    point_coord_0   = numpy.array(polydata.GetPoint(point_id_0))\n",
    "    point_coord_1   = numpy.array(polydata.GetPoint(point_id_1))\n",
    "    point_coord_2   = numpy.array(polydata.GetPoint(point_id_2))\n",
    "\n",
    "#     print(\"C: \" + str(time.time() - start))\n",
    "#     start = time.time()\n",
    "\n",
    "    vector_p0_p1    = (point_coord_0 - point_coord_1) / (numpy.sqrt(((point_coord_0 - point_coord_1)**2).sum(0)))\n",
    "    vector_p0_p2    = (point_coord_0 - point_coord_2) / (numpy.sqrt(((point_coord_0 - point_coord_2)**2).sum(0)))\n",
    "    vector_p1_p2    = (point_coord_1 - point_coord_2) / (numpy.sqrt(((point_coord_1 - point_coord_2)**2).sum(0)))\n",
    "\n",
    "#     print(\"D: \" + str(time.time() - start))\n",
    "#     start = time.time()\n",
    "\n",
    "    angle_p0        = scipy.arccos(numpy.clip(numpy.dot(vector_p0_p1, vector_p0_p2), -1.0, 1.0))\n",
    "    angle_p1        = scipy.arccos(numpy.clip(numpy.dot(vector_p1_p2, -vector_p0_p1), -1.0, 1.0))\n",
    "    angle_p2        = scipy.arccos(numpy.clip(numpy.dot(-vector_p1_p2, -vector_p0_p2), -1.0, 1.0))\n",
    "    \n",
    "    \n",
    "\n",
    "#     print(\"E: \" + str(time.time() - start))\n",
    "#     start = time.time()\n",
    "\n",
    "#     sparseMatrix[point_id_0, point_id_1] += 1/scipy.tan(angle_p2)\n",
    "#     sparseMatrix[point_id_1, point_id_0] += 1/scipy.tan(angle_p2)\n",
    "\n",
    "#     print(\"F: \" + str(time.time() - start))\n",
    "#     start = time.time()\n",
    "\n",
    "#     sparseMatrix[point_id_0, point_id_2] += 1/scipy.tan(angle_p1)\n",
    "#     sparseMatrix[point_id_2, point_id_0] += 1/scipy.tan(angle_p1)\n",
    "\n",
    "#     sparseMatrix[point_id_1, point_id_2] += 1/scipy.tan(angle_p0)\n",
    "#     sparseMatrix[point_id_2, point_id_1] += 1/scipy.tan(angle_p0)\n",
    "\n",
    "#     print(\"G: \" + str(time.time() - start))\n",
    "\n",
    "#     print(time.time() - start)\n",
    "print(\"C: \" + str(time.time() - start))\n"
   ]
  },
  {
   "cell_type": "code",
   "execution_count": 140,
   "metadata": {},
   "outputs": [
    {
     "data": {
      "text/plain": [
       "1.211957104977808"
      ]
     },
     "execution_count": 140,
     "metadata": {},
     "output_type": "execute_result"
    }
   ],
   "source": [
    "angle_p0"
   ]
  },
  {
   "cell_type": "code",
   "execution_count": 141,
   "metadata": {},
   "outputs": [
    {
     "data": {
      "text/plain": [
       "array([ 1.2119571 ,  1.21026765,  0.7714271 , ...,  1.2707356 ,\n",
       "        1.09111311,  0.7785434 ])"
      ]
     },
     "execution_count": 141,
     "metadata": {},
     "output_type": "execute_result"
    }
   ],
   "source": [
    "angles"
   ]
  },
  {
   "cell_type": "code",
   "execution_count": 137,
   "metadata": {},
   "outputs": [
    {
     "data": {
      "text/plain": [
       "array([-0.96174448, -0.00785794, -0.27383537])"
      ]
     },
     "execution_count": 137,
     "metadata": {},
     "output_type": "execute_result"
    }
   ],
   "source": [
    "dist_p0_p1"
   ]
  },
  {
   "cell_type": "code",
   "execution_count": 138,
   "metadata": {},
   "outputs": [
    {
     "data": {
      "text/plain": [
       "array([ 0.96174448,  0.00785794,  0.27383537])"
      ]
     },
     "execution_count": 138,
     "metadata": {},
     "output_type": "execute_result"
    }
   ],
   "source": [
    "dist_p1_p0"
   ]
  },
  {
   "cell_type": "code",
   "execution_count": 50,
   "metadata": {},
   "outputs": [
    {
     "data": {
      "text/plain": [
       "array([ 49.79079437, -85.9506073 ,  22.68373871])"
      ]
     },
     "execution_count": 50,
     "metadata": {},
     "output_type": "execute_result"
    }
   ],
   "source": [
    "point_coord_0"
   ]
  },
  {
   "cell_type": "code",
   "execution_count": 51,
   "metadata": {},
   "outputs": [
    {
     "data": {
      "text/plain": [
       "28L"
      ]
     },
     "execution_count": 51,
     "metadata": {},
     "output_type": "execute_result"
    }
   ],
   "source": [
    "point_id_0"
   ]
  },
  {
   "cell_type": "code",
   "execution_count": 62,
   "metadata": {
    "collapsed": true
   },
   "outputs": [],
   "source": [
    "A = polydata.GetPoint(0)"
   ]
  },
  {
   "cell_type": "code",
   "execution_count": 64,
   "metadata": {},
   "outputs": [
    {
     "data": {
      "text/plain": [
       "3"
      ]
     },
     "execution_count": 64,
     "metadata": {},
     "output_type": "execute_result"
    }
   ],
   "source": [
    "len(A)"
   ]
  },
  {
   "cell_type": "code",
   "execution_count": 65,
   "metadata": {},
   "outputs": [
    {
     "data": {
      "text/plain": [
       "array([     2,      4,      2, ..., 211016, 211014, 211014])"
      ]
     },
     "execution_count": 65,
     "metadata": {},
     "output_type": "execute_result"
    }
   ],
   "source": [
    "polygons[i1]"
   ]
  },
  {
   "cell_type": "code",
   "execution_count": 68,
   "metadata": {},
   "outputs": [
    {
     "data": {
      "text/plain": [
       "array([     0,      1,      4, ..., 211015, 211016, 211015])"
      ]
     },
     "execution_count": 68,
     "metadata": {},
     "output_type": "execute_result"
    }
   ],
   "source": [
    "polygons[i2]"
   ]
  },
  {
   "cell_type": "code",
   "execution_count": 67,
   "metadata": {},
   "outputs": [
    {
     "data": {
      "text/plain": [
       "array([     1,      3,      5, ..., 211010, 210999, 211016])"
      ]
     },
     "execution_count": 67,
     "metadata": {},
     "output_type": "execute_result"
    }
   ],
   "source": [
    "polygons[i3]"
   ]
  },
  {
   "cell_type": "code",
   "execution_count": 69,
   "metadata": {},
   "outputs": [
    {
     "data": {
      "text/plain": [
       "420736L"
      ]
     },
     "execution_count": 69,
     "metadata": {},
     "output_type": "execute_result"
    }
   ],
   "source": [
    "polydata.GetNumberOfCells()"
   ]
  },
  {
   "cell_type": "markdown",
   "metadata": {},
   "source": [
    "# Old"
   ]
  },
  {
   "cell_type": "code",
   "execution_count": 71,
   "metadata": {},
   "outputs": [
    {
     "name": "stdout",
     "output_type": "stream",
     "text": [
      "0.350695133209\n"
     ]
    }
   ],
   "source": [
    "start = time.time()\n",
    "\n",
    "numPoints    = polydata.GetNumberOfPoints()\n",
    "numPolygons  = polydata.GetNumberOfPolys()\n",
    "sparseMatrix = scipy.sparse.csr_matrix((numPoints, numPoints))\n",
    "\n",
    "for i in range(0, 3):\n",
    "    i1                  = (i + 0)%3\n",
    "    i2                  = (i + 1)%3\n",
    "    i3                  = (i + 2)%3\n",
    "\n",
    "    distP2P1            = points[:, polygons[i2, :]] - points[:, polygons[i1, :]]\n",
    "    distP3P1            = points[:, polygons[i3, :]] - points[:, polygons[i1, :]]\n",
    "\n",
    "    distP2P1            = distP2P1 / numpy.matlib.repmat(numpy.sqrt((distP2P1**2).sum(0)), 3, 1)\n",
    "    distP3P1            = distP3P1 / numpy.matlib.repmat(numpy.sqrt((distP3P1**2).sum(0)), 3, 1)\n",
    "\n",
    "    angles              = scipy.arccos((distP2P1 * distP3P1).sum(0))\n",
    "\n",
    "    iterData1           = scipy.sparse.csr_matrix((1/scipy.tan(angles), \n",
    "                                            (polygons[i2,:], \n",
    "                                             polygons[i3,:])), \n",
    "                                             shape=(numPoints, numPoints))\n",
    "\n",
    "    iterData2           = scipy.sparse.csr_matrix((1/scipy.tan(angles), (polygons[i3,:], polygons[i2,:])), shape=(numPoints, numPoints))\n",
    "\n",
    "    sparseMatrix        = sparseMatrix + iterData1 + iterData2\n",
    "\n",
    "diagonal                = sparseMatrix.sum(0)\n",
    "diagonalSparse          = scipy.sparse.spdiags(diagonal, 0, numPoints, numPoints)\n",
    "laplacian               = diagonalSparse - sparseMatrix\n",
    "\n",
    "print(time.time() - start)"
   ]
  },
  {
   "cell_type": "code",
   "execution_count": null,
   "metadata": {
    "collapsed": true
   },
   "outputs": [],
   "source": []
  }
 ],
 "metadata": {
  "kernelspec": {
   "display_name": "Python 2",
   "language": "python",
   "name": "python2"
  },
  "language_info": {
   "codemirror_mode": {
    "name": "ipython",
    "version": 2
   },
   "file_extension": ".py",
   "mimetype": "text/x-python",
   "name": "python",
   "nbconvert_exporter": "python",
   "pygments_lexer": "ipython2",
   "version": "2.7.12"
  }
 },
 "nbformat": 4,
 "nbformat_minor": 2
}
