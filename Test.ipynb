{
 "cells": [
  {
   "cell_type": "code",
   "execution_count": 14,
   "metadata": {},
   "outputs": [
    {
     "data": {
      "text/plain": [
       "<module 'VentricularInterpolator' from 'VentricularInterpolator.pyc'>"
      ]
     },
     "execution_count": 14,
     "metadata": {},
     "output_type": "execute_result"
    }
   ],
   "source": [
    "import VentricularImage\n",
    "import VentricularInterpolator\n",
    "import os\n",
    "import os.path\n",
    "import vtk\n",
    "import numpy\n",
    "import scipy\n",
    "\n",
    "reload(VentricularImage)\n",
    "reload(VentricularInterpolator)"
   ]
  },
  {
   "cell_type": "code",
   "execution_count": 2,
   "metadata": {
    "collapsed": true
   },
   "outputs": [],
   "source": [
    "path = os.path.join('C:/Users/guill/Documents/Git/pyqcm/','Layer_10_percent_colored.vtk')"
   ]
  },
  {
   "cell_type": "code",
   "execution_count": 4,
   "metadata": {
    "collapsed": true
   },
   "outputs": [],
   "source": [
    "reader = vtk.vtkPolyDataReader()\n",
    "reader.SetFileName(path)\n",
    "reader.Update()\n",
    "\n",
    "polydata                = reader.GetOutput()\n",
    "polydata.BuildLinks()"
   ]
  },
  {
   "cell_type": "code",
   "execution_count": 7,
   "metadata": {},
   "outputs": [],
   "source": [
    "points = polydata.GetPoints()"
   ]
  },
  {
   "cell_type": "code",
   "execution_count": 10,
   "metadata": {
    "scrolled": false
   },
   "outputs": [
    {
     "name": "stdout",
     "output_type": "stream",
     "text": [
      "vtkPolyData (0000000002E86D80)\n",
      "  Debug: Off\n",
      "  Modified Time: 274\n",
      "  Reference Count: 2\n",
      "  Registered Events: (none)\n",
      "  Information: 000000000ECA98D0\n",
      "  Data Released: False\n",
      "  Global Release Data: Off\n",
      "  UpdateTime: 276\n",
      "  Field Data:\n",
      "    Debug: Off\n",
      "    Modified Time: 230\n",
      "    Reference Count: 1\n",
      "    Registered Events: (none)\n",
      "    Number Of Arrays: 0\n",
      "    Number Of Components: 0\n",
      "    Number Of Tuples: 0\n",
      "  Number Of Points: 211017\n",
      "  Number Of Cells: 420736\n",
      "  Cell Data:\n",
      "    Debug: Off\n",
      "    Modified Time: 238\n",
      "    Reference Count: 1\n",
      "    Registered Events: \n",
      "      Registered Observers:\n",
      "        vtkObserver (0000000006CFB9E0)\n",
      "          Event: 33\n",
      "          EventName: ModifiedEvent\n",
      "          Command: 000000000F2828E0\n",
      "          Priority: 0\n",
      "          Tag: 1\n",
      "    Number Of Arrays: 0\n",
      "    Number Of Components: 0\n",
      "    Number Of Tuples: 0\n",
      "    Copy Tuple Flags: ( 1 1 1 1 1 0 1 1 )\n",
      "    Interpolate Flags: ( 1 1 1 1 1 0 0 1 )\n",
      "    Pass Through Flags: ( 1 1 1 1 1 1 1 1 )\n",
      "    Scalars: (none)\n",
      "    Vectors: (none)\n",
      "    Normals: (none)\n",
      "    TCoords: (none)\n",
      "    Tensors: (none)\n",
      "    GlobalIds: (none)\n",
      "    PedigreeIds: (none)\n",
      "    EdgeFlag: (none)\n",
      "  Point Data:\n",
      "    Debug: Off\n",
      "    Modified Time: 274\n",
      "    Reference Count: 1\n",
      "    Registered Events: \n",
      "      Registered Observers:\n",
      "        vtkObserver (0000000006CFB2F0)\n",
      "          Event: 33\n",
      "          EventName: ModifiedEvent\n",
      "          Command: 000000000F2828E0\n",
      "          Priority: 0\n",
      "          Tag: 1\n",
      "    Number Of Arrays: 3\n",
      "    Array 0 name = scalars\n",
      "    Array 1 name = Normals\n",
      "    Array 2 name = pIds\n",
      "    Number Of Components: 5\n",
      "    Number Of Tuples: 211017\n",
      "    Copy Tuple Flags: ( 1 1 1 1 1 0 1 1 )\n",
      "    Interpolate Flags: ( 1 1 1 1 1 0 0 1 )\n",
      "    Pass Through Flags: ( 1 1 1 1 1 1 1 1 )\n",
      "    Scalars: \n",
      "      Debug: Off\n",
      "      Modified Time: 258\n",
      "      Reference Count: 1\n",
      "      Registered Events: (none)\n",
      "      Name: scalars\n",
      "      Data type: float\n",
      "      Size: 211017\n",
      "      MaxId: 211016\n",
      "      NumberOfComponents: 1\n",
      "      Information: 0000000000000000\n",
      "      Name: scalars\n",
      "      Number Of Components: 1\n",
      "      Number Of Tuples: 211017\n",
      "      Size: 211017\n",
      "      MaxId: 211016\n",
      "      LookupTable: (none)\n",
      "      Array: 000000000F6A20C0\n",
      "    Vectors: (none)\n",
      "    Normals: \n",
      "      Debug: Off\n",
      "      Modified Time: 264\n",
      "      Reference Count: 1\n",
      "      Registered Events: (none)\n",
      "      Name: Normals\n",
      "      Data type: float\n",
      "      Size: 633051\n",
      "      MaxId: 633050\n",
      "      NumberOfComponents: 3\n",
      "      Information: 0000000000000000\n",
      "      Name: Normals\n",
      "      Number Of Components: 3\n",
      "      Number Of Tuples: 211017\n",
      "      Size: 633051\n",
      "      MaxId: 633050\n",
      "      LookupTable: (none)\n",
      "      Array: 0000000010B34040\n",
      "    TCoords: (none)\n",
      "    Tensors: (none)\n",
      "    GlobalIds: (none)\n",
      "    PedigreeIds: (none)\n",
      "    EdgeFlag: (none)\n",
      "  Bounds: \n",
      "    Xmin,Xmax: (11.9966, 98.5936)\n",
      "    Ymin,Ymax: (-105.781, -6.83206)\n",
      "    Zmin,Zmax: (-38.2691, 30.454)\n",
      "  Compute Time: 304\n",
      "  Number Of Points: 211017\n",
      "  Point Coordinates: 000000000F193C60\n",
      "  Locator: 0000000000000000\n",
      "  Number Of Vertices: 0\n",
      "  Number Of Lines: 0\n",
      "  Number Of Polygons: 420736\n",
      "  Number Of Triangle Strips: 0\n",
      "  Number Of Pieces: 1\n",
      "  Piece: 0\n",
      "  Ghost Level: 0\n",
      "\n",
      "\n"
     ]
    }
   ],
   "source": [
    "print(polydata)"
   ]
  },
  {
   "cell_type": "code",
   "execution_count": 11,
   "metadata": {},
   "outputs": [
    {
     "data": {
      "text/plain": [
       "(46.71561050415039, -84.70323944091797, 22.65153694152832)"
      ]
     },
     "execution_count": 11,
     "metadata": {},
     "output_type": "execute_result"
    }
   ],
   "source": [
    "polydata.GetPoint(0)"
   ]
  },
  {
   "cell_type": "code",
   "execution_count": 12,
   "metadata": {},
   "outputs": [
    {
     "data": {
      "text/plain": [
       "211017L"
      ]
     },
     "execution_count": 12,
     "metadata": {},
     "output_type": "execute_result"
    }
   ],
   "source": [
    "polydata.GetNumberOfPoints()"
   ]
  },
  {
   "cell_type": "code",
   "execution_count": 15,
   "metadata": {},
   "outputs": [],
   "source": [
    "rows                    = None\n",
    "cols                    = None\n",
    "points                  = None\n",
    "\n",
    "pointVector             = polydata.GetPoints()\n",
    "\n",
    "if pointVector:\n",
    "    for i in range(0, pointVector.GetNumberOfPoints()):\n",
    "        point_tuple     = pointVector.GetPoint(i)\n",
    "\n",
    "        if points is None:\n",
    "            rows        = len(point_tuple)\n",
    "            cols        = pointVector.GetNumberOfPoints()\n",
    "            points      = numpy.zeros((rows,cols))\n",
    "\n",
    "        points[0,i]     = point_tuple[0]\n",
    "        points[1,i]     = point_tuple[1]\n",
    "        points[2,i]     = point_tuple[2]"
   ]
  },
  {
   "cell_type": "code",
   "execution_count": 17,
   "metadata": {},
   "outputs": [
    {
     "data": {
      "text/plain": [
       "(3L, 211017L)"
      ]
     },
     "execution_count": 17,
     "metadata": {},
     "output_type": "execute_result"
    }
   ],
   "source": [
    "points.shape"
   ]
  },
  {
   "cell_type": "code",
   "execution_count": 18,
   "metadata": {
    "collapsed": true
   },
   "outputs": [],
   "source": [
    "rows                    = None\n",
    "cols                    = None\n",
    "polygons                = None\n",
    "\n",
    "polys                   = polydata.GetPolys()\n",
    "\n",
    "for i in xrange(polydata.GetNumberOfCells()):\n",
    "    triangle            = polydata.GetCell(i)\n",
    "    pointIds            = triangle.GetPointIds()\n",
    "\n",
    "    if polygons is None:\n",
    "        rows            = pointIds.GetNumberOfIds()\n",
    "        cols            = polydata.GetNumberOfCells()\n",
    "        polygons        = numpy.zeros((rows,cols), dtype=int)\n",
    "\n",
    "    polygons[0,i]       = pointIds.GetId(0)\n",
    "    polygons[1,i]       = pointIds.GetId(1)\n",
    "    polygons[2,i]       = pointIds.GetId(2)"
   ]
  },
  {
   "cell_type": "code",
   "execution_count": null,
   "metadata": {
    "collapsed": true
   },
   "outputs": [],
   "source": [
    "import numpy.matlib\n",
    "import scipy.sparse"
   ]
  },
  {
   "cell_type": "code",
   "execution_count": 29,
   "metadata": {},
   "outputs": [],
   "source": [
    "sparseMatrix            = scipy.sparse.csr_matrix((polydata.GetNumberOfPoints(), polydata.GetNumberOfPoints()))\n",
    "\n",
    "for i in range(0, 1):\n",
    "    i1                  = (i + 0)%3\n",
    "    i2                  = (i + 1)%3\n",
    "    i3                  = (i + 2)%3\n",
    "\n",
    "    distP2P1            = points[:, polygons[i2, :]] - points[:, polygons[i1, :]]\n",
    "    distP3P1            = points[:, polygons[i3, :]] - points[:, polygons[i1, :]]\n",
    "\n",
    "    distP2P1            = distP2P1 / numpy.matlib.repmat(numpy.sqrt((distP2P1**2).sum(0)), 3, 1)\n",
    "    distP3P1            = distP3P1 / numpy.matlib.repmat(numpy.sqrt((distP3P1**2).sum(0)), 3, 1)\n",
    "\n",
    "    angles              = numpy.arccos((distP2P1 * distP3P1).sum(0))\n",
    "\n",
    "    iterData1           = scipy.sparse.csr_matrix((1/numpy.tan(angles), \n",
    "                                            (polygons[i2,:], \n",
    "                                             polygons[i3,:])), \n",
    "                                             shape=(polydata.GetNumberOfPoints(), polydata.GetNumberOfPoints()))\n",
    "\n",
    "    iterData2           = scipy.sparse.csr_matrix((1/numpy.tan(angles), (polygons[i3,:], polygons[i2,:])), shape=(polydata.GetNumberOfPoints(), polydata.GetNumberOfPoints()))\n",
    "\n",
    "    sparseMatrix        = sparseMatrix + iterData1 + iterData2\n",
    "\n",
    "diagonal                = sparseMatrix.sum(0)\n",
    "diagonalSparse          = scipy.sparse.spdiags(diagonal, 0, polydata.GetNumberOfPoints(), polydata.GetNumberOfPoints())\n",
    "laplacian        = diagonalSparse - sparseMatrix"
   ]
  },
  {
   "cell_type": "code",
   "execution_count": 76,
   "metadata": {},
   "outputs": [
    {
     "data": {
      "text/plain": [
       "<211017x211017 sparse matrix of type '<type 'numpy.float64'>'\n",
       "\twith 420736 stored elements in Compressed Sparse Row format>"
      ]
     },
     "execution_count": 76,
     "metadata": {},
     "output_type": "execute_result"
    }
   ],
   "source": [
    "iterData1"
   ]
  },
  {
   "cell_type": "code",
   "execution_count": null,
   "metadata": {
    "collapsed": true
   },
   "outputs": [],
   "source": []
  }
 ],
 "metadata": {
  "kernelspec": {
   "display_name": "Python 2",
   "language": "python",
   "name": "python2"
  },
  "language_info": {
   "codemirror_mode": {
    "name": "ipython",
    "version": 2
   },
   "file_extension": ".py",
   "mimetype": "text/x-python",
   "name": "python",
   "nbconvert_exporter": "python",
   "pygments_lexer": "ipython2",
   "version": "2.7.13"
  }
 },
 "nbformat": 4,
 "nbformat_minor": 2
}
