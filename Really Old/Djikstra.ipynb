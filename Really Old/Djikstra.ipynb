{
 "cells": [
  {
   "cell_type": "markdown",
   "metadata": {},
   "source": [
    "# NO BORRAR"
   ]
  },
  {
   "cell_type": "code",
   "execution_count": null,
   "metadata": {
    "collapsed": true
   },
   "outputs": [],
   "source": [
    "start = time.time()\n",
    "\n",
    "djikstra = vtk.vtkDijkstraGraphGeodesicPath()\n",
    "\n",
    "geodesic_distance = []\n",
    "\n",
    "djikstra.SetInputData(EAM.polydata)\n",
    "djikstra.SetStartVertex(15)\n",
    "\n",
    "for i in range(len(EAM.boundary)):\n",
    "    start = time.time()\n",
    "    djikstra.SetEndVertex(EAM.boundary[i])\n",
    "    djikstra.Update()\n",
    "    \n",
    "    A = djikstra.GetOutput()\n",
    "\n",
    "    cumsum = 0\n",
    "    for i in range(A.GetNumberOfPoints() - 1):\n",
    "        cumsum += sqrt((A.GetPoint(i + 1)[0] - A.GetPoint(i)[0])**2 + (A.GetPoint(i + 1)[1] - A.GetPoint(i)[1])**2 + (A.GetPoint(i + 1)[2] - A.GetPoint(i)[2])**2)\n",
    "\n",
    "    geodesic_distance.append(cumsum)\n",
    "    \n",
    "    output_location = EAM.boundary[where(geodesic_distance==min(geodesic_distance))]\n",
    "\n",
    "print(time.time() - start)\n"
   ]
  },
  {
   "cell_type": "code",
   "execution_count": null,
   "metadata": {
    "collapsed": true
   },
   "outputs": [],
   "source": [
    "output_location"
   ]
  },
  {
   "cell_type": "code",
   "execution_count": null,
   "metadata": {
    "collapsed": true
   },
   "outputs": [],
   "source": [
    "len(EAM.boundary)"
   ]
  },
  {
   "cell_type": "code",
   "execution_count": null,
   "metadata": {
    "collapsed": true
   },
   "outputs": [],
   "source": [
    "djikstra.GetCumulativeWeights(djikstra.GetOutput().GetPoints().GetData())"
   ]
  },
  {
   "cell_type": "code",
   "execution_count": null,
   "metadata": {
    "collapsed": true
   },
   "outputs": [],
   "source": [
    "len(MRI.boundary)"
   ]
  },
  {
   "cell_type": "code",
   "execution_count": null,
   "metadata": {
    "collapsed": true
   },
   "outputs": [],
   "source": [
    "djikstra.UseScalarWeightsOn()\n",
    "djikstra.Update()"
   ]
  },
  {
   "cell_type": "code",
   "execution_count": null,
   "metadata": {
    "collapsed": true
   },
   "outputs": [],
   "source": [
    "A = djikstra.GetIdList()"
   ]
  },
  {
   "cell_type": "code",
   "execution_count": null,
   "metadata": {
    "collapsed": true
   },
   "outputs": [],
   "source": [
    "print(A)"
   ]
  },
  {
   "cell_type": "code",
   "execution_count": null,
   "metadata": {
    "collapsed": true
   },
   "outputs": [],
   "source": [
    "B = A.GetPoints()"
   ]
  },
  {
   "cell_type": "code",
   "execution_count": null,
   "metadata": {
    "collapsed": true
   },
   "outputs": [],
   "source": [
    "print(B.GetData())\n",
    "C = vtk.vtkDoubleArray()"
   ]
  },
  {
   "cell_type": "code",
   "execution_count": null,
   "metadata": {
    "collapsed": true
   },
   "outputs": [],
   "source": [
    "start = time.time()\n",
    "\n",
    "geodesic_distance = []\n",
    "\n",
    "geo = vtk.vtkGeodesicPath()\n",
    "\n",
    "geo.SetInputData(MRI.polydata)\n",
    "geo.SetStartVertex(18575)\n",
    "\n",
    "for i in range(len(MRI.boundary)):\n",
    "    geo.SetEndVertex(MRI.boundary[i])\n",
    "    geo.Update()\n",
    "    \n",
    "    A = geo.GetIdList()\n",
    "\n",
    "    cumsum = 0\n",
    "    for i in range(A.GetNumberOfPoints() - 1):\n",
    "        cumsum += sqrt((A.GetPoint(i + 1)[0] - A.GetPoint(i)[0])**2 + (A.GetPoint(i + 1)[1] - A.GetPoint(i)[1])**2 + (A.GetPoint(i + 1)[2] - A.GetPoint(i)[2])**2)\n",
    "\n",
    "    geodesic_distance.append(cumsum)\n",
    "\n",
    "print(time.time() - start)"
   ]
  },
  {
   "cell_type": "code",
   "execution_count": null,
   "metadata": {
    "collapsed": true
   },
   "outputs": [],
   "source": [
    "print(MRI.polydata.GetPoint(18575))\n",
    "print(A.GetPoint(A.GetNumberOfPoints() - 1))\n",
    "print('')\n",
    "print(MRI.polydata.GetPoint(10000))\n",
    "print(A.GetPoint(0))\n",
    "\n",
    "cumsum = 0\n",
    "for i in range(A.GetNumberOfPoints() - 1):\n",
    "    cumsum += sqrt((A.GetPoint(i + 1)[0] - A.GetPoint(i)[0])**2 + (A.GetPoint(i + 1)[1] - A.GetPoint(i)[1])**2 + (A.GetPoint(i + 1)[2] - A.GetPoint(i)[2])**2)\n",
    "    \n",
    "print(cumsum)"
   ]
  },
  {
   "cell_type": "code",
   "execution_count": null,
   "metadata": {
    "collapsed": true
   },
   "outputs": [],
   "source": [
    "A.GetNumberOfPoints()"
   ]
  },
  {
   "cell_type": "code",
   "execution_count": null,
   "metadata": {
    "collapsed": true
   },
   "outputs": [],
   "source": [
    "print(djikstra)"
   ]
  },
  {
   "cell_type": "code",
   "execution_count": null,
   "metadata": {
    "collapsed": true
   },
   "outputs": [],
   "source": [
    "MRI.closest_boundary_point()"
   ]
  },
  {
   "cell_type": "code",
   "execution_count": null,
   "metadata": {
    "collapsed": true
   },
   "outputs": [],
   "source": [
    "import scipy, time, os, numpy;\n",
    "\n",
    "path_EAM = join(\"/home/guille/BitBucket/qcm/data/pat1/EAM/\", \"pat1_EAM_endo_smooth.vtk\");\n",
    "\n",
    "# start = time.time(); MRI = PyQCM(path_MRI, septum_MRI, apex_MRI); print(time.time() - start);\n",
    "start = time.time(); EAM = PyQCM(path_EAM); print(time.time() - start);"
   ]
  },
  {
   "cell_type": "code",
   "execution_count": null,
   "metadata": {
    "collapsed": true
   },
   "outputs": [],
   "source": [
    "EAM.closest_boundary_point()"
   ]
  },
  {
   "cell_type": "code",
   "execution_count": null,
   "metadata": {
    "collapsed": true
   },
   "outputs": [],
   "source": [
    "EAM.points.shape"
   ]
  },
  {
   "cell_type": "code",
   "execution_count": null,
   "metadata": {
    "collapsed": true
   },
   "outputs": [],
   "source": [
    "rlfac_solvers = dict()\n",
    "\n",
    "def approx_geodesic_distance(image, verts, m=0.1, rlfac_solvers):\n",
    "    npt = len(image.points.T)\n",
    "    t = m * self.avg_edge_length ** 2 # time of heat evolution\n",
    "\n",
    "    if m not in rlfac_solvers:\n",
    "        B, D, W, V = self.laplace_operator\n",
    "        nLC = W - V # negative laplace matrix\n",
    "        spD = sparse.dia_matrix((D,[0]), (npt,npt)).tocsr() # lumped mass matrix\n",
    "\n",
    "        lfac = spD - t * nLC # backward Euler matrix\n",
    "\n",
    "        # Exclude rows with zero weight (these break the sparse LU, that finicky fuck)\n",
    "        goodrows = np.nonzero(~np.array(lfac.sum(0) == 0).ravel())[0]\n",
    "        self._goodrows = goodrows\n",
    "        self._rlfac_solvers[m] = sparse.linalg.dsolve.factorized(lfac[goodrows][:,goodrows])\n",
    "\n",
    "    # Solve system to get u, the heat values\n",
    "    u0 = np.zeros((npt,)) # initial heat values\n",
    "    u0[verts] = 1.0\n",
    "    goodu = self._rlfac_solvers[m](u0[self._goodrows])\n",
    "    u = np.zeros((npt,))\n",
    "    u[self._goodrows] = goodu\n",
    "\n",
    "    return -4 * t * np.log(u)"
   ]
  },
  {
   "cell_type": "code",
   "execution_count": null,
   "metadata": {
    "collapsed": true
   },
   "outputs": [],
   "source": [
    "import polyutils\n",
    "import numpy"
   ]
  },
  {
   "cell_type": "code",
   "execution_count": null,
   "metadata": {
    "collapsed": true
   },
   "outputs": [],
   "source": [
    "A = polyutils.Surface(MRI.points.T, MRI.polygons.T)"
   ]
  },
  {
   "cell_type": "code",
   "execution_count": null,
   "metadata": {
    "collapsed": true
   },
   "outputs": [],
   "source": [
    "start = time.time(); A.approx_geodesic_distance(14,m=15); print(time.time() - start)"
   ]
  },
  {
   "cell_type": "code",
   "execution_count": null,
   "metadata": {
    "collapsed": true
   },
   "outputs": [],
   "source": [
    "A.approx_geodesic_distance(14)[MRI.boundary[:]]"
   ]
  },
  {
   "cell_type": "code",
   "execution_count": null,
   "metadata": {
    "collapsed": true
   },
   "outputs": [],
   "source": [
    "A.approx_geodesic_distance(14).min()"
   ]
  }
 ],
 "metadata": {
  "kernelspec": {
   "display_name": "Python 2",
   "language": "python",
   "name": "python2"
  },
  "language_info": {
   "codemirror_mode": {
    "name": "ipython",
    "version": 2
   },
   "file_extension": ".py",
   "mimetype": "text/x-python",
   "name": "python",
   "nbconvert_exporter": "python",
   "pygments_lexer": "ipython2",
   "version": "2.7.13"
  }
 },
 "nbformat": 4,
 "nbformat_minor": 2
}
