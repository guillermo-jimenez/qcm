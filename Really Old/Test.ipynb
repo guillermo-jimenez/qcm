{
 "cells": [
  {
   "cell_type": "code",
   "execution_count": 1,
<<<<<<< Updated upstream
   "metadata": {
    "collapsed": true
   },
   "outputs": [],
=======
   "metadata": {},
   "outputs": [
    {
     "data": {
      "text/plain": [
       "<module 'VentricularInterpolator' from 'VentricularInterpolator.pyc'>"
      ]
     },
     "execution_count": 1,
     "metadata": {},
     "output_type": "execute_result"
    }
   ],
>>>>>>> Stashed changes
   "source": [
    "# import VentricularImage\n",
    "# import VentricularInterpolator\n",
    "# import time\n",
    "# import os\n",
    "# import os.path\n",
    "# import vtk\n",
    "# import numpy\n",
    "# import scipy\n",
    "\n",
    "# reload(VentricularImage)\n",
    "# reload(VentricularInterpolator)"
   ]
  },
  {
   "cell_type": "code",
   "execution_count": 28,
   "metadata": {},
   "outputs": [],
   "source": [
    "path = os.path.abspath('C:/Users/guill/Documents/Git/qcm/data/pat1/MRI/pat1_MRI_endo_smooth.vtk')"
   ]
  },
  {
   "cell_type": "code",
   "execution_count": 29,
   "metadata": {},
   "outputs": [
    {
     "data": {
      "text/plain": [
       "'C:\\\\Users\\\\guill\\\\Documents\\\\Git\\\\qcm\\\\data\\\\pat1\\\\MRI\\\\pat1_MRI_endo_smooth.vtk'"
      ]
     },
     "execution_count": 29,
     "metadata": {},
     "output_type": "execute_result"
    }
   ],
   "source": [
    "path"
   ]
  },
  {
   "cell_type": "code",
   "execution_count": 30,
   "metadata": {},
   "outputs": [
    {
     "ename": "RuntimeError",
     "evalue": "File does not exist",
     "output_type": "error",
     "traceback": [
      "\u001b[1;31m---------------------------------------------------------------------------\u001b[0m",
      "\u001b[1;31mRuntimeError\u001b[0m                              Traceback (most recent call last)",
      "\u001b[1;32m<ipython-input-30-24dea9d8f21f>\u001b[0m in \u001b[0;36m<module>\u001b[1;34m()\u001b[0m\n\u001b[1;32m----> 1\u001b[1;33m \u001b[0mMRI\u001b[0m \u001b[1;33m=\u001b[0m \u001b[0mVentricularImage\u001b[0m\u001b[1;33m.\u001b[0m\u001b[0mVentricularQCM\u001b[0m\u001b[1;33m(\u001b[0m\u001b[0mpath\u001b[0m\u001b[1;33m,\u001b[0m \u001b[1;36m131\u001b[0m\u001b[1;33m,\u001b[0m\u001b[1;36m15\u001b[0m\u001b[1;33m)\u001b[0m\u001b[1;33m\u001b[0m\u001b[0m\n\u001b[0m",
      "\u001b[1;32mC:\\Users\\guill\\Documents\\Git\\pyqcm\\VentricularImage.pyc\u001b[0m in \u001b[0;36m__init__\u001b[1;34m(self, path, septum, apex, output_path)\u001b[0m\n\u001b[0;32m    264\u001b[0m         \"\"\"\n\u001b[0;32m    265\u001b[0m \u001b[1;33m\u001b[0m\u001b[0m\n\u001b[1;32m--> 266\u001b[1;33m         \u001b[0mBaseImage\u001b[0m\u001b[1;33m.\u001b[0m\u001b[0m__init__\u001b[0m\u001b[1;33m(\u001b[0m\u001b[0mself\u001b[0m\u001b[1;33m,\u001b[0m \u001b[0mpath\u001b[0m\u001b[1;33m)\u001b[0m\u001b[1;33m;\u001b[0m\u001b[1;33m\u001b[0m\u001b[0m\n\u001b[0m\u001b[0;32m    267\u001b[0m \u001b[1;33m\u001b[0m\u001b[0m\n\u001b[0;32m    268\u001b[0m         \u001b[0mself\u001b[0m\u001b[1;33m.\u001b[0m\u001b[0m__septum\u001b[0m           \u001b[1;33m=\u001b[0m \u001b[0mseptum\u001b[0m\u001b[1;33m;\u001b[0m\u001b[1;33m\u001b[0m\u001b[0m\n",
      "\u001b[1;32mC:\\Users\\guill\\Documents\\Git\\pyqcm\\AbstractImage.pyc\u001b[0m in \u001b[0;36m__init__\u001b[1;34m(self, path)\u001b[0m\n\u001b[0;32m    161\u001b[0m             \u001b[0mself\u001b[0m\u001b[1;33m.\u001b[0m\u001b[0m__path\u001b[0m         \u001b[1;33m=\u001b[0m \u001b[0mpath\u001b[0m\u001b[1;33m;\u001b[0m\u001b[1;33m\u001b[0m\u001b[0m\n\u001b[0;32m    162\u001b[0m         \u001b[1;32melse\u001b[0m\u001b[1;33m:\u001b[0m\u001b[1;33m\u001b[0m\u001b[0m\n\u001b[1;32m--> 163\u001b[1;33m             \u001b[1;32mraise\u001b[0m \u001b[0mRuntimeError\u001b[0m\u001b[1;33m(\u001b[0m\u001b[1;34m\"File does not exist\"\u001b[0m\u001b[1;33m)\u001b[0m\u001b[1;33m;\u001b[0m\u001b[1;33m\u001b[0m\u001b[0m\n\u001b[0m\u001b[0;32m    164\u001b[0m \u001b[1;33m\u001b[0m\u001b[0m\n\u001b[0;32m    165\u001b[0m         \u001b[0mself\u001b[0m\u001b[1;33m.\u001b[0m\u001b[0m__read_polydata\u001b[0m\u001b[1;33m(\u001b[0m\u001b[1;33m)\u001b[0m\u001b[1;33m;\u001b[0m\u001b[1;33m\u001b[0m\u001b[0m\n",
      "\u001b[1;31mRuntimeError\u001b[0m: File does not exist"
     ]
    }
   ],
   "source": [
    "MRI = VentricularImage.VentricularQCM(path, 131,15)"
   ]
  },
  {
   "cell_type": "code",
   "execution_count": 8,
   "metadata": {
    "collapsed": true
   },
   "outputs": [],
   "source": [
    "laplacian = MRI.laplacian"
   ]
  },
  {
   "cell_type": "code",
   "execution_count": 9,
   "metadata": {
    "collapsed": true
   },
   "outputs": [],
   "source": [
<<<<<<< Updated upstream
    "from __future__ import division\n",
    "\n",
    "from os import system\n",
    "from os import mkdir\n",
    "\n",
    "from os.path import isfile\n",
    "from os.path import isdir\n",
    "from os.path import split\n",
    "from os.path import splitext\n",
    "from os.path import join\n",
    "\n",
    "from numpy import int\n",
    "from numpy import dtype\n",
    "\n",
    "from numpy.matlib import repmat\n",
    "\n",
    "from scipy import zeros\n",
    "from scipy import array\n",
    "from scipy import asarray\n",
    "from scipy import mean\n",
    "from scipy import sqrt\n",
    "from scipy import pi\n",
    "from scipy import sin\n",
    "from scipy import cos\n",
    "from scipy import tan\n",
    "from scipy import arccos\n",
    "from scipy import cumsum\n",
    "from scipy import where\n",
    "from scipy import flipud\n",
    "from scipy import roll\n",
    "from scipy import dot\n",
    "from scipy import cross\n",
    "\n",
    "from scipy.linalg import norm\n",
    "\n",
    "from scipy.sparse import csr_matrix\n",
    "from scipy.sparse import spdiags\n",
    "from scipy.sparse import find\n",
    "\n",
    "from vtk import vtkPolyDataReader\n",
    "from vtk import vtkPolyData\n",
    "from vtk import vtkPolyDataWriter\n",
    "from vtk import vtkPoints\n",
    "from vtk import vtkIdList\n",
    "\n",
    "from scipy.sparse.linalg import spsolve\n",
    "from mvpoly.rbf import RBFThinPlateSpline"
=======
    "import matplotlib.pyplot"
>>>>>>> Stashed changes
   ]
  },
  {
   "cell_type": "code",
<<<<<<< Updated upstream
   "execution_count": 3,
   "metadata": {
    "collapsed": true
   },
   "outputs": [],
   "source": [
    "from os.path import abspath\n",
    "\n",
    "path = join(abspath(''),'Layer_10_percent_colored.vtk')"
=======
   "execution_count": 11,
   "metadata": {},
   "outputs": [],
   "source": [
    "laplacian = laplacian.todense()"
   ]
  },
  {
   "cell_type": "code",
   "execution_count": 19,
   "metadata": {},
   "outputs": [
    {
     "data": {
      "text/plain": [
       "-1941.8891971825865"
      ]
     },
     "execution_count": 19,
     "metadata": {},
     "output_type": "execute_result"
    }
   ],
   "source": [
    "laplacian.min()"
   ]
  },
  {
   "cell_type": "code",
   "execution_count": 27,
   "metadata": {},
   "outputs": [
    {
     "data": {
      "image/png": "iVBORw0KGgoAAAANSUhEUgAAA0QAAANHCAYAAAAWjZ2AAAAABHNCSVQICAgIfAhkiAAAAAlwSFlz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\nRU5ErkJggg==\n",
      "text/plain": [
       "<matplotlib.figure.Figure at 0x1a0b1668>"
      ]
     },
     "metadata": {},
     "output_type": "display_data"
    }
   ],
   "source": [
    "matplotlib.pyplot.figure(figsize=(15,15))\n",
    "matplotlib.pyplot.imshow(laplacian,vmin=-10, vmax=10)\n",
    "matplotlib.pyplot.colorbar()\n",
    "matplotlib.pyplot.show()"
>>>>>>> Stashed changes
   ]
  },
  {
   "cell_type": "code",
   "execution_count": 4,
   "metadata": {},
   "outputs": [
    {
     "name": "stdout",
     "output_type": "stream",
     "text": [
      "/home/guille/BitBucket/pyqcm/Layer_10_percent_colored.vtk\n"
     ]
    }
   ],
   "source": [
    "print(path)"
   ]
  },
  {
   "cell_type": "code",
   "execution_count": 5,
   "metadata": {
    "collapsed": true
   },
   "outputs": [],
   "source": [
    "reader = vtkPolyDataReader()\n",
    "reader.SetFileName(path)\n",
    "reader.Update()\n",
    "\n",
    "polydata                = reader.GetOutput()\n",
    "polydata.BuildLinks()"
   ]
  },
  {
<<<<<<< Updated upstream
   "cell_type": "markdown",
   "metadata": {
    "collapsed": true
   },
=======
   "cell_type": "code",
   "execution_count": 7,
   "metadata": {
    "collapsed": true
   },
   "outputs": [],
>>>>>>> Stashed changes
   "source": [
    "# Next"
   ]
  },
  {
   "cell_type": "code",
   "execution_count": 6,
   "metadata": {
    "collapsed": true
   },
   "outputs": [],
   "source": [
    "# -*- coding: utf-8 -*-\n",
    "\n",
    "from __future__ import division\n",
    "\n",
    "from os import system\n",
    "from os import mkdir\n",
    "\n",
    "from os.path import isfile\n",
    "from os.path import isdir\n",
    "from os.path import split\n",
    "from os.path import splitext\n",
    "from os.path import join\n",
    "\n",
    "from numpy import int\n",
    "from numpy import dtype\n",
    "\n",
    "from numpy.matlib import repmat\n",
    "\n",
    "from scipy import zeros\n",
    "from scipy import array\n",
    "from scipy import asarray\n",
    "from scipy import mean\n",
    "from scipy import sqrt\n",
    "from scipy import pi\n",
    "from scipy import sin\n",
    "from scipy import cos\n",
    "from scipy import tan\n",
    "from scipy import arccos\n",
    "from scipy import cumsum\n",
    "from scipy import where\n",
    "from scipy import flipud\n",
    "from scipy import roll\n",
    "from scipy import dot\n",
    "from scipy import cross\n",
    "\n",
    "from scipy.linalg import norm\n",
    "\n",
    "from scipy.sparse import csr_matrix\n",
    "from scipy.sparse import spdiags\n",
    "from scipy.sparse import find\n",
    "\n",
    "from vtk import vtkPolyDataReader\n",
    "from vtk import vtkPolyData\n",
    "from vtk import vtkPolyDataWriter\n",
    "from vtk import vtkPoints\n",
    "from vtk import vtkIdList\n",
    "\n",
    "from scipy.sparse.linalg import spsolve\n",
    "from mvpoly.rbf import RBFThinPlateSpline\n",
    "\n",
    "from PointPicker import PointSelector\n",
    "\n",
    "\n",
    "class PyQCM(object):\n",
    "    __path                          = None\n",
    "\n",
    "    __polydata                      = None\n",
    "    __points                        = None\n",
    "    __polygons                      = None\n",
    "\n",
    "    __scalars                       = None\n",
    "    __normals                       = None\n",
    "\n",
    "    __npoints                       = None\n",
    "    __npolygons                     = None\n",
    "    __ndim                          = None\n",
    "    __nscalars                      = None\n",
    "    __nedges_mesh                   = None\n",
    "    __scalars_names                 = None\n",
    "\n",
    "    __septum                        = None\n",
    "    __apex                          = None\n",
    "    __laplacian                     = None\n",
    "    __boundary                      = None\n",
    "    __output_polydata               = None\n",
    "    __homeomorphism                 = None\n",
    "    __output_path                   = None\n",
    "\n",
    "\n",
    "    def __init__(self, path, septum=None, apex=None, output_path=None):\n",
    "        self.__septum               = septum\n",
    "        self.__apex                 = apex\n",
    "\n",
    "        # Reading the input VTK file\n",
    "        if ((path is not None) and (self.polydata is None)):\n",
    "            if isfile(path):\n",
    "                self.__path         = path\n",
    "            else:\n",
    "                raise RuntimeError(\"File does not exist\")\n",
    "\n",
    "            reader                  = vtkPolyDataReader()\n",
    "            reader.SetFileName(self.path)\n",
    "            reader.Update()\n",
    "\n",
    "            self.__polydata         = reader.GetOutput()\n",
    "            self.__polydata.BuildLinks()\n",
    "\n",
    "        # Establishing an output path\n",
    "        if output_path is None:\n",
    "            self.__output_path      = self.path\n",
    "        else:\n",
    "            if output_path is self.path:\n",
    "                print(\" *  Output path provided coincides with input path.\\n\"+\n",
    "                      \"    Overwriting the input file is not permitted.\\n\"+\n",
    "                      \"    Writing in the default location...\\n\")\n",
    "                self.__output_path  = self.path\n",
    "            else:\n",
    "                self.__output_path  = output_path\n",
    "\n",
    "        # Exporting VTK points to numpy for a more efficient manipulation\n",
    "        pointVector                 = self.polydata.GetPoints()\n",
    "\n",
    "        try:\n",
    "            rows                    = len(pointVector.GetPoint(0))\n",
    "            cols                    = pointVector.GetNumberOfPoints()\n",
    "            points                  = zeros((rows,cols))\n",
    "        except:\n",
    "            raise Exception(\"The VTK file provided does not contain any points\")\n",
    "\n",
    "        if pointVector:\n",
    "            for i in range(0, pointVector.GetNumberOfPoints()):\n",
    "                point_tuple         = pointVector.GetPoint(i)\n",
    "\n",
    "                points[0,i]         = point_tuple[0]\n",
    "                points[1,i]         = point_tuple[1]\n",
    "                points[2,i]         = point_tuple[2]\n",
    "\n",
    "        # Exporting VTK triangles to numpy for a more efficient manipulation\n",
    "        polygons                    = None\n",
    "\n",
    "        for i in xrange(self.polydata.GetNumberOfCells()):\n",
    "            pointIds                = self.polydata.GetCell(i).GetPointIds()\n",
    "\n",
    "            if polygons is None:\n",
    "                try:\n",
    "                    rows            = pointIds.GetNumberOfIds()\n",
    "                    cols            = self.polydata.GetNumberOfCells()\n",
    "                    polygons        = zeros((rows,cols), dtype=int)\n",
    "                except:\n",
    "                    raise Exception(\"The VTK file provided does not contain a triangulation\")\n",
    "\n",
    "            polygons[0,i]           = pointIds.GetId(0)\n",
    "            polygons[1,i]           = pointIds.GetId(1)\n",
    "            polygons[2,i]           = pointIds.GetId(2)\n",
    "\n",
    "        selected = True\n",
    "        \n",
    "        while(selected):\n",
    "            if self.septum is None:\n",
    "                if self.apex is None:\n",
    "#                     print(\"Apical and septal points not selected. Click inside \"  + \\\n",
    "#                           \"the visualization, direct your pointer to the apical \" + \\\n",
    "#                           \"point and press 'p'. The apex will be highlighted as \" + \\\n",
    "#                           \"a red point. Afterwards, direct your pointer to the \"  + \\\n",
    "#                           \"septal point and press 'p', which will be highlighted \"+ \\\n",
    "#                           \"as a green point. If you missplaced any of the \"       + \\\n",
    "#                           \"points, select a third point in a random position and \"+ \\\n",
    "#                           \"start anew by pressing 'q'. Once those points are \"    + \\\n",
    "#                           \"selected, press 'q' and the execution will continue.\")\n",
    "                    ps = PointSelector()\n",
    "                    ps.DoSelection(self.polydata)\n",
    "\n",
    "                    if ps.GetSelectedPoints().GetNumberOfPoints() == 2:\n",
    "                        selected = False\n",
    "\n",
    "                        self.__apex     = ps.GetSelectedPointIds().GetId(1)\n",
    "                        self.__septum   = ps.GetSelectedPointIds().GetId(0)\n",
    "\n",
    "                else:\n",
    "#                     print(\"The septal point is not provided. Click inside \"       + \\\n",
    "#                           \"the visualization, direct your pointer to the septal \" + \\\n",
    "#                           \"point and press 'p'. The septum will be highlighted \"  + \\\n",
    "#                           \"as a red point. If you missplaced the \"                + \\\n",
    "#                           \"point, select a second point in a random position and \"+ \\\n",
    "#                           \"start anew by pressing 'q'. Once those points are \"    + \\\n",
    "#                           \"selected, press 'q' and the execution will continue.\")\n",
    "                    ps = PointSelector()\n",
    "                    ps.DoSelection(self.polydata)\n",
    "\n",
    "                    if ps.GetSelectedPoints().GetNumberOfPoints() == 1:\n",
    "                        selected = False\n",
    "\n",
    "                        self.__septum   = ps.GetSelectedPointIds().GetId(0)\n",
    "            else:\n",
    "                if self.apex is None:\n",
    "#                     print(\"The apical point is not provided. Click inside \"       + \\\n",
    "#                           \"the visualization, direct your pointer to the apical \" + \\\n",
    "#                           \"point and press 'p'. The apex will be highlighted \"    + \\\n",
    "#                           \"as a red point. If you missplaced the \"                + \\\n",
    "#                           \"point, select a second point in a random position and \"+ \\\n",
    "#                           \"start anew by pressing 'q'. Once those points are \"    + \\\n",
    "#                           \"selected, press 'q' and the execution will continue.\")\n",
    "                    ps = PointSelector()\n",
    "                    ps.DoSelection(self.polydata)\n",
    "\n",
    "                    if ps.GetSelectedPoints().GetNumberOfPoints() == 1:\n",
    "                        selected = False\n",
    "\n",
    "                        self.__apex     = ps.GetSelectedPointIds().GetId(0)\n",
    "\n",
    "        self.__points               = points\n",
    "        self.__polygons             = polygons\n",
    "\n",
    "        self.__calc_boundary()\n",
    "        self.__rearrange()\n",
    "        self.__calc_laplacian()\n",
    "        self.__calc_homeomorphism()\n",
    "        self.__calc_thin_plate_splines()\n",
    "        self.__write_output()\n",
    "\n",
    "    @property\n",
    "    def path(self):\n",
    "        return self.__path\n",
    "\n",
    "    @property\n",
    "    def output_path(self):\n",
    "        return self.__output_path\n",
    "\n",
    "    @property\n",
    "    def polydata(self):\n",
    "        \"\"\"Testing docstring of attribute\"\"\"\n",
    "        return self.__polydata\n",
    "\n",
    "    @property\n",
    "    def points(self):\n",
    "        return self.__points\n",
    "\n",
    "    @property\n",
    "    def polygons(self):\n",
    "        return self.__polygons\n",
    "\n",
    "    @output_path.setter\n",
    "    def output_path(self, output_path):\n",
    "        if output_path is self.path:\n",
    "            print(\" *  Warning! Overwriting the input file is not permitted.\\n\"\n",
    "                  \"    Aborting...\\n\")\n",
    "            return\n",
    "        else:\n",
    "            if self.output_path == self.path:\n",
    "                print(\" *  Warning! The file written to the default location will *not*\\n\"\n",
    "                      \"    be deleted\\n\")\n",
    "            else:\n",
    "                print(\" *  Warning! The file written to the previous working location will \\n\"\n",
    "                      \"    *not* be deleted\\n\")\n",
    "\n",
    "        self.__output_path      = output_path\n",
    "        self.__write_output()\n",
    "\n",
    "\n",
    "    @property\n",
    "    def septum(self):\n",
    "        return self.__septum\n",
    "\n",
    "    @septum.setter\n",
    "    def septum(self, septum):\n",
    "        if septum >= self.polydata.GetNumberOfPoints():\n",
    "            raise RuntimeError(\"Septal point provided is out of bounds\")\n",
    "\n",
    "        self.rearrange_boundary(septum)\n",
    "\n",
    "    @property\n",
    "    def apex(self):\n",
    "        return self.__apex\n",
    "\n",
    "    @apex.setter\n",
    "    def apex(self, apex):\n",
    "        if apex >= self.polydata.GetNumberOfPoints():\n",
    "            raise RuntimeError(\"Apical point provided is out of bounds\")\n",
    "\n",
    "        self.__apex             = apex\n",
    "        self.__calc_homeomorphism()\n",
    "        self.__write_output()\n",
    "\n",
    "    @property\n",
    "    def laplacian(self):\n",
    "        return self.__laplacian\n",
    "\n",
    "    @property\n",
    "    def boundary(self):\n",
    "        return self.__boundary\n",
    "\n",
    "    @property\n",
    "    def boundary_points(self):\n",
    "        return self.points[:, self.boundary]\n",
    "\n",
    "    @property\n",
    "    def homeomorphism(self):\n",
    "        return self.__homeomorphism\n",
    "\n",
    "    @property\n",
    "    def output_polydata(self):\n",
    "        return self.__output_polydata\n",
    "\n",
    "    def __calc_boundary(self):\n",
    "        startingPoint           = None\n",
    "        currentPoint            = None\n",
    "        foundBoundary           = False\n",
    "        cellId                  = None\n",
    "        boundary                = []\n",
    "        visitedEdges            = []\n",
    "        visitedBoundaryEdges    = []\n",
    "\n",
    "        for cellId in xrange(self.polydata.GetNumberOfCells()):\n",
    "            cellPointIdList     = vtkIdList()\n",
    "            cellEdges           = []\n",
    "\n",
    "            self.polydata.GetCellPoints(cellId, cellPointIdList)\n",
    "\n",
    "            cellEdges           = [[cellPointIdList.GetId(0), \n",
    "                                    cellPointIdList.GetId(1)], \n",
    "                                   [cellPointIdList.GetId(1), \n",
    "                                    cellPointIdList.GetId(2)], \n",
    "                                   [cellPointIdList.GetId(2), \n",
    "                                    cellPointIdList.GetId(0)]]\n",
    "\n",
    "            for i in xrange(len(cellEdges)):\n",
    "                if (cellEdges[i] in visitedEdges) == False:\n",
    "                    visitedEdges.append(cellEdges[i])\n",
    "\n",
    "                    edgeIdList  = vtkIdList()\n",
    "                    edgeIdList.InsertNextId(cellEdges[i][0])\n",
    "                    edgeIdList.InsertNextId(cellEdges[i][1])\n",
    "\n",
    "                    singleCellEdgeNeighborIds = vtkIdList()\n",
    "\n",
    "                    self.polydata.GetCellEdgeNeighbors(cellId, cellEdges[i][0], cellEdges[i][1], singleCellEdgeNeighborIds)\n",
    "\n",
    "                    if singleCellEdgeNeighborIds.GetNumberOfIds() == 0:\n",
    "                        foundBoundary   = True\n",
    "\n",
    "                        startingPoint   = cellEdges[i][0]\n",
    "                        currentPoint    = cellEdges[i][1]\n",
    "\n",
    "                        boundary.append(cellEdges[i][0])\n",
    "                        boundary.append(cellEdges[i][1])\n",
    "\n",
    "                        visitedBoundaryEdges.append([currentPoint,startingPoint])\n",
    "                        visitedBoundaryEdges.append([startingPoint,currentPoint])\n",
    "\n",
    "            if foundBoundary == True:\n",
    "                break\n",
    "\n",
    "        if foundBoundary == False:\n",
    "            raise Exception(\"The mesh provided has no boundary not possible to do Quasi-Conformal Mapping on this dataset.\")\n",
    "\n",
    "        while currentPoint != startingPoint:\n",
    "            neighboringCells    = vtkIdList()\n",
    "\n",
    "            self.polydata.GetPointCells(currentPoint, neighboringCells)\n",
    "\n",
    "            for i in xrange(neighboringCells.GetNumberOfIds()):\n",
    "                cell = neighboringCells.GetId(i)\n",
    "                triangle = self.polydata.GetCell(cell)\n",
    "\n",
    "                for j in xrange(triangle.GetNumberOfPoints()):\n",
    "                    if triangle.GetPointId(j) == currentPoint:\n",
    "                        j1      = (j + 1) % 3\n",
    "                        j2      = (j + 2) % 3\n",
    "\n",
    "                        edge1   = [triangle.GetPointId(j),\n",
    "                             triangle.GetPointId(j1)]\n",
    "                        edge2   = [triangle.GetPointId(j),\n",
    "                             triangle.GetPointId(j2)]\n",
    "\n",
    "                edgeNeighbors1  = vtkIdList()\n",
    "                edgeNeighbors2  = vtkIdList()\n",
    "\n",
    "                self.polydata.GetCellEdgeNeighbors(cell, edge1[0], edge1[1], edgeNeighbors1)\n",
    "\n",
    "                self.polydata.GetCellEdgeNeighbors(cell, edge2[0], edge2[1], edgeNeighbors2)\n",
    "\n",
    "                if edgeNeighbors1.GetNumberOfIds() == 0:\n",
    "                    if ([edge1[1], edge1[0]] in visitedBoundaryEdges) == False:\n",
    "                        if (edge1[1] in boundary) == False:\n",
    "                            boundary.append(edge1[1])\n",
    "                        visitedBoundaryEdges.append([edge1[0], edge1[1]])\n",
    "                        visitedBoundaryEdges.append([edge1[1], edge1[0]])\n",
    "                        currentPoint = edge1[1]\n",
    "                        break\n",
    "\n",
    "                if edgeNeighbors2.GetNumberOfIds() == 0:\n",
    "                    if ([edge2[1], edge2[0]] in visitedBoundaryEdges) == False:\n",
    "                        if (edge2[1] in boundary) == False:\n",
    "                            boundary.append(edge2[1])\n",
    "                        visitedBoundaryEdges.append([edge2[0], edge2[1]])\n",
    "                        visitedBoundaryEdges.append([edge2[1], edge2[0]])\n",
    "                        currentPoint = edge2[1]\n",
    "                        break\n",
    "\n",
    "        boundary    = asarray(boundary, dtype=int)\n",
    "\n",
    "        center      = mean(self.points[:,boundary], axis=1)\n",
    "        vector1     = asarray(self.points[:,boundary[0]] - center)\n",
    "        vector2     = asarray(self.points[:,boundary[1]] - center)\n",
    "        vectorNormal= cross(vector1, vector2)\n",
    "        vectorApex  = self.points[:, self.apex] - center\n",
    "\n",
    "        if len(center.shape) is not 1:\n",
    "            if center.shape[0] is not 3:\n",
    "                raise Exception(\"Something went wrong. Probably forgot to transpose this. Contact maintainer.\")\n",
    "\n",
    "        if dot(vectorApex, vectorNormal) < 0:\n",
    "            boundary            = flipud(boundary)\n",
    "            boundary            = roll(boundary, 1)\n",
    "\n",
    "        self.__boundary         = boundary\n",
    "\n",
    "\n",
    "    def __calc_laplacian(self):\n",
    "        numPoints           = self.polydata.GetNumberOfPoints()\n",
    "        numPolygons         = self.polydata.GetNumberOfPolys()\n",
    "        numDims             = self.polydata.GetPoints().GetData().GetNumberOfComponents()\n",
    "        sparseMatrix        = csr_matrix((numPoints, numPoints))\n",
    "\n",
    "        for i in range(0, numDims):\n",
    "            i1              = (i + 0)%3\n",
    "            i2              = (i + 1)%3\n",
    "            i3              = (i + 2)%3\n",
    "\n",
    "            vectP2P1        = (self.points[:, self.polygons[i2, :]] \n",
    "                              - self.points[:, self.polygons[i1, :]])\n",
    "            vectP3P1        = (self.points[:, self.polygons[i3, :]] \n",
    "                              - self.points[:, self.polygons[i1, :]])\n",
    "\n",
    "            vectP2P1        = vectP2P1 / repmat(sqrt((vectP2P1**2).sum(0)), \n",
    "                                                numDims, 1)\n",
    "            vectP3P1        = vectP3P1 / repmat(sqrt((vectP3P1**2).sum(0)), \n",
    "                                                numDims, 1)\n",
    "\n",
    "            angles          = arccos((vectP2P1 * vectP3P1).sum(0))\n",
    "\n",
    "            iterData1       = csr_matrix((1/tan(angles), (self.polygons[i2,:], \n",
    "                                          self.polygons[i3,:])), \n",
    "                                         shape=(numPoints, numPoints))\n",
    "\n",
    "            iterData2       = csr_matrix((1/tan(angles), (self.polygons[i3,:], \n",
    "                                          self.polygons[i2,:])), \n",
    "                                         shape=(numPoints, numPoints))\n",
    "\n",
    "            sparseMatrix    = sparseMatrix + iterData1 + iterData2\n",
    "\n",
    "        diagonal            = sparseMatrix.sum(0)\n",
    "        diagonalSparse      = spdiags(diagonal, 0, numPoints, numPoints)\n",
    "        self.__laplacian    = diagonalSparse - sparseMatrix\n",
    "\n",
    "    \n",
    "    def __calc_homeomorphism(self):\n",
    "        if (self.laplacian is not None) and (self.boundary is not None):\n",
    "            # Finds non-zero elements in the laplacian matrix\n",
    "            (nzi, nzj)      = find(self.laplacian)[0:2]\n",
    "            homeomorphism_laplacian = self.laplacian\n",
    "\n",
    "            for point in self.boundary:\n",
    "                positions   = where(nzi==point)[0]\n",
    "\n",
    "                homeomorphism_laplacian[nzi[positions], nzj[positions]] = 0\n",
    "                homeomorphism_laplacian[point, point] = 1\n",
    "\n",
    "            # Finds a distribution of the boundary points around a circle\n",
    "            boundaryNext            = roll(self.boundary, -1)\n",
    "            boundaryNextPoints      = self.points[:, boundaryNext]\n",
    "            distanceToNext          = boundaryNextPoints - self.points[:, self.boundary]\n",
    "\n",
    "            euclideanNorm           = sqrt((distanceToNext**2).sum(0))\n",
    "            perimeter               = euclideanNorm.sum()\n",
    "\n",
    "            fraction                = euclideanNorm/perimeter\n",
    "\n",
    "            angles                  = cumsum(2*pi*fraction)\n",
    "            angles                  = roll(angles, 1)\n",
    "            angles[0]               = 0\n",
    "\n",
    "            # Creates the constrain for the homeomorphism\n",
    "            Z                       = zeros((2, angles.size))\n",
    "            Z[0,:]                  = cos(angles)\n",
    "            Z[1,:]                  = sin(angles)\n",
    "\n",
    "            boundaryConstrain       = zeros((2, self.polydata.GetNumberOfPoints()))\n",
    "            boundaryConstrain[:, self.boundary] = Z\n",
    "\n",
    "            self.__homeomorphism    = spsolve(homeomorphism_laplacian, \n",
    "                                              boundaryConstrain.transpose()).transpose()\n",
    "\n",
    "    def __calc_thin_plate_splines(self):\n",
    "        if (self.homeomorphism is not None) and (self.apex is not None):\n",
    "            boundaryPoints  = self.homeomorphism[:,self.boundary]\n",
    "            source          = zeros((boundaryPoints.shape[0],\n",
    "                                     boundaryPoints.shape[1] + 1))\n",
    "            destination     = zeros((boundaryPoints.shape[0],\n",
    "                                     boundaryPoints.shape[1] + 1))\n",
    "\n",
    "            source[:, 0:source.shape[1] - 1]        = boundaryPoints\n",
    "            source[:, source.shape[1] - 1]          = self.homeomorphism[:, self.apex]\n",
    "\n",
    "            destination[:, 0:source.shape[1] - 1]   = boundaryPoints\n",
    "            destination[:, 0:source.shape[1] - 1]   = boundaryPoints\n",
    "\n",
    "            # For a faster calculation, the mvpoly package has been used. The\n",
    "            # Thin Plate Splines has been calculated using the X coordinate of\n",
    "            # the points in the real part of a complex number and the Y\n",
    "            # coordinate of the point as the imaginary part. After the \n",
    "            # interpolation, the separate real and imaginary parts have been\n",
    "            # recovered, encoding the new (X,Y) positions after the relaxation.\n",
    "            x = source[0,:]\n",
    "            y = source[1,:]\n",
    "            d = destination[0,:] + 1j*destination[1,:]\n",
    "\n",
    "            thinPlateInterpolation = RBFThinPlateSpline(x,y,d)\n",
    "\n",
    "            result = thinPlateInterpolation(self.homeomorphism[0,:], self.homeomorphism[1,:])\n",
    "\n",
    "            self.__homeomorphism[0,:] = result.real\n",
    "            self.__homeomorphism[1,:] = result.imag\n",
    "\n",
    "    def flip_boundary(self):\n",
    "        self.__boundary         = flipud(self.boundary)\n",
    "        self.__boundary         = roll(self.boundary, 1)\n",
    "\n",
    "    def __rearrange(self, objectivePoint=None):\n",
    "        septalIndex             = None\n",
    "        septalPoint             = None\n",
    "        closestPoint            = None\n",
    "\n",
    "        if objectivePoint is None:\n",
    "            if self.septum is None:\n",
    "                raise Exception(\"No septal point provided in function call and no septal point provided in constructor. Aborting arrangement. \")\n",
    "            else:\n",
    "                septalIndex     = self.septum\n",
    "        else:\n",
    "            print(\" *  Using provided septal point as rearranging point.\")\n",
    "            self.__septum       = objectivePoint\n",
    "            septalIndex         = objectivePoint\n",
    "\n",
    "        if septalIndex in self.boundary:\n",
    "            closestPoint        = septalIndex\n",
    "            closestPointIndex   = where(self.boundary==septalIndex)\n",
    "\n",
    "            if len(closestPointIndex) == 1:\n",
    "                if len(closestPointIndex[0]) == 1:\n",
    "                    closestPointIndex = closestPointIndex[0][0]\n",
    "                else:\n",
    "                    raise Exception(\"It seems your vtk file has more than one point ID associated to the objective point. Check your input data or contact the maintainer.\")\n",
    "            else:\n",
    "                raise Exception(\"It seems your vtk file has more than one point ID associated to the objective point. Check your input data or contact the maintainer.\")\n",
    "\n",
    "            self.__boundary     = roll(self.boundary, -closestPointIndex)\n",
    "        else:\n",
    "            try:\n",
    "                septalPoint     = self.points[:, septalIndex]\n",
    "            except:\n",
    "                raise Exception(\"Septal point provided out of data bounds the point does not exist (it is out of bounds) or a point identifier beyond the total amount of points has been provided. Check input.\")\n",
    "\n",
    "            if len(self.boundary.shape) == 1:\n",
    "                septalPoint     = repmat(septalPoint,\n",
    "                                    self.boundary.size, 1)\n",
    "                septalPoint     = septalPoint .transpose()\n",
    "            else:\n",
    "                raise Exception(\"It seems you have multiple boundaries. Contact the package maintainer.\")\n",
    "\n",
    "            distanceToObjectivePoint    = (self.points[:, self.boundary] - septalPoint)\n",
    "            distanceToObjectivePoint    = sqrt((distanceToObjectivePoint**2).sum(0))\n",
    "            closestPointIndex           = where(distanceToObjectivePoint == distanceToObjectivePoint.min())\n",
    "\n",
    "            if len(closestPointIndex) == 1:\n",
    "                if len(closestPointIndex[0]) == 1:\n",
    "                    closestPointIndex   = closestPointIndex[0][0]\n",
    "                else:\n",
    "                    raise Exception(\"It seems your vtk file has more than one point ID associated to the objective point. Check your input data or contact the maintainer.\")\n",
    "            else:\n",
    "                raise Exception(\"It seems your vtk file has more than one point ID associated to the objective point. Check your input data or contact the maintainer.\")\n",
    "\n",
    "            self.__boundary     = roll(self.boundary, -closestPointIndex)\n",
    "\n",
    "\n",
    "\n",
    "    def rearrange_boundary(self, objectivePoint):\n",
    "        \"\"\"Rearranges the boundary aroung a new point identifier\n",
    "        \"\"\"\n",
    "        old_septum              = self.septum\n",
    "        septalIndex             = None\n",
    "        closestPoint            = None\n",
    "\n",
    "        if objectivePoint == self.septum:\n",
    "            return\n",
    "\n",
    "        if objectivePoint in self.boundary:\n",
    "            septalIndex         = objectivePoint\n",
    "            closestPoint        = objectivePoint\n",
    "            closestPointIndex   = where(self.boundary==objectivePoint)\n",
    "\n",
    "            if len(closestPointIndex) == 1:\n",
    "                if len(closestPointIndex[0]) == 1:\n",
    "                    closestPointIndex = closestPointIndex[0][0]\n",
    "                else:\n",
    "                    raise Exception(\"It seems your vtk file has more than one point ID associated to the objective point. Check your input data or contact the maintainer.\")\n",
    "            else:\n",
    "                raise Exception(\"It seems your vtk file has more than one point ID associated to the objective point. Check your input data or contact the maintainer.\")\n",
    "\n",
    "            # self.__boundary = roll(self.boundary, -septalIndex)\n",
    "        else:\n",
    "            print(\" *  Provided point not found in the boundary. Selecting \\n\"\n",
    "                  \"    closest point available...\")\n",
    "\n",
    "            try:\n",
    "                searched_point  = self.points[:, objectivePoint]\n",
    "            except:\n",
    "                raise Exception(\"Septal point provided out of data bounds the point does not exist (it is out of bounds) or a point identifier beyond the total amount of points has been provided. Check input.\")\n",
    "\n",
    "            if len(self.boundary.shape) == 1:\n",
    "                searched_point  = repmat(searched_point, self.boundary.size, 1)\n",
    "                searched_point  = searched_point.transpose()\n",
    "            else:\n",
    "                raise Exception(\"It seems you have multiple boundaries. Contact the package maintainer.\")\n",
    "\n",
    "            distanceToObjectivePoint    = (self.points[:, self.boundary] - searched_point)\n",
    "            distanceToObjectivePoint    = sqrt((distanceToObjectivePoint**2).sum(0))\n",
    "            closestPointIndex           = where(distanceToObjectivePoint == distanceToObjectivePoint.min())\n",
    "\n",
    "            if len(closestPointIndex) == 1:\n",
    "                if len(closestPointIndex[0]) == 1:\n",
    "                    closestPointIndex   = closestPointIndex[0][0]\n",
    "                else:\n",
    "                    raise Exception(\"It seems your vtk file has more than one point ID associated to the objective point. Check your input data or contact the maintainer.\")\n",
    "            else:\n",
    "                raise Exception(\"It seems your vtk file has more than one point ID associated to the objective point. Check your input data or contact the maintainer.\")\n",
    "\n",
    "            septalIndex                 = self.boundary[closestPointIndex]\n",
    "\n",
    "        self.__boundary                 = roll(self.boundary, -closestPointIndex)\n",
    "\n",
    "        center  = asarray([0, 0]) # The center of the disk will always be a \n",
    "        vector1 = asarray([1, 0]) # point (0,0) and the septum a vector (1,0), \n",
    "                                   # as induced by the boundary conditions\n",
    "        vector2 = self.homeomorphism[:, septalIndex] - center\n",
    "\n",
    "        angle   = arccos(dot(vector1, vector2)/(norm(vector1)*norm(vector2)))\n",
    "\n",
    "        # If the y coordinate of the vector w.r.t. the rotation will take place\n",
    "        # is negative, the rotation must be done counterclock-wise\n",
    "        if vector2[1] > 0:\n",
    "            angle = -angle\n",
    "\n",
    "        rotation_matrix                 = asarray([[cos(angle), -sin(angle)],\n",
    "                                                   [sin(angle), cos(angle)]])\n",
    "\n",
    "        self.__septum                   = septalIndex\n",
    "        self.__homeomorphism               = rotation_matrix.dot(self.homeomorphism)\n",
    "\n",
    "        self.__write_output()\n",
    "\n",
    "\n",
    "    def closest_boundary_point(self, objectivePoint=None):\n",
    "        if objectivePoint is None:\n",
    "            selected = True\n",
    "            \n",
    "            while(selected):\n",
    "                ps = PointSelector()\n",
    "                ps.DoSelection(self.polydata)\n",
    "\n",
    "                if ps.GetSelectedPoints().GetNumberOfPoints() == 1:\n",
    "                    selected = False\n",
    "\n",
    "                    objectivePoint  = ps.GetSelectedPointIds().GetId(0)\n",
    "\n",
    "\n",
    "        output_point = None\n",
    "\n",
    "        if objectivePoint in self.boundary:\n",
    "            output_point        = where(self.boundary==objectivePoint)\n",
    "\n",
    "            if len(output_point) == 1:\n",
    "                if len(output_point[0]) == 1:\n",
    "                    output_point = output_point[0][0]\n",
    "                else:\n",
    "                    raise Exception(\"It seems your vtk file has more than one point ID associated to the objective point. Check your input data or contact the maintainer.\")\n",
    "            else:\n",
    "                raise Exception(\"It seems your vtk file has more than one point ID associated to the objective point. Check your input data or contact the maintainer.\")\n",
    "\n",
    "        else:\n",
    "            print(\" *  Provided point not found in the boundary. Selecting \\n\"\n",
    "                  \"    closest point available...\")\n",
    "\n",
    "            try:\n",
    "                searched_point  = self.points[:, objectivePoint]\n",
    "            except:\n",
    "                raise Exception(\"Septal point provided out of data bounds the point does not exist (it is out of bounds) or a point identifier beyond the total amount of points has been provided. Check input.\")\n",
    "\n",
    "            if len(self.boundary.shape) == 1:\n",
    "                searched_point  = repmat(searched_point, self.boundary.size, 1)\n",
    "                searched_point  = searched_point.transpose()\n",
    "            else:\n",
    "                raise Exception(\"It seems you have multiple boundaries. Contact the package maintainer.\")\n",
    "\n",
    "            distanceToObjectivePoint    = (self.points[:, self.boundary] - searched_point)\n",
    "            distanceToObjectivePoint    = sqrt((distanceToObjectivePoint**2).sum(0))\n",
    "            output_point                = where(distanceToObjectivePoint == distanceToObjectivePoint.min())\n",
    "\n",
    "            if len(output_point) == 1:\n",
    "                if len(output_point[0]) == 1:\n",
    "                    output_point   = output_point[0][0]\n",
    "                else:\n",
    "                    raise Exception(\"It seems your vtk file has more than one point ID associated to the objective point. Check your input data or contact the maintainer.\")\n",
    "            else:\n",
    "                raise Exception(\"It seems your vtk file has more than one point ID associated to the objective point. Check your input data or contact the maintainer.\")\n",
    "\n",
    "        return self.boundary[output_point]\n",
    "\n",
    "\n",
    "    def __write_output(self):\n",
    "        if ((self.homeomorphism is not None)\n",
    "            and (self.points is not None)\n",
    "            and (self.polygons is not None)):\n",
    "\n",
    "            newPolyData         = vtkPolyData()\n",
    "            newPointData        = vtkPoints()\n",
    "            writer              = vtkPolyDataWriter()\n",
    "\n",
    "            if self.output_path is self.path:\n",
    "                print(\" *  Writing to default location: \")\n",
    "\n",
    "                path                = None\n",
    "\n",
    "                directory, filename = split(self.path)\n",
    "                filename, extension = splitext(filename)\n",
    "\n",
    "                if isdir(join(directory, 'QCM')):\n",
    "                    path            = join(directory, 'QCM', str(filename + '_QCM' + extension))\n",
    "                else:\n",
    "                    mkdir(join(directory, 'QCM'))\n",
    "\n",
    "                    if isdir(join(directory, 'QCM')):\n",
    "                        path        = join(directory, 'QCM', str(filename + '_QCM' + extension))\n",
    "                    else:\n",
    "                        path        = join(directory, str(filename + '_QCM' + extension))\n",
    "\n",
    "                print(\"    \" + path + \"\\n\")\n",
    "\n",
    "            else:\n",
    "                if splitext(self.output_path)[1] is '':\n",
    "                    self.__output_path  = self.output_path + \".vtk\"\n",
    "\n",
    "                path                    = self.output_path\n",
    "\n",
    "            self.__output_path          = path\n",
    "            writer.SetFileName(path)\n",
    "\n",
    "            for i in xrange(self.polydata.GetNumberOfPoints()):\n",
    "                newPointData.InsertPoint(i, (self.homeomorphism[0, i], self.homeomorphism[1, i], 0.0))\n",
    "\n",
    "            newPolyData.SetPoints(newPointData)\n",
    "            newPolyData.SetPolys(self.polydata.GetPolys())\n",
    "\n",
    "            if self.polydata.GetPointData().GetScalars() is None:\n",
    "                newPolyData.GetPointData().SetScalars(self.polydata.GetPointData().GetArray(0))\n",
    "            else:\n",
    "                newPolyData.GetPointData().SetScalars(self.polydata.GetPointData().GetScalars())\n",
    "                \n",
    "            bool_scalars = False\n",
    "\n",
    "            for i in range(self.polydata.GetPointData().GetNumberOfArrays()):\n",
    "                if self.polydata.GetPointData().GetScalars() is None:\n",
    "                    if self.polydata.GetPointData().GetArray(i).GetName() == 'Bipolar':\n",
    "                        newPolyData.GetPointData().SetScalars(self.polydata.GetPointData().GetArray(i))\n",
    "                        bool_scalars = True\n",
    "                    else:\n",
    "                        newPolyData.GetPointData().AddArray(self.polydata.GetPointData().GetArray(i))\n",
    "                else:\n",
    "                    if (self.polydata.GetPointData().GetArray(i).GetName() \n",
    "                        == self.polydata.GetPointData().GetScalars().GetName()):\n",
    "                        newPolyData.GetPointData().SetScalars(self.polydata.GetPointData().GetArray(i))\n",
    "                    else:\n",
    "                        newPolyData.GetPointData().AddArray(self.polydata.GetPointData().GetArray(i))\n",
    "                \n",
    "                \n",
    "            writer.SetInputData(newPolyData)\n",
    "            writer.Write()\n",
    "\n",
    "            self.__output_polydata  = newPolyData\n",
    "\n",
    "            # In case the host computer converts decimal points (.) to decimal\n",
    "            # commas (,)\n",
    "            system(\"perl -pi -e 's/,/./g' %s \" % path)\n",
    "\n",
    "        else:\n",
    "            raise RuntimeError(\"Information provided insufficient\")\n",
    "\n",
    "    def __str__(self):\n",
    "        s = \"'\" + self.__class__.__name__ + \"' object at '\" + self.path + \"'.\\n\"\n",
    "        s = s + \"Number of dimensions: \" + str(self.polydata.GetPoints().GetData().GetNumberOfComponents()) + \"\\n\"\n",
    "        s = s + \"Number of points: \" + str(self.polydata.GetNumberOfPoints()) + \"\\n\"\n",
    "        s = s + \"Number of polygons: \" + str(self.polydata.GetNumberOfCells()) + \"\\n\"\n",
    "        s = s + \"Output file location: \" + str(self.output_path)\n",
    "        return s\n",
    "\n",
    "\n",
    "\n"
   ]
  },
  {
   "cell_type": "code",
   "execution_count": 74,
   "metadata": {},
   "outputs": [
    {
     "name": "stdout",
     "output_type": "stream",
     "text": [
      " *  Writing to default location: \n",
      "    /home/guille/BitBucket/qcm/data/pat1/MRI/QCM/pat1_MRI_Layer_6_QCM.vtk\n",
      "\n",
      "243.46116209\n"
     ]
    }
   ],
   "source": [
    "import scipy, time, os, numpy;\n",
    "\n",
    "septum_MRI = 201479 - 1;\n",
    "apex_MRI = 37963 - 1;\n",
    "path_MRI = join(\"/home/guille/BitBucket/qcm/data/pat1/MRI\", \"pat1_MRI_Layer_6.vtk\");\n",
    "\n",
    "# start = time.time(); MRI = PyQCM(path_MRI, septum_MRI, apex_MRI); print(time.time() - start);\n",
    "start = time.time(); MRI = PyQCM(path_MRI); print(time.time() - start);\n"
   ]
  },
  {
   "cell_type": "code",
   "execution_count": 8,
   "metadata": {},
   "outputs": [
    {
     "data": {
      "text/plain": [
       "'/home/guille/BitBucket/qcm/data/pat1/MRI/QCM/pat1_MRI_Layer_6_QCM.vtk'"
      ]
     },
     "execution_count": 8,
     "metadata": {},
     "output_type": "execute_result"
    }
   ],
   "source": [
    "MRI.output_path"
   ]
  },
  {
   "cell_type": "markdown",
   "metadata": {},
   "source": [
    "# NO BORRAR"
   ]
  },
  {
   "cell_type": "code",
   "execution_count": 9,
   "metadata": {},
   "outputs": [
    {
     "ename": "NameError",
     "evalue": "name 'vtk' is not defined",
     "output_type": "error",
     "traceback": [
      "\u001b[0;31m---------------------------------------------------------------------------\u001b[0m",
      "\u001b[0;31mNameError\u001b[0m                                 Traceback (most recent call last)",
      "\u001b[0;32m<ipython-input-9-3d02ca527b8f>\u001b[0m in \u001b[0;36m<module>\u001b[0;34m()\u001b[0m\n\u001b[1;32m      1\u001b[0m \u001b[0mstart\u001b[0m \u001b[0;34m=\u001b[0m \u001b[0mtime\u001b[0m\u001b[0;34m.\u001b[0m\u001b[0mtime\u001b[0m\u001b[0;34m(\u001b[0m\u001b[0;34m)\u001b[0m\u001b[0;34m\u001b[0m\u001b[0m\n\u001b[1;32m      2\u001b[0m \u001b[0;34m\u001b[0m\u001b[0m\n\u001b[0;32m----> 3\u001b[0;31m \u001b[0mdjikstra\u001b[0m \u001b[0;34m=\u001b[0m \u001b[0mvtk\u001b[0m\u001b[0;34m.\u001b[0m\u001b[0mvtkDijkstraGraphGeodesicPath\u001b[0m\u001b[0;34m(\u001b[0m\u001b[0;34m)\u001b[0m\u001b[0;34m\u001b[0m\u001b[0m\n\u001b[0m\u001b[1;32m      4\u001b[0m \u001b[0;34m\u001b[0m\u001b[0m\n\u001b[1;32m      5\u001b[0m \u001b[0mgeodesic_distance\u001b[0m \u001b[0;34m=\u001b[0m \u001b[0;34m[\u001b[0m\u001b[0;34m]\u001b[0m\u001b[0;34m\u001b[0m\u001b[0m\n",
      "\u001b[0;31mNameError\u001b[0m: name 'vtk' is not defined"
     ]
    }
   ],
   "source": [
    "start = time.time()\n",
    "\n",
    "djikstra = vtk.vtkDijkstraGraphGeodesicPath()\n",
    "\n",
    "geodesic_distance = []\n",
    "\n",
    "djikstra.SetInputData(EAM.polydata)\n",
    "djikstra.SetStartVertex(15)\n",
    "\n",
    "for i in range(len(EAM.boundary)):\n",
    "    start = time.time()\n",
    "    djikstra.SetEndVertex(EAM.boundary[i])\n",
    "    djikstra.Update()\n",
    "    \n",
    "    A = djikstra.GetOutput()\n",
    "\n",
    "    cumsum = 0\n",
    "    for i in range(A.GetNumberOfPoints() - 1):\n",
    "        cumsum += sqrt((A.GetPoint(i + 1)[0] - A.GetPoint(i)[0])**2 + (A.GetPoint(i + 1)[1] - A.GetPoint(i)[1])**2 + (A.GetPoint(i + 1)[2] - A.GetPoint(i)[2])**2)\n",
    "\n",
    "    geodesic_distance.append(cumsum)\n",
    "    \n",
    "    output_location = EAM.boundary[where(geodesic_distance==min(geodesic_distance))]\n",
    "\n",
    "print(time.time() - start)\n"
   ]
  },
  {
   "cell_type": "code",
<<<<<<< Updated upstream
   "execution_count": null,
   "metadata": {},
   "outputs": [],
   "source": [
    "output_location"
   ]
  },
  {
   "cell_type": "code",
   "execution_count": null,
   "metadata": {},
   "outputs": [],
   "source": [
    "len(EAM.boundary)"
   ]
  },
  {
   "cell_type": "code",
   "execution_count": null,
   "metadata": {},
   "outputs": [],
   "source": [
    "djikstra.GetCumulativeWeights(djikstra.GetOutput().GetPoints().GetData())"
   ]
  },
  {
   "cell_type": "code",
   "execution_count": null,
   "metadata": {},
   "outputs": [],
   "source": [
    "len(MRI.boundary)"
   ]
  },
  {
   "cell_type": "code",
   "execution_count": null,
   "metadata": {
    "collapsed": true
   },
   "outputs": [],
   "source": [
    "djikstra.UseScalarWeightsOn()\n",
    "djikstra.Update()"
   ]
  },
  {
   "cell_type": "code",
   "execution_count": null,
   "metadata": {
    "collapsed": true
   },
   "outputs": [],
   "source": [
    "A = djikstra.GetIdList()"
   ]
  },
  {
   "cell_type": "code",
   "execution_count": null,
   "metadata": {},
   "outputs": [],
   "source": [
    "print(A)"
   ]
  },
  {
   "cell_type": "code",
   "execution_count": null,
   "metadata": {
    "collapsed": true
   },
   "outputs": [],
   "source": [
    "B = A.GetPoints()"
   ]
  },
  {
   "cell_type": "code",
   "execution_count": null,
   "metadata": {},
   "outputs": [],
   "source": [
    "print(B.GetData())\n",
    "\n",
    "C = vtk.vtkDoubleArray()"
   ]
  },
  {
   "cell_type": "code",
   "execution_count": null,
   "metadata": {},
=======
   "execution_count": 15,
   "metadata": {
    "collapsed": true
   },
>>>>>>> Stashed changes
   "outputs": [],
   "source": [
    "start = time.time()\n",
    "\n",
    "geodesic_distance = []\n",
    "\n",
    "geo = vtk.vtkGeodesicPath()\n",
    "\n",
    "geo.SetInputData(MRI.polydata)\n",
    "geo.SetStartVertex(18575)\n",
    "\n",
    "for i in range(len(MRI.boundary)):\n",
    "    geo.SetEndVertex(MRI.boundary[i])\n",
    "    geo.Update()\n",
    "    \n",
    "    A = geo.GetIdList()\n",
    "\n",
    "    cumsum = 0\n",
    "    for i in range(A.GetNumberOfPoints() - 1):\n",
    "        cumsum += sqrt((A.GetPoint(i + 1)[0] - A.GetPoint(i)[0])**2 + (A.GetPoint(i + 1)[1] - A.GetPoint(i)[1])**2 + (A.GetPoint(i + 1)[2] - A.GetPoint(i)[2])**2)\n",
    "\n",
    "    geodesic_distance.append(cumsum)\n",
    "\n",
    "print(time.time() - start)\n"
   ]
  },
  {
   "cell_type": "code",
   "execution_count": null,
   "metadata": {},
   "outputs": [],
   "source": [
    "print(MRI.polydata.GetPoint(18575))\n",
    "print(A.GetPoint(A.GetNumberOfPoints() - 1))\n",
    "print('')\n",
    "print(MRI.polydata.GetPoint(10000))\n",
    "print(A.GetPoint(0))\n",
    "\n",
    "cumsum = 0\n",
    "for i in range(A.GetNumberOfPoints() - 1):\n",
    "    cumsum += sqrt((A.GetPoint(i + 1)[0] - A.GetPoint(i)[0])**2 + (A.GetPoint(i + 1)[1] - A.GetPoint(i)[1])**2 + (A.GetPoint(i + 1)[2] - A.GetPoint(i)[2])**2)\n",
    "    \n",
    "print(cumsum)"
   ]
  },
  {
   "cell_type": "code",
   "execution_count": null,
   "metadata": {},
   "outputs": [],
   "source": [
    "A.GetNumberOfPoints()"
   ]
  },
  {
   "cell_type": "code",
   "execution_count": null,
   "metadata": {},
   "outputs": [],
   "source": [
    "print(djikstra)"
   ]
  },
  {
   "cell_type": "code",
   "execution_count": null,
   "metadata": {},
   "outputs": [],
   "source": [
    "MRI.closest_boundary_point()"
   ]
  },
  {
   "cell_type": "code",
   "execution_count": 10,
   "metadata": {},
   "outputs": [
    {
     "name": "stdout",
     "output_type": "stream",
     "text": [
      " *  Writing to default location: \n",
      "    /home/guille/BitBucket/qcm/data/pat1/EAM/QCM/pat1_EAM_endo_smooth_QCM.vtk\n",
      "\n",
      "7.27385902405\n"
     ]
    }
   ],
   "source": [
    "import scipy, time, os, numpy;\n",
    "\n",
    "path_EAM = join(\"/home/guille/BitBucket/qcm/data/pat1/EAM/\", \"pat1_EAM_endo_smooth.vtk\");\n",
    "\n",
    "# start = time.time(); MRI = PyQCM(path_MRI, septum_MRI, apex_MRI); print(time.time() - start);\n",
    "start = time.time(); EAM = PyQCM(path_EAM); print(time.time() - start);\n"
   ]
  },
  {
   "cell_type": "code",
   "execution_count": null,
   "metadata": {},
   "outputs": [],
   "source": [
    "EAM.closest_boundary_point()"
   ]
  },
  {
   "cell_type": "code",
   "execution_count": 12,
   "metadata": {},
   "outputs": [
    {
     "data": {
      "text/plain": [
       "(3, 1425)"
      ]
     },
     "execution_count": 12,
     "metadata": {},
     "output_type": "execute_result"
    }
   ],
   "source": [
    "EAM.points.shape"
   ]
  },
  {
   "cell_type": "code",
   "execution_count": 13,
   "metadata": {
    "collapsed": true
   },
   "outputs": [],
   "source": [
    "rlfac_solvers = dict()\n",
    "\n",
    "def approx_geodesic_distance(image, verts, m=0.1, rlfac_solvers):\n",
    "    npt = len(image.points.T)\n",
    "    t = m * self.avg_edge_length ** 2 # time of heat evolution\n",
    "\n",
    "    if m not in rlfac_solvers:\n",
    "        B, D, W, V = self.laplace_operator\n",
    "        nLC = W - V # negative laplace matrix\n",
    "        spD = sparse.dia_matrix((D,[0]), (npt,npt)).tocsr() # lumped mass matrix\n",
    "\n",
    "        lfac = spD - t * nLC # backward Euler matrix\n",
    "\n",
    "        # Exclude rows with zero weight (these break the sparse LU, that finicky fuck)\n",
    "        goodrows = np.nonzero(~np.array(lfac.sum(0) == 0).ravel())[0]\n",
    "        self._goodrows = goodrows\n",
    "        self._rlfac_solvers[m] = sparse.linalg.dsolve.factorized(lfac[goodrows][:,goodrows])\n",
    "\n",
    "    # Solve system to get u, the heat values\n",
    "    u0 = np.zeros((npt,)) # initial heat values\n",
    "    u0[verts] = 1.0\n",
    "    goodu = self._rlfac_solvers[m](u0[self._goodrows])\n",
    "    u = np.zeros((npt,))\n",
    "    u[self._goodrows] = goodu\n",
    "\n",
    "    return -4 * t * np.log(u)\n",
    "\n"
   ]
  },
  {
   "cell_type": "code",
   "execution_count": 15,
   "metadata": {
    "collapsed": true
   },
   "outputs": [],
   "source": [
    "import polyutils\n",
    "import numpy"
   ]
  },
  {
   "cell_type": "code",
<<<<<<< Updated upstream
   "execution_count": 41,
=======
   "execution_count": 29,
>>>>>>> Stashed changes
   "metadata": {
    "collapsed": true
   },
   "outputs": [],
   "source": [
    "A = polyutils.Surface(MRI.points.T, MRI.polygons.T)\n"
   ]
  },
  {
   "cell_type": "code",
   "execution_count": 71,
   "metadata": {},
   "outputs": [
    {
     "name": "stdout",
     "output_type": "stream",
     "text": [
      "8.05031394958\n"
     ]
    }
   ],
   "source": [
    "start = time.time(); A.approx_geodesic_distance(14,m=15); print(time.time() - start)"
   ]
  },
  {
   "cell_type": "code",
   "execution_count": 72,
   "metadata": {},
   "outputs": [
    {
     "data": {
      "text/plain": [
       "array([ 14.47450922,  14.4467361 ,  14.42009838, ...,  14.56067027,\n",
       "        14.53449254,  14.50318285])"
      ]
     },
     "execution_count": 72,
     "metadata": {},
     "output_type": "execute_result"
    }
   ],
   "source": [
    "A.approx_geodesic_distance(14)[MRI.boundary[:]]"
   ]
  },
  {
   "cell_type": "code",
   "execution_count": 73,
   "metadata": {
    "scrolled": false
   },
   "outputs": [
    {
     "data": {
      "text/plain": [
       "nan"
      ]
     },
     "execution_count": 73,
     "metadata": {},
     "output_type": "execute_result"
    }
   ],
   "source": [
    "A.approx_geodesic_distance(14).min()"
   ]
  },
  {
   "cell_type": "code",
   "execution_count": null,
   "metadata": {
    "collapsed": true
   },
   "outputs": [],
   "source": []
  }
 ],
 "metadata": {
  "kernelspec": {
   "display_name": "Python 2",
   "language": "python",
   "name": "python2"
  },
  "language_info": {
   "codemirror_mode": {
    "name": "ipython",
    "version": 2
   },
   "file_extension": ".py",
   "mimetype": "text/x-python",
   "name": "python",
   "nbconvert_exporter": "python",
   "pygments_lexer": "ipython2",
   "version": "2.7.12"
  }
 },
 "nbformat": 4,
 "nbformat_minor": 2
}
