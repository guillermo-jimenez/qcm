{
 "cells": [
  {
   "cell_type": "markdown",
   "metadata": {},
   "source": [
    "# Reduced test"
   ]
  },
  {
   "cell_type": "code",
   "execution_count": 2,
   "metadata": {
    "collapsed": true
   },
   "outputs": [],
   "source": [
    "# -*- coding: utf-8 -*-\n",
    "\n",
    "from __future__ import division\n",
    "\n",
    "from os import system\n",
    "from os import mkdir\n",
    "\n",
    "from os.path import isfile\n",
    "from os.path import isdir\n",
    "from os.path import split\n",
    "from os.path import splitext\n",
    "from os.path import join\n",
    "\n",
    "from vtk import vtkPolyDataReader\n",
    "from vtk import vtkPolyData\n",
    "from vtk import vtkPolyDataWriter\n",
    "from vtk import vtkPoints\n",
    "from vtk import vtkIdList\n",
    "\n",
    "from scipy.sparse.linalg import spsolve\n",
    "from mvpoly.rbf import RBFThinPlateSpline\n",
    "\n",
    "import PointPicker"
   ]
  },
  {
   "cell_type": "code",
   "execution_count": 3,
   "metadata": {
    "collapsed": true
   },
   "outputs": [],
   "source": [
    "from os.path import abspath\n",
    "\n",
    "path = join(abspath(''), 'Test_data', 'Layer_10_percent_colored.vtk')"
   ]
  },
  {
   "cell_type": "code",
   "execution_count": 4,
   "metadata": {
    "scrolled": true
   },
   "outputs": [
    {
     "name": "stdout",
     "output_type": "stream",
     "text": [
      "2\n"
     ]
    }
   ],
   "source": [
    "reload(PointPicker)\n",
    "\n",
    "septum = None\n",
    "apex = None\n",
    "\n",
    "reader                  = vtkPolyDataReader()\n",
    "reader.SetFileName(path)\n",
    "reader.Update()\n",
    "\n",
    "polydata         = reader.GetOutput()\n",
    "polydata.BuildLinks()\n",
    "\n",
    "\n",
    "if septum is None:\n",
    "    if apex is None:\n",
    "        ps = PointPicker.PointSelector()\n",
    "\n",
    "        while(ps.GetSelectedPoints().GetNumberOfPoints() != 2):\n",
    "            ps.DoSelection(polydata)\n",
    "\n",
    "            if (ps.GetSelectedPoints().GetNumberOfPoints() == 2):\n",
    "                apex     = ps.GetSelectedPointIds().GetId(1)\n",
    "                septum   = ps.GetSelectedPointIds().GetId(0)\n",
    "\n",
    "    else:\n",
    "        ps = PointPicker.PointSelector()\n",
    "\n",
    "        while(ps.GetSelectedPoints().GetNumberOfPoints() != 1):\n",
    "            ps.DoSelection(polydata)\n",
    "\n",
    "            if (ps.GetSelectedPoints().GetNumberOfPoints() == 1):\n",
    "                septum   = ps.GetSelectedPointIds().GetId(0)\n",
    "\n",
    "else:\n",
    "    if apex is None:\n",
    "        ps = PointPicker.PointSelector()\n",
    "\n",
    "        while(ps.GetSelectedPoints().GetNumberOfPoints() != 1):\n",
    "            ps.DoSelection(polydata)\n",
    "\n",
    "            if (ps.GetSelectedPoints().GetNumberOfPoints() == 1):\n",
    "                apex     = ps.GetSelectedPointIds().GetId(0)\n",
    "\n"
   ]
  },
  {
   "cell_type": "code",
   "execution_count": 4,
   "metadata": {
    "collapsed": true
   },
   "outputs": [],
   "source": [
    "polydata2 = polydata;"
   ]
  },
  {
   "cell_type": "code",
   "execution_count": 8,
   "metadata": {
    "collapsed": true
   },
   "outputs": [],
   "source": [
    "A = ps.pointPicker"
   ]
  },
  {
   "cell_type": "code",
   "execution_count": 9,
   "metadata": {},
   "outputs": [
    {
     "data": {
      "text/plain": [
       "-1L"
      ]
     },
     "execution_count": 9,
     "metadata": {},
     "output_type": "execute_result"
    }
   ],
   "source": [
    "A.GetPointId()"
   ]
  },
  {
   "cell_type": "code",
   "execution_count": 10,
   "metadata": {
    "collapsed": true
   },
   "outputs": [],
   "source": [
    "B = PointPicker.PointPicker()"
   ]
  },
  {
   "cell_type": "code",
   "execution_count": 11,
   "metadata": {},
   "outputs": [
    {
     "data": {
      "text/plain": [
       "-1L"
      ]
     },
     "execution_count": 11,
     "metadata": {},
     "output_type": "execute_result"
    }
   ],
   "source": [
    "B.GetPointId()"
   ]
  },
  {
   "cell_type": "code",
   "execution_count": 1,
   "metadata": {},
   "outputs": [
    {
     "ename": "NameError",
     "evalue": "name 'polydata' is not defined",
     "output_type": "error",
     "traceback": [
      "\u001b[1;31m---------------------------------------------------------------------------\u001b[0m",
      "\u001b[1;31mNameError\u001b[0m                                 Traceback (most recent call last)",
      "\u001b[1;32m<ipython-input-1-6ef44e5d5140>\u001b[0m in \u001b[0;36m<module>\u001b[1;34m()\u001b[0m\n\u001b[1;32m----> 1\u001b[1;33m \u001b[0mpolydata\u001b[0m\u001b[1;33m\u001b[0m\u001b[0m\n\u001b[0m",
      "\u001b[1;31mNameError\u001b[0m: name 'polydata' is not defined"
     ]
    }
   ],
   "source": [
    "polydata"
   ]
  },
  {
   "cell_type": "markdown",
   "metadata": {},
   "source": [
    "# Epicardium"
   ]
  },
  {
   "cell_type": "code",
   "execution_count": null,
   "metadata": {
    "collapsed": true
   },
   "outputs": [],
   "source": [
    "reload(PointPicker)\n",
    "\n",
    "anterior = None\n",
    "posterior = None\n",
    "apex = None\n",
    "\n",
    "reader                  = vtkPolyDataReader()\n",
    "reader.SetFileName(path)\n",
    "reader.Update()\n",
    "\n",
    "polydata         = reader.GetOutput()\n",
    "polydata.BuildLinks()\n",
    "\n",
    "\n",
    "selected = False\n",
    "\n",
    "while(not selected):\n",
    "    if anterior is None:\n",
    "        if posterior is None:\n",
    "            if apex is None:\n",
    "                print(\"DESCRIPTION\")\n",
    "\n",
    "                ps = PointSelector()\n",
    "                ps.DoSelection(polydata)\n",
    "\n",
    "                if ps.GetSelectedPoints().GetNumberOfPoints() == 3:\n",
    "                    selected            = True\n",
    "\n",
    "                    anterior     = ps.GetSelectedPointIds().GetId(0)\n",
    "                    apex         = ps.GetSelectedPointIds().GetId(1)\n",
    "                    posterior    = ps.GetSelectedPointIds().GetId(2)\n",
    "\n",
    "            else:\n",
    "                print(\"DESCRIPTION\")\n",
    "\n",
    "                ps = PointSelector()\n",
    "                ps.DoSelection(polydata)\n",
    "\n",
    "                if ps.GetSelectedPoints().GetNumberOfPoints() == 2:\n",
    "                    selected            = True\n",
    "\n",
    "                    anterior     = ps.GetSelectedPointIds().GetId(0)\n",
    "                    posterior    = ps.GetSelectedPointIds().GetId(1)\n",
    "\n",
    "        else:\n",
    "            if self.apex is None:\n",
    "                ps = PointSelector()\n",
    "                ps.DoSelection(self.polydata)\n",
    "\n",
    "                if ps.GetSelectedPoints().GetNumberOfPoints() == 2:\n",
    "                    selected            = True\n",
    "\n",
    "                    self.__anterior     = ps.GetSelectedPointIds().GetId(0)\n",
    "                    self.__apex         = ps.GetSelectedPointIds().GetId(1)\n",
    "\n",
    "            else:\n",
    "                ps = PointSelector()\n",
    "                ps.DoSelection(self.polydata)\n",
    "\n",
    "                if ps.GetSelectedPoints().GetNumberOfPoints() == 1:\n",
    "                    selected            = True\n",
    "\n",
    "                    self.__anterior     = ps.GetSelectedPointIds().GetId(0)\n",
    "\n",
    "    else:\n",
    "        if self.posterior is None:\n",
    "            if self.apex is None:\n",
    "                ps = PointSelector()\n",
    "                ps.DoSelection(self.polydata)\n",
    "\n",
    "                if ps.GetSelectedPoints().GetNumberOfPoints() == 2:\n",
    "                    selected            = True\n",
    "\n",
    "                    self.__apex         = ps.GetSelectedPointIds().GetId(0)\n",
    "                    self.__posterior    = ps.GetSelectedPointIds().GetId(1)\n",
    "\n",
    "            else:\n",
    "                ps = PointSelector()\n",
    "                ps.DoSelection(self.polydata)\n",
    "\n",
    "                if ps.GetSelectedPoints().GetNumberOfPoints() == 1:\n",
    "                    selected            = True\n",
    "\n",
    "                    self.__posterior    = ps.GetSelectedPointIds().GetId(0)\n",
    "\n",
    "        else:\n",
    "            if self.apex is None:\n",
    "                ps = PointSelector()\n",
    "                ps.DoSelection(self.polydata)\n",
    "\n",
    "                if ps.GetSelectedPoints().GetNumberOfPoints() == 1:\n",
    "                    selected            = True\n",
    "\n",
    "                    self.__apex         = ps.GetSelectedPointIds().GetId(0)\n",
    "\n",
    "            else:\n",
    "                selected            = True\n"
   ]
  }
 ],
 "metadata": {
  "kernelspec": {
   "display_name": "Python 2",
   "language": "python",
   "name": "python2"
  },
  "language_info": {
   "codemirror_mode": {
    "name": "ipython",
    "version": 2
   },
   "file_extension": ".py",
   "mimetype": "text/x-python",
   "name": "python",
   "nbconvert_exporter": "python",
   "pygments_lexer": "ipython2",
   "version": "2.7.13"
  }
 },
 "nbformat": 4,
 "nbformat_minor": 2
}
