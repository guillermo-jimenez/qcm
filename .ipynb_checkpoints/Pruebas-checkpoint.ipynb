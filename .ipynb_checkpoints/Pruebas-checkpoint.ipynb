{
 "cells": [
  {
   "cell_type": "code",
   "execution_count": 1,
   "metadata": {},
   "outputs": [
    {
     "data": {
      "text/plain": [
       "<module 'utils' from 'utils.pyc'>"
      ]
     },
     "execution_count": 1,
     "metadata": {},
     "output_type": "execute_result"
    }
   ],
   "source": [
    "import endo\n",
    "import time\n",
    "import utils\n",
    "\n",
    "from os.path import abspath\n",
    "from os.path import join\n",
    "\n",
    "reload(endo)\n",
    "reload(utils)"
   ]
  },
  {
   "cell_type": "code",
   "execution_count": 2,
   "metadata": {},
   "outputs": [
    {
     "name": "stdout",
     "output_type": "stream",
     "text": [
      "TO-DO: DOCUMENTATION\n",
      "TO-DO: DOCUMENTATION\n"
     ]
    }
   ],
   "source": [
    "pathMRI = join(abspath(''), 'Test_data', 'MRI.vtk')\n",
    "\n",
    "polydataMRI = utils.polydataReader(pathMRI)\n",
    "\n",
    "landmarksMRI = utils.landmarkSelector(polydataMRI, 2)"
   ]
  },
  {
   "cell_type": "code",
   "execution_count": 3,
   "metadata": {},
   "outputs": [
    {
     "name": "stdout",
     "output_type": "stream",
     "text": [
      "TO-DO: DOCUMENTATION\n",
      "TO-DO: DOCUMENTATION\n"
     ]
    }
   ],
   "source": [
    "pathEAM = join(abspath(''), 'Test_data', 'EAM.vtk')\n",
    "\n",
    "polydataEAM = utils.polydataReader(pathEAM)\n",
    "\n",
    "landmarksEAM = utils.landmarkSelector(polydataEAM, 2)"
   ]
  },
  {
   "cell_type": "code",
   "execution_count": 4,
   "metadata": {},
   "outputs": [
    {
     "name": "stdout",
     "output_type": "stream",
     "text": [
      "TO-DO: DOCUMENTATION\n",
      "TO-DO: DOCUMENTATION\n",
      "TO-DO: DOCUMENTATION\n",
      "TO-DO: DOCUMENTATION\n",
      "TO-DO: DOCUMENTATION\n",
      "TO-DO: DOCUMENTATION\n",
      "TO-DO: DOCUMENTATION\n",
      " *  Writing to default location: \n",
      "    C:\\Users\\guill\\Documents\\Git\\pyqcm\\Test_data\\Results\\MRI_Results.vtk\n",
      "\n",
      "TO-DO: DOCUMENTATION\n",
      "TO-DO: DOCUMENTATION\n",
      "TO-DO: DOCUMENTATION\n",
      "31.8959999084\n"
     ]
    }
   ],
   "source": [
    "start = time.time(); MRI = endo.PyQCM(pathMRI, landmarksMRI[0], landmarksMRI[1]); print(time.time() - start)"
   ]
  },
  {
   "cell_type": "code",
   "execution_count": 5,
   "metadata": {},
   "outputs": [
    {
     "name": "stdout",
     "output_type": "stream",
     "text": [
      "TO-DO: DOCUMENTATION\n",
      "TO-DO: DOCUMENTATION\n",
      "TO-DO: DOCUMENTATION\n",
      "TO-DO: DOCUMENTATION\n",
      "TO-DO: DOCUMENTATION\n",
      "TO-DO: DOCUMENTATION\n",
      "TO-DO: DOCUMENTATION\n",
      " *  Writing to default location: \n",
      "    C:\\Users\\guill\\Documents\\Git\\pyqcm\\Test_data\\Results\\EAM_Results.vtk\n",
      "\n",
      "TO-DO: DOCUMENTATION\n",
      "TO-DO: DOCUMENTATION\n",
      "TO-DO: DOCUMENTATION\n",
      "0.119999885559\n"
     ]
    }
   ],
   "source": [
    "start = time.time(); EAM = endo.PyQCM(pathEAM, landmarksEAM[0], landmarksEAM[1]); print(time.time() - start)"
   ]
  },
  {
   "cell_type": "code",
   "execution_count": 6,
   "metadata": {
    "collapsed": true
   },
   "outputs": [],
   "source": [
    "import vtk, numpy, scipy"
   ]
  },
  {
   "cell_type": "code",
   "execution_count": 7,
   "metadata": {},
   "outputs": [],
   "source": [
    "# scalars_lr = numpy.zeros((EAM.polydata.GetPointData().GetNumberOfArrays(), EAM.polydata.GetNumberOfPoints()))\n",
    "\n",
    "# for i in range(0, EAM.polydata.GetPointData().GetNumberOfArrays()):\n",
    "#     for j in range(0, EAM.polydata.GetNumberOfPoints()):\n",
    "#         scalars_lr[i,j] = EAM.polydata.GetPointData().GetArray(i).GetTuple1(j)"
   ]
  },
  {
   "cell_type": "code",
   "execution_count": 8,
   "metadata": {},
   "outputs": [],
   "source": [
    "# scalars_hr = numpy.zeros((MRI.polydata.GetPointData().GetNumberOfArrays(), MRI.polydata.GetNumberOfPoints()))\n",
    "\n",
    "# for i in range(0, MRI.polydata.GetPointData().GetNumberOfArrays()):\n",
    "#     for j in range(0, MRI.polydata.GetNumberOfPoints()):\n",
    "#         scalars_hr[i,j] = MRI.polydata.GetPointData().GetArray(i).GetTuple1(j)"
   ]
  },
  {
   "cell_type": "code",
   "execution_count": 9,
   "metadata": {
    "collapsed": true
   },
   "outputs": [],
   "source": [
    "# from sklearn.neighbors import NearestNeighbors;\n",
    "\n",
    "# kNN = NearestNeighbors(n_neighbors=3, radius=1.0, algorithm='auto', \n",
    "#                        leaf_size=30, metric='minkowski', p=5, \n",
    "#                        metric_params=None, n_jobs=1)\n",
    "# kNN.fit(EAM.homeomorphism.T, MRI.homeomorphism.T)\n",
    "# dist, indices   = kNN.kneighbors(MRI.homeomorphism.T)\n"
   ]
  },
  {
   "cell_type": "code",
   "execution_count": 10,
   "metadata": {},
   "outputs": [],
   "source": [
    "# for j in range(0, EAM.polydata.GetPointData().GetNumberOfArrays()):\n",
    "#     for i in range(0, MRI.polydata.GetNumberOfPoints()):\n",
    "#         dt                  = (1/dist[i,0]) + (1/dist[i,1]) + (1/dist[i,2])\n",
    "#         BIPS[j, i]          = ((1/dist[i,:])*scalars_lr[j, indices[i,:]]).sum()/dt"
   ]
  },
  {
   "cell_type": "code",
   "execution_count": 27,
   "metadata": {},
   "outputs": [
    {
     "name": "stdout",
     "output_type": "stream",
     "text": [
      "TO-DO: DOCUMENTATION\n",
      "4.87299990654\n"
     ]
    }
   ],
   "source": [
    "reload(utils)\n",
    "\n",
    "start = time.time()\n",
    "newPoly = utils.vtkInterpolator(MRI, EAM)\n",
    "print(time.time()-start)"
   ]
  },
  {
   "cell_type": "code",
   "execution_count": 62,
   "metadata": {},
   "outputs": [
    {
     "name": "stdout",
     "output_type": "stream",
     "text": [
      "TO-DO: DOCUMENTATION\n"
     ]
    }
   ],
   "source": [
    "reload(utils)\n",
    "\n",
    "utils.vtkVisualize(newPoly)"
   ]
  },
  {
   "cell_type": "code",
   "execution_count": 109,
   "metadata": {},
   "outputs": [
    {
     "name": "stdout",
     "output_type": "stream",
     "text": [
      "TO-DO: DOCUMENTATION\n"
     ]
    }
   ],
   "source": [
    "reload(utils)\n",
    "\n",
    "utils.vtkVisualize(newPoly, activeArray=2)"
   ]
  },
  {
   "cell_type": "code",
   "execution_count": 103,
   "metadata": {},
   "outputs": [
    {
     "name": "stdout",
     "output_type": "stream",
     "text": [
      "scalars\n",
      "Normals\n",
      "BIP\n"
     ]
    }
   ],
   "source": [
    "for i in range(0,newPoly.GetPointData().GetNumberOfArrays()):\n",
    "    print(newPoly.GetPointData().GetArray(i).GetName())"
   ]
  },
  {
   "cell_type": "code",
   "execution_count": 51,
   "metadata": {
    "collapsed": true
   },
   "outputs": [],
   "source": [
    "mapper = vtk.vtkPolyDataMapper()"
   ]
  },
  {
   "cell_type": "code",
   "execution_count": 77,
   "metadata": {},
   "outputs": [
    {
     "data": {
      "text/plain": [
       "-1"
      ]
     },
     "execution_count": 77,
     "metadata": {},
     "output_type": "execute_result"
    }
   ],
   "source": [
    "mapper.GetArrayId()"
   ]
  },
  {
   "cell_type": "code",
   "execution_count": 84,
   "metadata": {
    "collapsed": true
   },
   "outputs": [],
   "source": [
    "pd = newPoly.GetPointData().GetSca"
   ]
  },
  {
   "cell_type": "code",
   "execution_count": 86,
   "metadata": {},
   "outputs": [
    {
     "data": {
      "text/plain": [
       "(1000.0,)"
      ]
     },
     "execution_count": 86,
     "metadata": {},
     "output_type": "execute_result"
    }
   ],
   "source": [
    "pd.GetTuple(0)"
   ]
  },
  {
   "cell_type": "code",
   "execution_count": 71,
   "metadata": {},
   "outputs": [
    {
     "data": {
      "text/plain": [
       "(0.3227899968624115, 8.199810028076172)"
      ]
     },
     "execution_count": 71,
     "metadata": {},
     "output_type": "execute_result"
    }
   ],
   "source": [
    "EAM.polydata.GetPointData().GetArray(0).GetValueRange()"
   ]
  },
  {
   "cell_type": "code",
   "execution_count": 56,
   "metadata": {},
   "outputs": [
    {
     "data": {
      "text/plain": [
       "(0.0, 1000.0)"
      ]
     },
     "execution_count": 56,
     "metadata": {},
     "output_type": "execute_result"
    }
   ],
   "source": [
    "sc.GetValueRange()"
   ]
  },
  {
   "cell_type": "code",
   "execution_count": 37,
   "metadata": {},
   "outputs": [
    {
     "data": {
      "text/plain": [
       "'scalars'"
      ]
     },
     "execution_count": 37,
     "metadata": {},
     "output_type": "execute_result"
    }
   ],
   "source": [
    "MRI.polydata.GetPointData().GetScalars().GetName()"
   ]
  },
  {
   "cell_type": "code",
   "execution_count": 21,
   "metadata": {
    "collapsed": true
   },
   "outputs": [],
   "source": [
    "from sklearn.neighbors import NearestNeighbors\n",
    "from vtk import vtkFloatArray\n",
    "from numpy import zeros\n",
    "from scipy import where\n",
    "\n",
    "\n",
    "QCMLowRes = EAM\n",
    "QCMHighRes = MRI"
   ]
  },
  {
   "cell_type": "code",
   "execution_count": 26,
   "metadata": {},
   "outputs": [
    {
     "name": "stdout",
     "output_type": "stream",
     "text": [
      "1\n",
      "1\n",
      "1\n",
      "1\n"
     ]
    }
   ],
   "source": [
    "    kNN = NearestNeighbors(n_neighbors=3, radius=1.0, algorithm='auto', \n",
    "                           leaf_size=30, metric='minkowski', p=5, \n",
    "                           metric_params=None, n_jobs=1)\n",
    "    kNN.fit(QCMLowRes.homeomorphism.T, QCMHighRes.homeomorphism.T)\n",
    "    dist, indices   = kNN.kneighbors(QCMHighRes.homeomorphism.T)\n",
    "\n",
    "    # The new polydata will have the mesh of the high resolution polydata\n",
    "    newPolyData     = QCMHighRes.polydata\n",
    "    newDataArrays   = []\n",
    "\n",
    "    for i in range(0, QCMLowRes.polydata.GetPointData().GetNumberOfArrays()):\n",
    "        newDataArrays.append(vtkFloatArray())\n",
    "    #     newDataArrays[i].SetNumberOfTuples(QCMLowRes.polydata.GetNumberOfPoints())\n",
    "        newDataArrays[i].SetName(QCMLowRes.polydata.GetPointData().GetArray(i).GetName())\n",
    "\n",
    "    scalars_lr      = zeros((QCMLowRes.polydata.GetPointData().GetNumberOfArrays(), QCMLowRes.polydata.GetNumberOfPoints()))\n",
    "    BIPS            = zeros((QCMLowRes.polydata.GetPointData().GetNumberOfArrays(), QCMHighRes.polydata.GetNumberOfPoints()))\n",
    "\n",
    "    # Store the polydata scalars into a numpy array\n",
    "    for i in range(0, QCMLowRes.polydata.GetPointData().GetNumberOfArrays()):\n",
    "        for j in range(0, QCMLowRes.polydata.GetNumberOfPoints()):\n",
    "            scalars_lr[i,j] = QCMLowRes.polydata.GetPointData().GetArray(i).GetTuple1(j)\n",
    "\n",
    "    # If a zero value is found, replace it with the lowest possible number to\n",
    "    # avoid numerical errors\n",
    "    zeroIndex               = where(dist == 0.)\n",
    "    if zeroIndex[0].size > 0:\n",
    "        for j in range(0, zeroIndex[0].size):\n",
    "            dist[zeroIndex[0][j], zeroIndex[1][j]] = finfo(dist.dtype).eps\n",
    "\n",
    "    # Calculate the new scalar values for the low resolution QCM\n",
    "    for j in range(0, QCMLowRes.polydata.GetPointData().GetNumberOfArrays()):\n",
    "        for i in range(0, QCMHighRes.polydata.GetNumberOfPoints()):\n",
    "            dt                  = (1/dist[i,0]) + (1/dist[i,1]) + (1/dist[i,2])\n",
    "            BIPS[j, i]          = ((1/dist[i,:])*scalars_lr[j, indices[i,:]]).sum()/dt\n",
    "\n",
    "            newDataArrays[j].InsertNextValue(BIPS[j, i])\n",
    "\n",
    "    for dataArray in newDataArrays:\n",
    "        newPolyData.GetPointData().AddArray(dataArray)\n",
    "\n"
   ]
  },
  {
   "cell_type": "code",
   "execution_count": 25,
   "metadata": {},
   "outputs": [],
   "source": [
    "temp = newDataArrays[0]"
   ]
  },
  {
   "cell_type": "code",
   "execution_count": null,
   "metadata": {
    "collapsed": true
   },
   "outputs": [],
   "source": [
    "temp.InsertNextValue"
   ]
  },
  {
   "cell_type": "code",
   "execution_count": null,
   "metadata": {
    "collapsed": true
   },
   "outputs": [],
   "source": []
  },
  {
   "cell_type": "code",
   "execution_count": null,
   "metadata": {
    "collapsed": true
   },
   "outputs": [],
   "source": []
  },
  {
   "cell_type": "code",
   "execution_count": null,
   "metadata": {
    "collapsed": true
   },
   "outputs": [],
   "source": []
  }
 ],
 "metadata": {
  "kernelspec": {
   "display_name": "Python 2",
   "language": "python",
   "name": "python2"
  },
  "language_info": {
   "codemirror_mode": {
    "name": "ipython",
    "version": 2
   },
   "file_extension": ".py",
   "mimetype": "text/x-python",
   "name": "python",
   "nbconvert_exporter": "python",
   "pygments_lexer": "ipython2",
   "version": "2.7.13"
  }
 },
 "nbformat": 4,
 "nbformat_minor": 2
}
